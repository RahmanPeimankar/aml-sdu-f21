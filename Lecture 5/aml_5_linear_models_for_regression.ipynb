{
 "cells": [
  {
   "cell_type": "markdown",
   "metadata": {
    "slideshow": {
     "slide_type": "slide"
    }
   },
   "source": [
    "<center><img src=\"img/aml-logo.png\" width=\"600\"/>\n",
    "\n",
    "***\n",
    "\n",
    "<center>Lecture 5</center>\n",
    "\n",
    "***\n",
    "\n",
    "<center>Linear models for Regression</center>\n",
    "\n",
    "***\n",
    "\n",
    "<center>4 March 2021<center>\n",
    "<center>Rahman Peimankar<center>"
   ]
  },
  {
   "cell_type": "code",
   "execution_count": null,
   "metadata": {
    "slideshow": {
     "slide_type": "-"
    }
   },
   "outputs": [],
   "source": []
  },
  {
   "cell_type": "markdown",
   "metadata": {
    "slideshow": {
     "slide_type": "slide"
    }
   },
   "source": [
    "# Agenda"
   ]
  },
  {
   "cell_type": "markdown",
   "metadata": {
    "slideshow": {
     "slide_type": "-"
    }
   },
   "source": [
    "* Handling of Missing Values\n",
    "* Linear Models for Regression\n",
    "    * Ordinary Least Squares\n",
    "    * Bias and Variance\n",
    "    * Ridge Regression\n",
    "    * Lasso Regression\n",
    "    * Understanding L1 and L2 Penalties\n",
    "    * Elastic Net"
   ]
  },
  {
   "cell_type": "markdown",
   "metadata": {
    "slideshow": {
     "slide_type": "slide"
    }
   },
   "source": [
    "# Recap of Last Week"
   ]
  },
  {
   "cell_type": "markdown",
   "metadata": {
    "slideshow": {
     "slide_type": "-"
    }
   },
   "source": [
    "<div>\n",
    "<center>\n",
    "<img src=\"img/image-3-lecture4.jpg\" width=\"700\"/>\n",
    "</div>"
   ]
  },
  {
   "cell_type": "markdown",
   "metadata": {
    "slideshow": {
     "slide_type": "slide"
    }
   },
   "source": [
    "<div>\n",
    "<center>\n",
    "<img src=\"img/image-4-lecture4.jpg\" width=\"1200\"/>\n",
    "</div>"
   ]
  },
  {
   "cell_type": "markdown",
   "metadata": {
    "slideshow": {
     "slide_type": "slide"
    }
   },
   "source": [
    "<div>\n",
    "<center>\n",
    "<img src=\"img/image-5-lecture4.jpg\" width=\"1200\"/>\n",
    "</div>"
   ]
  },
  {
   "cell_type": "markdown",
   "metadata": {
    "slideshow": {
     "slide_type": "slide"
    }
   },
   "source": [
    "<div>\n",
    "<center>\n",
    "<img src=\"img/image-9-lecture4.jpg\" width=\"1200\"/>\n",
    "</div>"
   ]
  },
  {
   "cell_type": "markdown",
   "metadata": {
    "slideshow": {
     "slide_type": "slide"
    }
   },
   "source": [
    "<div>\n",
    "<center>\n",
    "<img src=\"img/image-11-lecture4.jpg\" width=\"1500\"/>\n",
    "</div>"
   ]
  },
  {
   "cell_type": "markdown",
   "metadata": {
    "slideshow": {
     "slide_type": "slide"
    }
   },
   "source": [
    "# Dealing with missing values"
   ]
  },
  {
   "cell_type": "markdown",
   "metadata": {
    "slideshow": {
     "slide_type": "-"
    }
   },
   "source": [
    "* Missing values can be encoded in many ways\n",
    "* Numpy has no standard format for it (often np.NaN) - pandas does\n",
    "* Sometimes: 999, ???, ?, np.inf, “N/A”, “Unknown“ …\n",
    "* Not discussing “missing output” - that’s semi-supervised learning.\n",
    "* Often missingness is informative (Use MissingIndicator)"
   ]
  },
  {
   "cell_type": "markdown",
   "metadata": {
    "slideshow": {
     "slide_type": "slide"
    }
   },
   "source": [
    "# Imputation Methods"
   ]
  },
  {
   "cell_type": "markdown",
   "metadata": {
    "slideshow": {
     "slide_type": "-"
    }
   },
   "source": [
    "* Mean / Median\n",
    "* kNN\n",
    "* Regression models\n",
    "* Matrix factorization (not in this lecture)"
   ]
  },
  {
   "cell_type": "markdown",
   "metadata": {
    "slideshow": {
     "slide_type": "slide"
    }
   },
   "source": [
    "# Mean and Median"
   ]
  },
  {
   "cell_type": "markdown",
   "metadata": {
    "slideshow": {
     "slide_type": "-"
    }
   },
   "source": [
    "<div>\n",
    "<center>\n",
    "<img src=\"img/image-1.png\" width=\"900\"/>\n",
    "</div>"
   ]
  },
  {
   "cell_type": "markdown",
   "metadata": {
    "slideshow": {
     "slide_type": "slide"
    }
   },
   "source": [
    "# KNN Imputation"
   ]
  },
  {
   "cell_type": "markdown",
   "metadata": {
    "slideshow": {
     "slide_type": "-"
    }
   },
   "source": [
    "* Find k nearest neighbors that have non-missing values.\n",
    "* Fill in all missing values using the average of the neighbors."
   ]
  },
  {
   "cell_type": "markdown",
   "metadata": {},
   "source": [
    "<div>\n",
    "<center>\n",
    "<img src=\"img/image-2.jpg\" width=\"900\"/>\n",
    "</div>"
   ]
  },
  {
   "cell_type": "markdown",
   "metadata": {
    "slideshow": {
     "slide_type": "skip"
    }
   },
   "source": [
    "# Model-Driven Imputation"
   ]
  },
  {
   "cell_type": "markdown",
   "metadata": {
    "slideshow": {
     "slide_type": "skip"
    }
   },
   "source": [
    "* Train regression model for missing values\n",
    "* Iterate: retrain after filling in"
   ]
  },
  {
   "cell_type": "markdown",
   "metadata": {
    "slideshow": {
     "slide_type": "skip"
    }
   },
   "source": [
    "# Comparision of Imputation Methods"
   ]
  },
  {
   "cell_type": "markdown",
   "metadata": {
    "slideshow": {
     "slide_type": "skip"
    }
   },
   "source": [
    "<div>\n",
    "<center>\n",
    "<img src=\"img/image-3.jpg\" width=\"1500\"/>\n",
    "</div>"
   ]
  },
  {
   "cell_type": "markdown",
   "metadata": {
    "slideshow": {
     "slide_type": "slide"
    }
   },
   "source": [
    "<font size=\"8\"><center> Linear Models"
   ]
  },
  {
   "cell_type": "markdown",
   "metadata": {
    "slideshow": {
     "slide_type": "slide"
    }
   },
   "source": [
    "# Linear Models for Regression"
   ]
  },
  {
   "cell_type": "markdown",
   "metadata": {
    "slideshow": {
     "slide_type": "-"
    }
   },
   "source": [
    "<div>\n",
    "<center>\n",
    "<table><tr>\n",
    "<td><font size='8'><img src=\"img/quest/Qimage-1.jpg\" width=\"300\"/>\n",
    "    <font size='8'><img src=\"img/quest/Qimage-2.jpg\" width=\"300\"/></td>\n",
    "<td><font size='8'><img src=\"img/quest/Qimage-4.jpg\" width=\"300\"/>\n",
    "    <font size='8'><img src=\"img/quest/Qimage-5.jpg\" width=\"300\"/></td>\n",
    "</tr></table>"
   ]
  },
  {
   "cell_type": "markdown",
   "metadata": {
    "slideshow": {
     "slide_type": "slide"
    }
   },
   "source": [
    "<div>\n",
    "<center>\n",
    "<font size='8'><img src=\"img/quest/Qimage-6.jpg\" width=\"400\"/>\n"
   ]
  },
  {
   "cell_type": "markdown",
   "metadata": {
    "slideshow": {
     "slide_type": "fragment"
    }
   },
   "source": [
    "<div>\n",
    "<center>\n",
    "<table><tr>\n",
    "<td><font size='8'><img src=\"img/quest/Qimage-7.jpg\" width=\"600\"/></td>\n",
    "<td><font size='8'><img src=\"img/quest/Qimage-8.jpg\" width=\"600\"/></td>\n",
    "</tr></table>"
   ]
  },
  {
   "cell_type": "markdown",
   "metadata": {
    "slideshow": {
     "slide_type": "slide"
    }
   },
   "source": [
    "<div>\n",
    "\n",
    "<table><tr>\n",
    "<td><font size='8'><img src=\"img/quest/Qimage-9.jpg\" width=\"300\"/></td>\n",
    "<td><font size='8'><img src=\"img/quest/Qimage-10.jpg\" width=\"300\"/></td>\n",
    "</tr></table>\n",
    "    \n",
    "$(b - y_1)^2 + (b - y_2)^2 + (b - y_3)^2 + (b - y_4)^2 + (b - y_5)^2 + (b - y_6)^2 + (b - y_7)^2 + (b - y_8)^2 + (b - y_9)^2 \\approx 24$\n",
    "    \n",
    " \n",
    "* This is our measure of how well this line fits the data.\n",
    "* It is called the \"sum of squared residuals\", because the residuals are the differences between the real data and the line, and we are summing the square of these values. "
   ]
  },
  {
   "cell_type": "markdown",
   "metadata": {
    "slideshow": {
     "slide_type": "slide"
    }
   },
   "source": [
    "\n",
    "<div>\n",
    "\n",
    "<table><tr>\n",
    "<td><img src=\"img/quest/Qimage-11.jpg\" width=\"350\"/>\n",
    "    \n",
    " </td>\n",
    "<td>\n",
    "    \n",
    "* The sum of squared residuals $\\approx$ 18\n",
    "* This is better than before</td>\n",
    "</tr></table>"
   ]
  },
  {
   "cell_type": "markdown",
   "metadata": {
    "slideshow": {
     "slide_type": "fragment"
    }
   },
   "source": [
    "\n",
    "<div>\n",
    "\n",
    "<table><tr>\n",
    "<td><img src=\"img/quest/Qimage-12.jpg\" width=\"350\"/>\n",
    "    \n",
    " </td>\n",
    "<td>\n",
    "\n",
    "* Does this fit improve if we rotate a little more?\n",
    "* Yes! The sum of squared residuals $\\approx$ 14\n",
    "* This is even better than before</td>\n",
    "</tr></table>"
   ]
  },
  {
   "cell_type": "markdown",
   "metadata": {
    "slideshow": {
     "slide_type": "slide"
    }
   },
   "source": [
    "\n",
    "<div>\n",
    "<center>\n",
    "<table><tr>\n",
    "<td><img src=\"img/quest/Qimage-13.jpg\" width=\"350\"/>\n",
    "    \n",
    " </td>\n",
    "<td>\n",
    "\n",
    "* What if we rotate the line a whole lot?\n",
    "* The fit gets worse. In this case the sum of squared residuals $\\approx$ 31.</td>\n",
    "</tr></table>"
   ]
  },
  {
   "cell_type": "markdown",
   "metadata": {
    "slideshow": {
     "slide_type": "slide"
    }
   },
   "source": [
    "\n",
    "<div>\n",
    "<center>\n",
    "<table><tr>\n",
    "<td><img src=\"img/quest/Qimage-14.jpg\" width=\"350\"/>\n",
    "    \n",
    "</td>\n",
    "<td>\n",
    "\n",
    "* The generic line equation is: $y = a*x + b$\n",
    "***\n",
    "* We want to find the optimal values for \"a\" and \"b\" so that we minimize the sum of squared residuals.\n",
    "***\n",
    "* In more general math terms ...\n",
    "***\n",
    "Sum of Squared Residulas $= ((a*x_1 + b) - y_1)^2 + ((a*x_2 + b) - y_2)^2 + \\dots$\n",
    "\n",
    "</tr></table>"
   ]
  },
  {
   "cell_type": "markdown",
   "metadata": {
    "slideshow": {
     "slide_type": "fragment"
    }
   },
   "source": [
    "Since we want the line that will give us the smallest sum of square, this method for finding the best values for \"a\" and \"b\" is called \"Least Squares\""
   ]
  },
  {
   "cell_type": "markdown",
   "metadata": {
    "slideshow": {
     "slide_type": "skip"
    }
   },
   "source": [
    "<div>\n",
    "<center>\n",
    "<img src=\"img/image-4.jpg\" width=\"800\"/>\n",
    "</div>"
   ]
  },
  {
   "cell_type": "markdown",
   "metadata": {
    "slideshow": {
     "slide_type": "skip"
    }
   },
   "source": [
    "<center>$\\hat y = w^T \\mathbf{x} + b = \\sum_{i=1}^{p} w_i x_i + b$"
   ]
  },
  {
   "cell_type": "markdown",
   "metadata": {
    "slideshow": {
     "slide_type": "skip"
    }
   },
   "source": [
    "# Ordinary Least Squares"
   ]
  },
  {
   "cell_type": "markdown",
   "metadata": {
    "slideshow": {
     "slide_type": "skip"
    }
   },
   "source": [
    "<center>$\\hat y = w^T \\mathbf{x} + b = \\sum_{i=1}^{p} w_i x_i + b$\n",
    "***\n",
    "<center>$\\min_{\\substack{w\\in I\\!R^{p}, b \\in I\\!R^{p}}} \\sum_{i=1}^{n} || w^T \\mathbf{x}_i + b - y_i ||^2$\n",
    "***\n",
    "Unique solution if $\\mathbf{X} = (\\mathbf{x_1}, \\dots , \\mathbf{x_n})^T$ has full column rank."
   ]
  },
  {
   "cell_type": "markdown",
   "metadata": {
    "slideshow": {
     "slide_type": "slide"
    }
   },
   "source": [
    "# Bias and Variance"
   ]
  },
  {
   "cell_type": "markdown",
   "metadata": {
    "slideshow": {
     "slide_type": "-"
    }
   },
   "source": [
    "<div>\n",
    "<center>\n",
    "<font size='8'><img src=\"img/quest/Qimage-15.jpg\" width=\"750\"/>\n"
   ]
  },
  {
   "cell_type": "markdown",
   "metadata": {
    "slideshow": {
     "slide_type": "-"
    }
   },
   "source": [
    "The first thing we do is split the data into two sets, one for training the machine learning algorithms and one for testing them."
   ]
  },
  {
   "cell_type": "markdown",
   "metadata": {
    "slideshow": {
     "slide_type": "slide"
    }
   },
   "source": [
    "<div>\n",
    "<center>\n",
    "<img src=\"img/quest/Qimage-16.jpg\" width=\"750\"/>\n"
   ]
  },
  {
   "cell_type": "markdown",
   "metadata": {
    "slideshow": {
     "slide_type": "-"
    }
   },
   "source": [
    "* The first machine learning algorithm that we will use is Linear Regression (Least Squares).\n",
    "* Linear regression fits a **Straight Line** to the <font color = 'blue'>training set.\n",
    "* <font color = 'black'>The **Straight Line** does not have the flexibility to accurately replicate the arc in the \"true\" relationship\n",
    "* The **Straight Line** will never capture the true relationship between weight and height, no matter how well we fit it to the <font color = 'blue'>"
   ]
  },
  {
   "cell_type": "markdown",
   "metadata": {
    "slideshow": {
     "slide_type": "fragment"
    }
   },
   "source": [
    "* The inability for a machine learning method (like linear regression) to capture the true relationship is called <font color = 'red'> **bias**."
   ]
  },
  {
   "cell_type": "markdown",
   "metadata": {
    "slideshow": {
     "slide_type": "slide"
    }
   },
   "source": [
    "<div>\n",
    "<center>\n",
    "<font size='8'><img src=\"img/quest/Qimage-17.jpg\" width=\"750\"/>\n"
   ]
  },
  {
   "cell_type": "markdown",
   "metadata": {
    "slideshow": {
     "slide_type": "-"
    }
   },
   "source": [
    "* Another machine learning method might fir a **Squiggly Line** to the <font color = 'blue'>training set.\n",
    "* <font color = 'black'> The **Squiggly Line** is super flexible and hugs the <font color = 'blue'>training set <font color = 'black'> along the arc of the true relationship. \n",
    "* The **Squiggly Line** has very little **bias**."
   ]
  },
  {
   "cell_type": "markdown",
   "metadata": {
    "slideshow": {
     "slide_type": "slide"
    }
   },
   "source": [
    "<div>\n",
    "<center>\n",
    "<font size='8'><img src=\"img/quest/Qimage-18.jpg\" width=\"900\"/>\n"
   ]
  },
  {
   "cell_type": "markdown",
   "metadata": {
    "slideshow": {
     "slide_type": "-"
    }
   },
   "source": [
    "* By calculating the sums of squares, we can see that the **Squiggly Line** fits the <font color = 'blue'>training set <font color = 'black'> much better than the **Straight Line**. "
   ]
  },
  {
   "cell_type": "markdown",
   "metadata": {
    "slideshow": {
     "slide_type": "slide"
    }
   },
   "source": [
    "We also have a <font color = 'green'>testing set."
   ]
  },
  {
   "cell_type": "markdown",
   "metadata": {
    "slideshow": {
     "slide_type": "-"
    }
   },
   "source": [
    "<div>\n",
    "<center>\n",
    "<font size='8'><img src=\"img/quest/Qimage-19.jpg\" width=\"700\"/>\n"
   ]
  },
  {
   "cell_type": "markdown",
   "metadata": {
    "slideshow": {
     "slide_type": "fragment"
    }
   },
   "source": [
    "Now let's calculate the Sums of Squares for the <font color = 'green'>testing set."
   ]
  },
  {
   "cell_type": "markdown",
   "metadata": {
    "slideshow": {
     "slide_type": "-"
    }
   },
   "source": [
    "<div>\n",
    "<center>\n",
    "<font size='8'><img src=\"img/quest/Qimage-20.jpg\" width=\"700\"/>\n"
   ]
  },
  {
   "cell_type": "markdown",
   "metadata": {
    "slideshow": {
     "slide_type": "fragment"
    }
   },
   "source": [
    "* By calculating the sums of squares, we can see that the **Straight Line** fits the <font color = 'green'>testing set <font color = 'black'> much better than the **Squiggly Line**."
   ]
  },
  {
   "cell_type": "markdown",
   "metadata": {
    "slideshow": {
     "slide_type": "slide"
    }
   },
   "source": [
    "* Even though **Squiggly Line** did a great job fitting the <font color = 'blue'>training set ...\n",
    "* <font color = 'black'>It did a terrible job fitting the <font color = 'green'>testing set"
   ]
  },
  {
   "cell_type": "markdown",
   "metadata": {
    "slideshow": {
     "slide_type": "-"
    }
   },
   "source": [
    "<div>\n",
    "<center>\n",
    "<font size='8'><img src=\"img/quest/Qimage-21.jpg\" width=\"900\"/>\n"
   ]
  },
  {
   "cell_type": "markdown",
   "metadata": {
    "slideshow": {
     "slide_type": "fragment"
    }
   },
   "source": [
    "In Machine Learning lingo, the difference in fits between data sets is called **Variance**"
   ]
  },
  {
   "cell_type": "markdown",
   "metadata": {
    "slideshow": {
     "slide_type": "slide"
    }
   },
   "source": [
    "# Conclusion"
   ]
  },
  {
   "cell_type": "markdown",
   "metadata": {
    "slideshow": {
     "slide_type": "-"
    }
   },
   "source": [
    "* The **Squiggly Line** has **low bias**, since it is flexible and can adapt to the curve in the relationship between weight and height...\n",
    "* But the **Squiggly Line** has **high variability**, because it results in vastly different Sums of Squares for different datasets.    \n",
    "    \n",
    "* In contrast, the **Straight Line** has relatively **high bias**, since it can not capture the curve in the relationship between weight and height...\n",
    "* But the **Straight Line** has relatively **low variance**, because the Sums of Squares are very similar for different datasets."
   ]
  },
  {
   "cell_type": "markdown",
   "metadata": {
    "slideshow": {
     "slide_type": "fragment"
    }
   },
   "source": [
    "Because the **Squiggly Line** fits the <font color = 'blue'>training set <font color = 'black'>really well, but not the <font color = 'blue'>testing set, <font color = 'black'> we say that the **Squiggly Line** is **overfit**."
   ]
  },
  {
   "cell_type": "markdown",
   "metadata": {
    "slideshow": {
     "slide_type": "slide"
    }
   },
   "source": [
    "<div>\n",
    "<center>\n",
    "<font size='8'><img src=\"img/quest/Qimage-22.jpg\" width=\"500\"/>"
   ]
  },
  {
   "cell_type": "markdown",
   "metadata": {
    "slideshow": {
     "slide_type": "-"
    }
   },
   "source": [
    "* In machine learning, the ideal algorithm has **low bias** and can accurately model the true relationship...\n",
    "* And it has **low variability**, by producing consistent predictions across different datasets."
   ]
  },
  {
   "cell_type": "markdown",
   "metadata": {
    "slideshow": {
     "slide_type": "fragment"
    }
   },
   "source": [
    "This is done by finding the sweet spot between a simple model and a complex model."
   ]
  },
  {
   "cell_type": "markdown",
   "metadata": {
    "slideshow": {
     "slide_type": "-"
    }
   },
   "source": [
    "\n",
    "<div>\n",
    "<center>\n",
    "<table><tr>\n",
    "<td><font size='8'><img src=\"img/quest/Qimage-23.jpg\" width=\"500\"/></td>\n",
    "<td><font size='8'><img src=\"img/image-5.jpg\" width=\"400\"/></td>\n",
    "</tr></table>"
   ]
  },
  {
   "cell_type": "markdown",
   "metadata": {
    "slideshow": {
     "slide_type": "fragment"
    }
   },
   "source": [
    "Three commonly used methods for finding the sweet spot between simple and complicated models are: **regularization**, **boosting** and **bagging**."
   ]
  },
  {
   "cell_type": "markdown",
   "metadata": {
    "slideshow": {
     "slide_type": "slide"
    }
   },
   "source": [
    "# Ridge Regression"
   ]
  },
  {
   "cell_type": "markdown",
   "metadata": {
    "slideshow": {
     "slide_type": "-"
    }
   },
   "source": [
    "* Look at a simple example that shows the main idea behind Ridge Regression...\n",
    "* Go into details about how Ridge Regression works...\n",
    "* Lastly, show how Ridge Regression works..."
   ]
  },
  {
   "cell_type": "markdown",
   "metadata": {
    "slideshow": {
     "slide_type": "slide"
    }
   },
   "source": [
    "<div>\n",
    "<center>\n",
    "<font size='8'><img src=\"img/quest/Qimage-24.jpg\" width=\"400\"/>"
   ]
  },
  {
   "cell_type": "markdown",
   "metadata": {
    "slideshow": {
     "slide_type": "-"
    }
   },
   "source": [
    "But what if we only have two measurements?"
   ]
  },
  {
   "cell_type": "markdown",
   "metadata": {
    "slideshow": {
     "slide_type": "-"
    }
   },
   "source": [
    "<div>\n",
    "\n",
    "<table><tr>\n",
    "<td><img src=\"img/quest/Qimage-25.jpg\" width=\"400\"/></td>\n",
    "<td>\n",
    "\n",
    "* We fit a New Line with Least Square\n",
    "* Sinc the New Line overlaps the two data points, the minimum sum of squared residuals = 0.\n",
    "    \n",
    "</td>\n",
    "</tr></table>"
   ]
  },
  {
   "cell_type": "markdown",
   "metadata": {
    "slideshow": {
     "slide_type": "slide"
    }
   },
   "source": [
    "<div>\n",
    "\n",
    "<table><tr>\n",
    "<td><img src=\"img/quest/Qimage-27.jpg\" width=\"400\"/></td>\n",
    "<td>\n",
    "\n",
    "* The sum of the squared residuals for just the <font color='red'>Two Red Points, <font color='black'>the <font color='red'> Training Data, <font color='black'>, is small (in this case it is 0)...\n",
    "* But the sum of the squared residuals for the <font color='green'> Green Points, <font color='black'> the <font color='green'> Testing data, <font color='black'> is large...\n",
    "* That means that the New Line has **High Variance**\n",
    "    \n",
    "</td>\n",
    "</tr></table>"
   ]
  },
  {
   "cell_type": "markdown",
   "metadata": {
    "slideshow": {
     "slide_type": "fragment"
    }
   },
   "source": [
    "<div>\n",
    "<table><tr>\n",
    "<td><img src=\"img/quest/Qimage-28.jpg\" width=\"400\"/></td>\n",
    "<td>\n",
    "\n",
    "* The main idea behind <font color='blue'> Ridge Regression <font color='black'> is to find a <font color='blue'> New Line <font color='black'>that does not fit the <font color='red'> Training Data <font color='black'> as well...\n",
    "* In other words, we introduce a small amount of **Bias** into the <font color='blue'> New Line <font color='black'> is fit to the data...\n",
    "    \n",
    "</td>\n",
    "</tr></table>"
   ]
  },
  {
   "cell_type": "markdown",
   "metadata": {
    "slideshow": {
     "slide_type": "slide"
    }
   },
   "source": [
    "<div>\n",
    "<table><tr>\n",
    "<td><img src=\"img/quest/Qimage-29.jpg\" width=\"400\"/></td>\n",
    "<td>\n",
    "\n",
    "* But in return for that small amount of **Bias**, we get a significant drop in **Variance**.\n",
    "* In other words, by starting with a slightly worse fit, <font color='blue'> Ridge Regression <font color='black'> can provide better long term predictions.\n",
    "    \n",
    "</td>\n",
    "</tr></table>"
   ]
  },
  {
   "cell_type": "markdown",
   "metadata": {
    "slideshow": {
     "slide_type": "slide"
    }
   },
   "source": [
    "<div>\n",
    "<table><tr>\n",
    "<td><img src=\"img/quest/Qimage-30.jpg\" width=\"400\"/></td>\n",
    "<td>\n",
    "\n",
    "* <font color='blue'> Ridge Regression <font color='black'> determines values for the parameters in the equation below:<br>\n",
    "    **Size** = y-axis intercept + slope * **Weight**<br>\n",
    "    ... it minimizes ...<br>\n",
    "    **the sum of the squared residuals** **+** <font color='red'>$\\mathbf{\\alpha}$ * **the slope$^2$**<b>\n",
    "    \n",
    "    \n",
    "</td>\n",
    "</tr></table>"
   ]
  },
  {
   "cell_type": "markdown",
   "metadata": {
    "slideshow": {
     "slide_type": "fragment"
    }
   },
   "source": [
    "* The <font color='red'> red part <font color='black'> of the equation adds a penalty to the traditional **Least Squares** method...\n",
    "* And the $\\alpha$ (alpha) determines how severe that penalty is."
   ]
  },
  {
   "cell_type": "markdown",
   "metadata": {
    "slideshow": {
     "slide_type": "slide"
    }
   },
   "source": [
    "# Boston Housing Dataset"
   ]
  },
  {
   "cell_type": "code",
   "execution_count": 1,
   "metadata": {
    "slideshow": {
     "slide_type": "skip"
    }
   },
   "outputs": [
    {
     "data": {
      "image/png": "[encoded data removed]",
      "text/plain": [
       "<Figure size 1440x720 with 15 Axes>"
      ]
     },
     "metadata": {
      "needs_background": "light"
     },
     "output_type": "display_data"
    }
   ],
   "source": [
    "import matplotlib.pyplot as plt\n",
    "import numpy as np\n",
    "plt.rcParams['savefig.dpi'] = 300\n",
    "plt.rcParams['savefig.bbox'] = 'tight'\n",
    "\n",
    "from sklearn.linear_model import Ridge, LinearRegression, Lasso, RidgeCV, LassoCV\n",
    "from sklearn.model_selection import cross_val_score\n",
    "from sklearn.datasets import load_boston\n",
    "\n",
    "boston = load_boston()\n",
    "X, y = boston.data, boston.target\n",
    "\n",
    "fig, axes = plt.subplots(3, 5, figsize=(20, 10))\n",
    "for i, ax in enumerate(axes.ravel()):\n",
    "    if i > 12:\n",
    "        ax.set_visible(False)\n",
    "        continue\n",
    "    ax.plot(X[:, i], y, 'o', alpha=.5)\n",
    "    ax.set_title(\"{}: {}\".format(i, boston.feature_names[i]))\n",
    "    ax.set_ylabel(\"MEDV\")"
   ]
  },
  {
   "cell_type": "markdown",
   "metadata": {
    "slideshow": {
     "slide_type": "-"
    }
   },
   "source": [
    "<div>\n",
    "<center>\n",
    "<img src=\"img/image-6.png\" width=\"1200\"/>\n",
    "</div>"
   ]
  },
  {
   "cell_type": "code",
   "execution_count": 2,
   "metadata": {
    "slideshow": {
     "slide_type": "-"
    }
   },
   "outputs": [
    {
     "name": "stdout",
     "output_type": "stream",
     "text": [
      "(506, 13)\n",
      "(506,)\n"
     ]
    }
   ],
   "source": [
    "print(X.shape)\n",
    "print(y.shape)"
   ]
  },
  {
   "cell_type": "code",
   "execution_count": 3,
   "metadata": {
    "slideshow": {
     "slide_type": "slide"
    }
   },
   "outputs": [
    {
     "data": {
      "text/plain": [
       "<Figure size 6000x3000 with 0 Axes>"
      ]
     },
     "execution_count": 3,
     "metadata": {},
     "output_type": "execute_result"
    },
    {
     "data": {
      "image/png": "[encoded data removed]",
      "text/plain": [
       "<Figure size 432x288 with 1 Axes>"
      ]
     },
     "metadata": {
      "needs_background": "light"
     },
     "output_type": "display_data"
    },
    {
     "data": {
      "text/plain": [
       "<Figure size 6000x3000 with 0 Axes>"
      ]
     },
     "metadata": {},
     "output_type": "display_data"
    }
   ],
   "source": [
    "plt.boxplot(X)\n",
    "plt.xticks(np.arange(1, X.shape[1] + 1), boston.feature_names, rotation=45, ha='right', fontsize=18)\n",
    "plt.ylabel('MEDV', fontsize=18)\n",
    "plt.yticks(fontsize=18)\n",
    "plt.figure(figsize=(20, 10), dpi=300)\n"
   ]
  },
  {
   "cell_type": "code",
   "execution_count": 4,
   "metadata": {
    "slideshow": {
     "slide_type": "slide"
    }
   },
   "outputs": [
    {
     "data": {
      "text/plain": [
       "0.717186631342676"
      ]
     },
     "execution_count": 4,
     "metadata": {},
     "output_type": "execute_result"
    }
   ],
   "source": [
    "from sklearn.linear_model import LinearRegression\n",
    "from sklearn.model_selection import train_test_split\n",
    "\n",
    "X_train, X_test, y_train, y_test = train_test_split(X, y, random_state=0)\n",
    "np.mean(cross_val_score(LinearRegression(), X_train, y_train, cv=10))"
   ]
  },
  {
   "cell_type": "markdown",
   "metadata": {
    "slideshow": {
     "slide_type": "slide"
    }
   },
   "source": [
    "# Coefficient of determination $R^2$ (R-squared)"
   ]
  },
  {
   "cell_type": "markdown",
   "metadata": {
    "slideshow": {
     "slide_type": "-"
    }
   },
   "source": [
    "<center>$R^2(y,\\hat y) = 1 - \\frac{\\sum_{i=0}^{n-1}(y_i - \\hat y_i)^2}{\\sum_{i=0}^{n-1}(y_i - \\bar y_i)^2}$\n",
    "    \n",
    "***\n",
    "<center>$ \\bar y = \\frac{1}{n} \\sum_{i=0}^{n-1}y_i$ \n",
    "    \n",
    "Can be negative for biased estimators - or the test set!"
   ]
  },
  {
   "cell_type": "markdown",
   "metadata": {
    "slideshow": {
     "slide_type": "slide"
    }
   },
   "source": [
    "# Ridge() Parameter Optimization"
   ]
  },
  {
   "cell_type": "code",
   "execution_count": 5,
   "metadata": {
    "slideshow": {
     "slide_type": "-"
    }
   },
   "outputs": [
    {
     "data": {
      "text/plain": [
       "{'alpha': array([   0.001,    0.003,    0.01 ,    0.032,    0.1  ,    0.316,\n",
       "           1.   ,    3.162,   10.   ,   31.623,  100.   ,  316.228,\n",
       "        1000.   ])}"
      ]
     },
     "execution_count": 5,
     "metadata": {},
     "output_type": "execute_result"
    }
   ],
   "source": [
    "import numpy as np\n",
    "from sklearn.model_selection import GridSearchCV\n",
    "param_grid = {'alpha': np.logspace(-3, 3, 13)}\n",
    "np.set_printoptions(suppress=True, precision=3)\n",
    "param_grid\n"
   ]
  },
  {
   "cell_type": "code",
   "execution_count": 6,
   "metadata": {
    "slideshow": {
     "slide_type": "-"
    }
   },
   "outputs": [
    {
     "data": {
      "text/plain": [
       "0.7171937896670368"
      ]
     },
     "execution_count": 6,
     "metadata": {},
     "output_type": "execute_result"
    }
   ],
   "source": [
    "grid = GridSearchCV(Ridge(), param_grid, cv=10)\n",
    "grid.fit(X_train, y_train)\n",
    "grid.best_score_\n"
   ]
  },
  {
   "cell_type": "markdown",
   "metadata": {
    "slideshow": {
     "slide_type": "-"
    }
   },
   "source": [
    "<div>\n",
    "<center>\n",
    "<img src=\"img/image-7.jpg\" width=\"500\"/>\n",
    "</div>"
   ]
  },
  {
   "cell_type": "markdown",
   "metadata": {
    "slideshow": {
     "slide_type": "slide"
    }
   },
   "source": [
    "# Adding features"
   ]
  },
  {
   "cell_type": "code",
   "execution_count": 7,
   "metadata": {
    "slideshow": {
     "slide_type": "-"
    }
   },
   "outputs": [
    {
     "name": "stdout",
     "output_type": "stream",
     "text": [
      "(506, 105)\n"
     ]
    }
   ],
   "source": [
    "from sklearn.preprocessing import PolynomialFeatures, scale\n",
    "poly = PolynomialFeatures()\n",
    "\n",
    "boston = load_boston()\n",
    "X, y = boston.data, boston.target\n",
    "\n",
    "#scaler = StandardScaler()\n",
    "\n",
    "X_poly = poly.fit_transform(scale(X)) \n",
    "print(X_poly.shape)\n",
    "X_train, X_test, y_train, y_test = train_test_split(X_poly, y, random_state=42)\n"
   ]
  },
  {
   "cell_type": "code",
   "execution_count": 8,
   "metadata": {
    "slideshow": {
     "slide_type": "-"
    }
   },
   "outputs": [
    {
     "data": {
      "text/plain": [
       "0.8227099613418727"
      ]
     },
     "execution_count": 8,
     "metadata": {},
     "output_type": "execute_result"
    }
   ],
   "source": [
    "np.mean(cross_val_score(Ridge(), X_train, y_train, cv=10))\n"
   ]
  },
  {
   "cell_type": "code",
   "execution_count": 9,
   "metadata": {
    "slideshow": {
     "slide_type": "-"
    }
   },
   "outputs": [
    {
     "data": {
      "text/plain": [
       "GridSearchCV(cv=10, estimator=Ridge(),\n",
       "             param_grid={'alpha': array([   0.001,    0.003,    0.01 ,    0.032,    0.1  ,    0.316,\n",
       "          1.   ,    3.162,   10.   ,   31.623,  100.   ,  316.228,\n",
       "       1000.   ])},\n",
       "             return_train_score=True)"
      ]
     },
     "execution_count": 9,
     "metadata": {},
     "output_type": "execute_result"
    }
   ],
   "source": [
    "param_grid = {'alpha': np.logspace(-3, 3, 13)}\n",
    "\n",
    "grid = GridSearchCV(Ridge(), param_grid, cv=10, return_train_score=True)\n",
    "grid.fit(X_train, y_train)\n"
   ]
  },
  {
   "cell_type": "code",
   "execution_count": 10,
   "metadata": {
    "slideshow": {
     "slide_type": "slide"
    }
   },
   "outputs": [
    {
     "data": {
      "image/png": "[encoded data removed]",
      "text/plain": [
       "<Figure size 432x288 with 1 Axes>"
      ]
     },
     "metadata": {
      "needs_background": "light"
     },
     "output_type": "display_data"
    }
   ],
   "source": [
    "import pandas as pd\n",
    "results = pd.DataFrame(grid.cv_results_)\n",
    "results.plot('param_alpha', 'mean_train_score')\n",
    "results.plot('param_alpha', 'mean_test_score', ax=plt.gca())\n",
    "plt.fill_between(results.param_alpha.astype(np.float),\n",
    "                 results['mean_train_score'] + results['std_train_score'],\n",
    "                 results['mean_train_score'] - results['std_train_score'], alpha=0.2)\n",
    "plt.fill_between(results.param_alpha.astype(np.float),\n",
    "                 results['mean_test_score'] + results['std_test_score'],\n",
    "                 results['mean_test_score'] - results['std_test_score'], alpha=0.2)\n",
    "plt.legend()\n",
    "plt.xscale(\"log\")\n"
   ]
  },
  {
   "cell_type": "code",
   "execution_count": 11,
   "metadata": {
    "slideshow": {
     "slide_type": "-"
    }
   },
   "outputs": [
    {
     "name": "stdout",
     "output_type": "stream",
     "text": [
      "{'alpha': 10.0}\n",
      "0.8560976200047946\n"
     ]
    }
   ],
   "source": [
    "print(grid.best_params_)\n",
    "print(grid.best_score_)\n"
   ]
  },
  {
   "cell_type": "markdown",
   "metadata": {
    "slideshow": {
     "slide_type": "slide"
    }
   },
   "source": [
    "# Ridge Coefficients"
   ]
  },
  {
   "cell_type": "code",
   "execution_count": 12,
   "metadata": {
    "slideshow": {
     "slide_type": "-"
    }
   },
   "outputs": [
    {
     "data": {
      "text/plain": [
       "<matplotlib.collections.PathCollection at 0x2c981975cd0>"
      ]
     },
     "execution_count": 12,
     "metadata": {},
     "output_type": "execute_result"
    },
    {
     "data": {
      "image/png": "[encoded data removed]",
      "text/plain": [
       "<Figure size 432x288 with 1 Axes>"
      ]
     },
     "metadata": {
      "needs_background": "light"
     },
     "output_type": "display_data"
    }
   ],
   "source": [
    "ridge = grid.best_estimator_\n",
    "plt.scatter(range(X_poly.shape[1]), ridge.coef_, c=np.sign(ridge.coef_), cmap=\"bwr_r\")\n"
   ]
  },
  {
   "cell_type": "markdown",
   "metadata": {
    "slideshow": {
     "slide_type": "slide"
    }
   },
   "source": [
    "# Alpha Effect on Coeffiecients"
   ]
  },
  {
   "cell_type": "code",
   "execution_count": 13,
   "metadata": {
    "slideshow": {
     "slide_type": "-"
    }
   },
   "outputs": [
    {
     "data": {
      "text/plain": [
       "<matplotlib.legend.Legend at 0x2c981988dc0>"
      ]
     },
     "execution_count": 13,
     "metadata": {},
     "output_type": "execute_result"
    },
    {
     "data": {
      "image/png": "[encoded data removed]",
      "text/plain": [
       "<Figure size 720x576 with 1 Axes>"
      ]
     },
     "metadata": {
      "needs_background": "light"
     },
     "output_type": "display_data"
    }
   ],
   "source": [
    "ridge100 = Ridge(alpha=100).fit(X_train, y_train)\n",
    "ridge1 = Ridge(alpha=1).fit(X_train, y_train)\n",
    "plt.figure(figsize=(10, 8))\n",
    "plt.plot(ridge1.coef_, 'o', label=\"alpha=1\")\n",
    "plt.plot(ridge.coef_, 'o', label=\"alpha=10\")\n",
    "plt.plot(ridge100.coef_, 'o', label=\"alpha=100\")\n",
    "plt.legend()"
   ]
  },
  {
   "cell_type": "markdown",
   "metadata": {
    "slideshow": {
     "slide_type": "skip"
    }
   },
   "source": [
    "# Learning Curves"
   ]
  },
  {
   "cell_type": "markdown",
   "metadata": {
    "slideshow": {
     "slide_type": "skip"
    }
   },
   "source": [
    "<div>\n",
    "<center>\n",
    "<img src=\"img/image-9.jpg\" width=\"500\"/>\n",
    "</div>"
   ]
  },
  {
   "cell_type": "markdown",
   "metadata": {
    "slideshow": {
     "slide_type": "slide"
    }
   },
   "source": [
    "# Lasso Regression"
   ]
  },
  {
   "cell_type": "markdown",
   "metadata": {
    "slideshow": {
     "slide_type": "-"
    }
   },
   "source": [
    "Lasso and Ridge Regression are **very similar** but there is a **very big difference**."
   ]
  },
  {
   "cell_type": "markdown",
   "metadata": {
    "slideshow": {
     "slide_type": "fragment"
    }
   },
   "source": [
    "<div>\n",
    "<table><tr>\n",
    "<td><img src=\"img/quest/Qimage-30.jpg\" width=\"400\"/></td>\n",
    "<td>\n",
    "\n",
    "* If, instead of squaring the slope...<br>\n",
    "    **Size** = y-axis intercept + slope * **Weight**<br>\n",
    "    ... it minimizes ...<br>\n",
    "    **the sum of the squared residuals** **+** $\\mathbf{\\alpha}$ * <font color='green'>|the slope| <strike> <font color='red'>**the slope$^2$**<strike> <br>\n",
    "    \n",
    "    \n",
    "</td>\n",
    "</tr></table>"
   ]
  },
  {
   "cell_type": "markdown",
   "metadata": {
    "slideshow": {
     "slide_type": "-"
    }
   },
   "source": [
    "Like **Ridge Regression, Lasso Regression** results in a line with a little bit of **Bias**."
   ]
  },
  {
   "cell_type": "markdown",
   "metadata": {
    "slideshow": {
     "slide_type": "-"
    }
   },
   "source": [
    "<center>$\\min_{\\substack{w\\in I\\!R^{p}, b \\in I\\!R}} \\sum_{i=1}^{n} ||w^T \\mathbf{x}_i + b - y_i||^2 + \\alpha ||w||_1$"
   ]
  },
  {
   "cell_type": "markdown",
   "metadata": {
    "slideshow": {
     "slide_type": "slide"
    }
   },
   "source": [
    "# Understanding L1 and L2 Penalties"
   ]
  },
  {
   "cell_type": "markdown",
   "metadata": {
    "slideshow": {
     "slide_type": "-"
    }
   },
   "source": [
    "<div>\n",
    "<center>\n",
    "<img src=\"img/image-10.jpg\" width=\"500\"/>\n",
    "</div>"
   ]
  },
  {
   "cell_type": "markdown",
   "metadata": {
    "slideshow": {
     "slide_type": "-"
    }
   },
   "source": [
    "$l_2(w) = \\sqrt{\\sum_{i}^{}w_{i}^{2}}$\n",
    "***\n",
    "$l_1(w) = \\sum_{i}^{}|w_{i}|$\n",
    "***\n",
    "$l_0(w) = \\sum_{i}^{}1_{w_{i}!=0}$"
   ]
  },
  {
   "cell_type": "markdown",
   "metadata": {
    "slideshow": {
     "slide_type": "slide"
    }
   },
   "source": [
    "# Understanding L1 and L2 Penalties"
   ]
  },
  {
   "cell_type": "markdown",
   "metadata": {
    "slideshow": {
     "slide_type": "-"
    }
   },
   "source": [
    "<div>\n",
    "<center>\n",
    "<img src=\"img/image-11.jpg\" width=\"500\"/>\n",
    "</div>"
   ]
  },
  {
   "cell_type": "markdown",
   "metadata": {
    "slideshow": {
     "slide_type": "-"
    }
   },
   "source": [
    "$f(x) = (2x - 1)^2$\n",
    "***\n",
    "$f(x) + L_2 = (2x-1)^2 + \\alpha x^2$\n",
    "***\n",
    "$f(x) + L_1 = (2x-1)^2 + \\alpha |x|$"
   ]
  },
  {
   "cell_type": "markdown",
   "metadata": {
    "slideshow": {
     "slide_type": "slide"
    }
   },
   "source": [
    "# Understanding L1 and L2 Penalties"
   ]
  },
  {
   "cell_type": "markdown",
   "metadata": {
    "slideshow": {
     "slide_type": "-"
    }
   },
   "source": [
    "<div>\n",
    "<center>\n",
    "<img src=\"img/image-12.jpg\" width=\"500\"/>\n",
    "</div>"
   ]
  },
  {
   "cell_type": "markdown",
   "metadata": {
    "slideshow": {
     "slide_type": "slide"
    }
   },
   "source": [
    "# Understanding L1 and L2 Penalties"
   ]
  },
  {
   "cell_type": "markdown",
   "metadata": {
    "slideshow": {
     "slide_type": "-"
    }
   },
   "source": [
    "<div>\n",
    "<center>\n",
    "<img src=\"img/image-13.jpg\" width=\"500\"/>\n",
    "</div>"
   ]
  },
  {
   "cell_type": "markdown",
   "metadata": {
    "slideshow": {
     "slide_type": "slide"
    }
   },
   "source": [
    "# Elastic Net"
   ]
  },
  {
   "cell_type": "markdown",
   "metadata": {
    "slideshow": {
     "slide_type": "-"
    }
   },
   "source": [
    "* Combines benefits of Ridge and Lasso\n",
    "* two parameters to tune."
   ]
  },
  {
   "cell_type": "markdown",
   "metadata": {
    "slideshow": {
     "slide_type": "-"
    }
   },
   "source": [
    "<center>$\\min_{\\substack{w\\in I\\!R^{p}, b \\in I\\!R}} \\sum_{i=1}^{n} ||w^T \\mathbf{x}_i + b - y_i||^2 + \\alpha_1 ||w||_1 + \\alpha_2 ||w||_2^2$"
   ]
  },
  {
   "cell_type": "markdown",
   "metadata": {
    "slideshow": {
     "slide_type": "slide"
    }
   },
   "source": [
    "# Comparing unit balls"
   ]
  },
  {
   "cell_type": "markdown",
   "metadata": {
    "slideshow": {
     "slide_type": "-"
    }
   },
   "source": [
    "<div>\n",
    "<center>\n",
    "<img src=\"img/image-14.jpg\" width=\"500\"/>\n",
    "</div>"
   ]
  },
  {
   "cell_type": "markdown",
   "metadata": {
    "slideshow": {
     "slide_type": "slide"
    }
   },
   "source": [
    "# Parametrization in scikit-learn"
   ]
  },
  {
   "cell_type": "markdown",
   "metadata": {
    "slideshow": {
     "slide_type": "-"
    }
   },
   "source": [
    "<center>$\\min_{\\substack{w\\in I\\!R^{p}, b \\in I\\!R}} \\sum_{i=1}^{n} ||w^T \\mathbf{x}_i + b - y_i||^2 + \\alpha \\zeta ||w||_1 + \\alpha (1 - \\zeta) ||w||_2^2$"
   ]
  },
  {
   "cell_type": "markdown",
   "metadata": {
    "slideshow": {
     "slide_type": "-"
    }
   },
   "source": [
    "Where $\\zeta$ is the relative amount of $l_1$ penalty ($l_1$_ratio in the code)."
   ]
  },
  {
   "cell_type": "markdown",
   "metadata": {
    "slideshow": {
     "slide_type": "slide"
    }
   },
   "source": [
    "# Grid-searching ElasticNet"
   ]
  },
  {
   "cell_type": "code",
   "execution_count": 14,
   "metadata": {
    "slideshow": {
     "slide_type": "-"
    }
   },
   "outputs": [
    {
     "name": "stdout",
     "output_type": "stream",
     "text": [
      "{'alpha': 0.046415888336127774, 'l1_ratio': 0.1}\n",
      "0.8587392730776562\n"
     ]
    }
   ],
   "source": [
    "import warnings\n",
    "warnings.filterwarnings('ignore')\n",
    "\n",
    "from sklearn.linear_model import ElasticNet\n",
    "param_grid = {'alpha': np.logspace(-4, -1, 10),\n",
    "'l1_ratio': [0.01, .1, .5, .9, .98, 1]}\n",
    "grid = GridSearchCV(ElasticNet(), param_grid, cv=10)\n",
    "grid.fit(X_train, y_train)\n",
    "print(grid.best_params_)\n",
    "print(grid.best_score_)"
   ]
  },
  {
   "cell_type": "markdown",
   "metadata": {
    "slideshow": {
     "slide_type": "slide"
    }
   },
   "source": [
    "# Analyzing grid-search results"
   ]
  },
  {
   "cell_type": "code",
   "execution_count": 15,
   "metadata": {
    "slideshow": {
     "slide_type": "-"
    }
   },
   "outputs": [],
   "source": [
    "import pandas as pd\n",
    "res = pd.pivot_table(pd.DataFrame(grid.cv_results_), values='mean_test_score', index='param_alpha', columns='param_l1_ratio')\n"
   ]
  },
  {
   "cell_type": "code",
   "execution_count": 16,
   "metadata": {
    "slideshow": {
     "slide_type": "fragment"
    }
   },
   "outputs": [
    {
     "data": {
      "text/plain": [
       "<matplotlib.axes._subplots.AxesSubplot at 0x2c981c71fa0>"
      ]
     },
     "execution_count": 16,
     "metadata": {},
     "output_type": "execute_result"
    },
    {
     "data": {
      "image/png": "[encoded data removed]",
      "text/plain": [
       "<Figure size 432x288 with 2 Axes>"
      ]
     },
     "metadata": {
      "needs_background": "light"
     },
     "output_type": "display_data"
    }
   ],
   "source": [
    "import seaborn as sns\n",
    "pd.set_option(\"display.precision\",3)\n",
    "res = res.set_index(res.index.values.round(4))\n",
    "sns.heatmap(res, annot=True, fmt=\".3g\", vmin=0.6)\n"
   ]
  },
  {
   "cell_type": "markdown",
   "metadata": {
    "slideshow": {
     "slide_type": "slide"
    }
   },
   "source": [
    "<font size=\"25\"><center>Thank you!"
   ]
  }
 ],
 "metadata": {
  "celltoolbar": "Slideshow",
  "kernelspec": {
   "display_name": "Python 3",
   "language": "python",
   "name": "python3"
  },
  "language_info": {
   "codemirror_mode": {
    "name": "ipython",
    "version": 3
   },
   "file_extension": ".py",
   "mimetype": "text/x-python",
   "name": "python",
   "nbconvert_exporter": "python",
   "pygments_lexer": "ipython3",
   "version": "3.8.3"
  },
  "rise": {
   "enable_chalkboard": true
  }
 },
 "nbformat": 4,
 "nbformat_minor": 4
}
