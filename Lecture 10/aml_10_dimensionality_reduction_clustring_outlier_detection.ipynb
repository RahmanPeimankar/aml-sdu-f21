{
 "cells": [
  {
   "cell_type": "markdown",
   "metadata": {
    "slideshow": {
     "slide_type": "slide"
    }
   },
   "source": [
    "<center><img src=\"img/aml-logo.png\" width=\"600\"/>\n",
    "\n",
    "***\n",
    "\n",
    "<center>Lecture 10</center>\n",
    "\n",
    "***\n",
    "\n",
    "<center>Dimensionality Reduction <br> + <br>Clustering<br> + <br>Outlier Detection</center>\n",
    "\n",
    "***\n",
    "\n",
    "<center>15 April 2021<center>\n",
    "<center>Rahman Peimankar<center>"
   ]
  },
  {
   "cell_type": "code",
   "execution_count": null,
   "metadata": {
    "slideshow": {
     "slide_type": "-"
    }
   },
   "outputs": [],
   "source": []
  },
  {
   "cell_type": "markdown",
   "metadata": {
    "slideshow": {
     "slide_type": "slide"
    }
   },
   "source": [
    "# Agenda\n",
    "1. Dimensionality Reduction\n",
    "    * Principal Component Analysis (PCA) \n",
    "    * sklearn implementation\n",
    "2. Clustering\n",
    "    * K-Means Clustering\n",
    "3. Outlier/Novelty Detection\n",
    "    * One-Class SVM\n",
    "    * Isolation Forests"
   ]
  },
  {
   "cell_type": "markdown",
   "metadata": {
    "slideshow": {
     "slide_type": "slide"
    }
   },
   "source": [
    "# Recap of Last Week"
   ]
  },
  {
   "cell_type": "markdown",
   "metadata": {
    "slideshow": {
     "slide_type": "slide"
    }
   },
   "source": [
    "# Feature Selection"
   ]
  },
  {
   "cell_type": "markdown",
   "metadata": {
    "slideshow": {
     "slide_type": "-"
    }
   },
   "source": [
    "* Different Feature Selection Methods\n",
    "    1. Filter methods \n",
    "        * Correlation Coefficient\n",
    "        * Chi-square Test\n",
    "        * Variance Threshold\n",
    "    2. Wrapper methods \n",
    "        * Forward Feature Selection\n",
    "        * Backward Feature Elimination\n",
    "        * Exhaustive Feature Selection\n",
    "        * Recursive Feature Elimination\n",
    "    3. Embedded methods\n",
    "        * Random Forest Importance\n",
    "       "
   ]
  },
  {
   "cell_type": "markdown",
   "metadata": {
    "slideshow": {
     "slide_type": "slide"
    }
   },
   "source": [
    "<font size=\"25\"><center>Dimensionality Reduction"
   ]
  },
  {
   "cell_type": "markdown",
   "metadata": {
    "slideshow": {
     "slide_type": "slide"
    }
   },
   "source": [
    "# Principal Component Analysis (PCA)"
   ]
  },
  {
   "cell_type": "markdown",
   "metadata": {
    "slideshow": {
     "slide_type": "-"
    }
   },
   "source": [
    "* We are going to go through PCA using Singular Value Decomposition (SVD).\n",
    "* You will learn what PCA does, how it does it, and how to use it to get deeper insidet into your data."
   ]
  },
  {
   "cell_type": "markdown",
   "metadata": {
    "slideshow": {
     "slide_type": "slide"
    }
   },
   "source": [
    "Let's start with a simple data:"
   ]
  },
  {
   "cell_type": "markdown",
   "metadata": {
    "slideshow": {
     "slide_type": "-"
    }
   },
   "source": [
    "<div>\n",
    "<center>\n",
    "<img src=\"img/Qimage-1.JPG\" width=\"550\"/>\n",
    "</div>"
   ]
  },
  {
   "cell_type": "markdown",
   "metadata": {
    "slideshow": {
     "slide_type": "fragment"
    }
   },
   "source": [
    "If we only measure 1 gene, we can plot the data on a number line:"
   ]
  },
  {
   "cell_type": "markdown",
   "metadata": {
    "slideshow": {
     "slide_type": "-"
    }
   },
   "source": [
    "<div>\n",
    "<center>\n",
    "<img src=\"img/Qimage-2.JPG\" width=\"550\"/>\n",
    "</div>"
   ]
  },
  {
   "cell_type": "markdown",
   "metadata": {
    "slideshow": {
     "slide_type": "-"
    }
   },
   "source": [
    "Even though it is a simple graph, it shows us that mice 1, 2 and 3 are more similar to each other than they are to mice 4, 5 and 6. "
   ]
  },
  {
   "cell_type": "markdown",
   "metadata": {
    "slideshow": {
     "slide_type": "slide"
    }
   },
   "source": [
    "If we measure 2 genes, then we can plot the data on a 2-D x-y graph!"
   ]
  },
  {
   "cell_type": "markdown",
   "metadata": {
    "slideshow": {
     "slide_type": "-"
    }
   },
   "source": [
    "<div>\n",
    "<center>\n",
    "<img src=\"img/Qimage-3.JPG\" width=\"350\"/>\n",
    "</div>"
   ]
  },
  {
   "cell_type": "markdown",
   "metadata": {
    "slideshow": {
     "slide_type": "-"
    }
   },
   "source": [
    "* We can see that mice 1, 2 and 3 cluster on the right side.\n",
    "* And mice 4, 5 and 6 cluster on the lower left side."
   ]
  },
  {
   "cell_type": "markdown",
   "metadata": {
    "slideshow": {
     "slide_type": "slide"
    }
   },
   "source": [
    "If we measured 3 genes, we would add another axis to the graph and make it look 3-D."
   ]
  },
  {
   "cell_type": "markdown",
   "metadata": {
    "slideshow": {
     "slide_type": "-"
    }
   },
   "source": [
    "<div>\n",
    "<center>\n",
    "<img src=\"img/Qimage-4.JPG\" width=\"950\"/>\n",
    "</div>"
   ]
  },
  {
   "cell_type": "markdown",
   "metadata": {
    "slideshow": {
     "slide_type": "-"
    }
   },
   "source": [
    "* The smaller dots have larger values for Gene 3 and are \"further away\".\n",
    "* The larger dots have smaller values for Gene 3 and are \"closer\"."
   ]
  },
  {
   "cell_type": "markdown",
   "metadata": {
    "slideshow": {
     "slide_type": "slide"
    }
   },
   "source": [
    "If we measure 4 genes, however, we can no longer plot the data - 4 genes require 4 dimensions."
   ]
  },
  {
   "cell_type": "markdown",
   "metadata": {
    "slideshow": {
     "slide_type": "-"
    }
   },
   "source": [
    "<div>\n",
    "<center>\n",
    "<img src=\"img/Qimage-5.JPG\" width=\"550\"/>\n",
    "</div>"
   ]
  },
  {
   "cell_type": "markdown",
   "metadata": {
    "slideshow": {
     "slide_type": "fragment"
    }
   },
   "source": [
    "1. So, we are going to talk about how PCA can take 4 or more gene measurements (and thus, 4 or more dimensions), and make a 2-D PCA plot.\n",
    "\n",
    "2. We will also talk about how PCA can tell us which gene (or variable) is the most valuable for clustering the data.\n",
    "\n",
    "3. Lastly, we will talk about how PCA can tell us how accurate the 2-D graph is."
   ]
  },
  {
   "cell_type": "markdown",
   "metadata": {
    "slideshow": {
     "slide_type": "slide"
    }
   },
   "source": [
    "Let's go back to the datset that only had 2 genes:\n",
    "\n",
    "<div>\n",
    "<center>\n",
    "<img src=\"img/Qimage-6.JPG\" width=\"850\"/>\n",
    "</div>"
   ]
  },
  {
   "cell_type": "markdown",
   "metadata": {
    "slideshow": {
     "slide_type": "slide"
    }
   },
   "source": [
    "We will calculate the average measurement for Gene 1:\n",
    "\n",
    "<div>\n",
    "<center>\n",
    "<img src=\"img/Qimage-7.JPG\" width=\"850\"/>\n",
    "</div>\n"
   ]
  },
  {
   "cell_type": "markdown",
   "metadata": {
    "slideshow": {
     "slide_type": "fragment"
    }
   },
   "source": [
    "And the average measurement for Gene 2:\n",
    "    \n",
    "<div>\n",
    "<center>\n",
    "<img src=\"img/Qimage-8.JPG\" width=\"850\"/>\n",
    "</div>"
   ]
  },
  {
   "cell_type": "markdown",
   "metadata": {
    "slideshow": {
     "slide_type": "slide"
    }
   },
   "source": [
    "With the average values, we can calculate the center of the data.\n",
    "\n",
    "<div>\n",
    "<center>\n",
    "<img src=\"img/Qimage-9.JPG\" width=\"450\"/>\n",
    "</div>"
   ]
  },
  {
   "cell_type": "markdown",
   "metadata": {
    "slideshow": {
     "slide_type": "fragment"
    }
   },
   "source": [
    "**From this point on, we will focus on what happens in the graph and we no longer need the original data.**\n",
    "\n",
    "<div>\n",
    "<center>\n",
    "<img src=\"img/Qimage-10.JPG\" width=\"450\"/>\n",
    "</div>"
   ]
  },
  {
   "cell_type": "markdown",
   "metadata": {
    "slideshow": {
     "slide_type": "slide"
    }
   },
   "source": [
    "* Now we shift the data that the **center** is on top of the **origin (0,0)** in the graph. \n",
    "\n",
    "<div>\n",
    "<center>\n",
    "<img src=\"img/Qimage-11.JPG\" width=\"450\"/>\n",
    "</div>\n",
    "    \n",
    "**NOTE**: Shifting the data did not change how the data points are positioned **relative to each other**. For example, the highest point is still the highest point in the shifted data!"
   ]
  },
  {
   "cell_type": "markdown",
   "metadata": {
    "slideshow": {
     "slide_type": "slide"
    }
   },
   "source": [
    "Now let's fit a line to the data:\n",
    "* We start by fitting random lines that go through the origin and rotate the lines to find the best fitted line.\n",
    "* The below line fits best.\n",
    "\n",
    "<div>\n",
    "<center>\n",
    "<img src=\"img/Qimage-12.JPG\" width=\"650\"/>\n",
    "</div>"
   ]
  },
  {
   "cell_type": "markdown",
   "metadata": {
    "slideshow": {
     "slide_type": "fragment"
    }
   },
   "source": [
    "**BUT**: First we need to talk about how PCA decides if a fit is good or not?"
   ]
  },
  {
   "cell_type": "markdown",
   "metadata": {
    "slideshow": {
     "slide_type": "slide"
    }
   },
   "source": [
    "Let's go back and fit a **random line that goes through origin**:\n",
    "\n",
    "* To quantify how good this line fits the data, PCA projects the data onto it.\n",
    "\n",
    "<div>\n",
    "<center>\n",
    "<img src=\"img/Qimage-13.JPG\" width=\"550\"/>\n",
    "</div>\n",
    "    "
   ]
  },
  {
   "cell_type": "markdown",
   "metadata": {
    "slideshow": {
     "slide_type": "fragment"
    }
   },
   "source": [
    "1. It can either measure the distances from the data to the line and try to find the line that **minimizes** those distances, or\n",
    "2. it can try to find the line that **maximizes** the distances from the projected points to the origin."
   ]
  },
  {
   "cell_type": "markdown",
   "metadata": {
    "slideshow": {
     "slide_type": "slide"
    }
   },
   "source": [
    "<div>\n",
    "<center>\n",
    "<table><tr>\n",
    "<td>\n",
    "    \n",
    "<img src=\"img/Qimage-14.JPG\" width=\"900\"/>\n",
    "    \n",
    "</td>\n",
    "<td>\n",
    "    \n",
    "<img src=\"img/Qimage-15.JPG\" width=\"900\"/>\n",
    "    \n",
    "</td>\n",
    "<td>\n",
    "    \n",
    "<img src=\"img/Qimage-16.JPG\" width=\"900\"/>\n",
    "    \n",
    "</td>\n",
    "</tr></table>"
   ]
  },
  {
   "cell_type": "markdown",
   "metadata": {
    "slideshow": {
     "slide_type": "fragment"
    }
   },
   "source": [
    "<div>\n",
    "<center>\n",
    "<table><tr>\n",
    "<td>\n",
    "    \n",
    "<img src=\"img/Qimage-17.JPG\" width=\"900\"/>\n",
    "    \n",
    "</td>\n",
    "<td>\n",
    "    \n",
    "<img src=\"img/Qimage-18.JPG\" width=\"900\"/>\n",
    "    \n",
    "</td>\n",
    "<td>\n",
    "    \n",
    "<img src=\"img/Qimage-19.JPG\" width=\"900\"/>\n",
    "    \n",
    "</td>\n",
    "</tr></table>"
   ]
  },
  {
   "cell_type": "markdown",
   "metadata": {
    "slideshow": {
     "slide_type": "slide"
    }
   },
   "source": [
    "We measure the distances from the points to the origin: $d_1, d_2, d_3, d_4, d_5, d_6$ \n",
    "\n",
    "<div>\n",
    "<center>\n",
    "<table><tr>\n",
    "<td>\n",
    "    \n",
    "<img src=\"img/Qimage-20.JPG\" width=\"700\"/>\n",
    "    \n",
    "</td>\n",
    "<td>\n",
    "    \n",
    "<img src=\"img/Qimage-21.JPG\" width=\"700\"/>\n",
    "    \n",
    "</td>\n",
    "<td>\n",
    "    \n",
    "<img src=\"img/Qimage-22.JPG\" width=\"700\"/>\n",
    "    \n",
    "</td>\n",
    "</tr></table>"
   ]
  },
  {
   "cell_type": "markdown",
   "metadata": {
    "slideshow": {
     "slide_type": "-"
    }
   },
   "source": [
    "* We square the distances so that negative values do not cancel out positive values.\n",
    "* Then we sum up all these squared distances.\n",
    "* This is called *sum of squared distances*\n",
    "\n",
    "$d_1^2 + d_2^2 + d_3^2 + d_4^2 + d_5^2 + d_6^2 =$ sum of squared distances = SS(distances)"
   ]
  },
  {
   "cell_type": "markdown",
   "metadata": {
    "slideshow": {
     "slide_type": "fragment"
    }
   },
   "source": [
    "* We repeat this process by rotating the line and calculate the *sum of squared distances* for the new line.\n",
    "* The line that has the largest *sum of squared distances* between the projected points and the origin is the *best* fitted line."
   ]
  },
  {
   "cell_type": "markdown",
   "metadata": {
    "slideshow": {
     "slide_type": "slide"
    }
   },
   "source": [
    "Ultimately, we end up with this line. It has the largest SS(distances).\n",
    "\n",
    "<div>\n",
    "<center>\n",
    "<img src=\"img/Qimage-23.JPG\" width=\"550\"/>\n",
    "</div>"
   ]
  },
  {
   "cell_type": "markdown",
   "metadata": {
    "slideshow": {
     "slide_type": "-"
    }
   },
   "source": [
    "* This line is called **Principal Component 1** (**PC1** for short).\n",
    "* PC1 has a slope of 0.25.\n",
    "* In other words, for every **4** units that we go out along the Gene 1 axis, we go up **1** unit along the Gene 2 axis.\n",
    "* That means that the data are mostly spread out along the Gene 1 axis. And only a little bit spread out along the Gene 2 axis.\n",
    "\n",
    "<div>\n",
    "<center>\n",
    "<img src=\"img/Qimage-24.JPG\" width=\"550\"/>\n",
    "</div>\n",
    "    \n",
    "**NOTE**: To make PC1, we need to mix **4** parts of Gene 1 with **1** parts of Gene 2. This is called *linear combination* of Genes 1 and 2."
   ]
  },
  {
   "cell_type": "markdown",
   "metadata": {
    "slideshow": {
     "slide_type": "slide"
    }
   },
   "source": [
    "<div>\n",
    "<center>\n",
    "<img src=\"img/Qimage-25.JPG\" width=\"550\"/>\n",
    "</div>"
   ]
  },
  {
   "cell_type": "markdown",
   "metadata": {
    "slideshow": {
     "slide_type": "fragment"
    }
   },
   "source": [
    "When you do PCA with SVD, the PC1 is scaled so that the length of the red line is equal to **1**."
   ]
  },
  {
   "cell_type": "markdown",
   "metadata": {
    "slideshow": {
     "slide_type": "slide"
    }
   },
   "source": [
    "So, all we have to do to scale the triangle so that the red line is 1 unit long is to divide each side by **4.12**.\n",
    "\n",
    "<div>\n",
    "<center>\n",
    "<img src=\"img/Qimage-26.JPG\" width=\"550\"/>\n",
    "</div>"
   ]
  },
  {
   "cell_type": "markdown",
   "metadata": {
    "slideshow": {
     "slide_type": "fragment"
    }
   },
   "source": [
    "* The new values change our recipe and to make **PC1** we should mix:\n",
    "    1. **0.97** parts of Gene 1 with\n",
    "    2. **0.242** parts of Gene 2.\n",
    "    \n",
    "**BUT**, the ratio is the same: we will use 4 times as much Gene 1 as Gene 2. "
   ]
  },
  {
   "cell_type": "markdown",
   "metadata": {
    "slideshow": {
     "slide_type": "slide"
    }
   },
   "source": [
    "<div>\n",
    "<center>\n",
    "<table><tr>\n",
    "<td>\n",
    "    \n",
    "<img src=\"img/Qimage-27.JPG\" width=\"500\"/>\n",
    "    \n",
    "</td>\n",
    "<td>\n",
    "    \n",
    "<img src=\"img/Qimage-28.JPG\" width=\"560\"/>\n",
    "    \n",
    "</td>\n",
    "</tr></table>\n",
    "    \n",
    "* This 1 unit long vector, consisiting of **0.97** parts Gene 1 and **0.242** parts Gene 2, is called the **Singular Vector** or the **Eigenvector** for **PC1**.\n",
    "* The proportions of each gene are called **Loading Scores**.\n",
    "* Also, PCA calls the SS(distances) for the best fitted line the **Eigenvalue for PC1**! And the square root of the **Eigenvalue for PC1** is called the **Singular Value for PC1**.\n",
    "    \n",
    "SS(distances for PC1) = Eigenvalue for PC1\n",
    "    \n",
    "$\\sqrt{\\text{Eigenvalue for PC1}}$ = Singular Value for PC1"
   ]
  },
  {
   "cell_type": "markdown",
   "metadata": {
    "slideshow": {
     "slide_type": "slide"
    }
   },
   "source": [
    "Now, let's work on **PC2**!\n",
    "\n",
    "* Because this is only a 2-D graph, **PC2** is simply the line through the origin that is prependicular to **PC1**, without any further optimization that has to be done.\n",
    "* And, this means that the recipe for PC2 is **-1** parts Gene 1 and **4** parts Gene 2. If we scale everything so that get a unit vector, the recipe is **-0.242** parts Gene 1 and **0.97** parts Gene 2.\n",
    "* Lastly, the **Eigenvalue for PC2** is the SS(distances) between the projected points and the origin.\n",
    "\n",
    "<div>\n",
    "<center>\n",
    "<table><tr>\n",
    "<td>\n",
    "    \n",
    "<img src=\"img/Qimage-29.JPG\" width=\"510\"/>\n",
    "    \n",
    "</td>\n",
    "<td>\n",
    "    \n",
    "<img src=\"img/Qimage-30.JPG\" width=\"500\"/>\n",
    "    \n",
    "</td>\n",
    "<td>\n",
    "    \n",
    "<img src=\"img/Qimage-31.JPG\" width=\"530\"/>\n",
    "    \n",
    "</td>\n",
    "</tr></table>"
   ]
  },
  {
   "cell_type": "markdown",
   "metadata": {
    "slideshow": {
     "slide_type": "slide"
    }
   },
   "source": [
    "To draw the final PCA plot, we simply rotate everything so that PC1 is horizontal!\n",
    "\n",
    "<div>\n",
    "<center>\n",
    "<table><tr>\n",
    "<td>\n",
    "    \n",
    "<img src=\"img/Qimage-32.JPG\" width=\"570\"/>\n",
    "    \n",
    "</td>\n",
    "<td>\n",
    "    \n",
    "<img src=\"img/Qimage-33.JPG\" width=\"500\"/>\n",
    "    \n",
    "</td>\n",
    "</tr></table>"
   ]
  },
  {
   "cell_type": "markdown",
   "metadata": {
    "slideshow": {
     "slide_type": "slide"
    }
   },
   "source": [
    "* Then we use the projected points to find where the samples go in the PCA plot.\n",
    "* For example, these projected points correspond the sample 6.\n",
    "\n",
    "<div>\n",
    "<center>\n",
    "<img src=\"img/Qimage-34.JPG\" width=\"400\"/>\n",
    "</div>\n",
    "    \n",
    "And samples 1 and 2 go here and so on.\n",
    "    \n",
    "<div>\n",
    "<center>\n",
    "<table><tr>\n",
    "<td>\n",
    "    \n",
    "<img src=\"img/Qimage-35.JPG\" width=\"320\"/>\n",
    "    \n",
    "</td>\n",
    "<td>\n",
    "    \n",
    "<img src=\"img/Qimage-36.JPG\" width=\"390\"/>\n",
    "    \n",
    "</td>\n",
    "<td>\n",
    "    \n",
    "<img src=\"img/Qimage-37.JPG\" width=\"390\"/>\n",
    "    \n",
    "</td>\n",
    "</tr></table>\n",
    "    \n",
    "**This is how PCA is done using SVD.**"
   ]
  },
  {
   "cell_type": "markdown",
   "metadata": {
    "slideshow": {
     "slide_type": "slide"
    }
   },
   "source": [
    "**One last thing!**\n",
    "\n",
    "Remember the eigenvalues?\n",
    "\n",
    "SS(distances for PC1) = Eigenvalue for PC1\n",
    "\n",
    "SS(distances for PC2) = Eigenvalue for PC2"
   ]
  },
  {
   "cell_type": "markdown",
   "metadata": {
    "slideshow": {
     "slide_type": "skip"
    }
   },
   "source": [
    "We got those by\n",
    "1. pojecting the data onto the principal components,\n",
    "2. measuring the distances to the origin, and \n",
    "3. then squaring and adding them together.\n",
    "\n",
    "<div>\n",
    "<center>\n",
    "<table><tr>\n",
    "<td>\n",
    "    \n",
    "<img src=\"img/Qimage-38.JPG\" width=\"300\"/>\n",
    "    \n",
    "</td>\n",
    "<td>\n",
    "    \n",
    "<img src=\"img/Qimage-39.JPG\" width=\"300\"/>\n",
    "    \n",
    "</td>\n",
    "</tr></table>"
   ]
  },
  {
   "cell_type": "markdown",
   "metadata": {
    "slideshow": {
     "slide_type": "fragment"
    }
   },
   "source": [
    "We can convert them into variation around the origin (0,0) by dividing by the sample size minus 1 (i.e. *n-1*).\n",
    "\n",
    "$\\frac{\\text{Eigenvalue for PC1}}{n-1}$ = Variation for PC1\n",
    "\n",
    "$\\frac{\\text{Eigenvalue for PC2}}{n-1}$ = Variation for PC2"
   ]
  },
  {
   "cell_type": "markdown",
   "metadata": {
    "slideshow": {
     "slide_type": "slide"
    }
   },
   "source": [
    "* For example, imagine that the variation for **PC1 = 15** and for **PC2 = 3**.\n",
    "* That means that the total variation around both PCs is **15 + 3 = 18**.\n",
    "* Consequently, PC1 accounts for **15/18 = 0.83 = 83%** of the total variation and PC2 accounts for **3/18 = 0.17 = 17%** of the total variation.\n",
    "\n",
    "<div>\n",
    "<center>\n",
    "<img src=\"img/Qimage-40.JPG\" width=\"400\"/>\n",
    "</div>"
   ]
  },
  {
   "cell_type": "markdown",
   "metadata": {
    "slideshow": {
     "slide_type": "fragment"
    }
   },
   "source": [
    "**Note**: A **Scree Plot** is a graphical representation of the percentages of variation that each PC accounts for.\n",
    "\n",
    "<div>\n",
    "<center>\n",
    "<img src=\"img/Qimage-41.JPG\" width=\"200\"/>\n",
    "</div>"
   ]
  },
  {
   "cell_type": "markdown",
   "metadata": {
    "slideshow": {
     "slide_type": "slide"
    }
   },
   "source": [
    "## What if we had more than 2 Genes?\n",
    "\n",
    "<div>\n",
    "<center>\n",
    "<img src=\"img/Qimage-42.JPG\" width=\"500\"/>\n",
    "</div>"
   ]
  },
  {
   "cell_type": "markdown",
   "metadata": {
    "slideshow": {
     "slide_type": "slide"
    }
   },
   "source": [
    "## What if we have 4-D data or 4 Genes?\n",
    "\n",
    "<div>\n",
    "<center>\n",
    "<img src=\"img/Qimage-43.JPG\" width=\"400\"/>\n",
    "</div>"
   ]
  },
  {
   "cell_type": "markdown",
   "metadata": {
    "slideshow": {
     "slide_type": "slide"
    }
   },
   "source": [
    "## What if we get a scree plot like below?\n",
    "\n",
    "<div>\n",
    "<center>\n",
    "<img src=\"img/Qimage-44.JPG\" width=\"400\"/>\n",
    "</div>"
   ]
  },
  {
   "cell_type": "markdown",
   "metadata": {
    "slideshow": {
     "slide_type": "slide"
    }
   },
   "source": [
    "## Practical Tips on PCA\n"
   ]
  },
  {
   "cell_type": "markdown",
   "metadata": {
    "slideshow": {
     "slide_type": "-"
    }
   },
   "source": [
    "### 1. Scaling your data\n",
    "\n",
    "<div>\n",
    "<center>\n",
    "<img src=\"img/Qimage-45.JPG\" width=\"700\"/>\n",
    "</div>"
   ]
  },
  {
   "cell_type": "markdown",
   "metadata": {
    "slideshow": {
     "slide_type": "-"
    }
   },
   "source": [
    "* Math scores are between 0 and 100 and they are spread out in the graph.\n",
    "* In contrast, reading scores are only from 0 to 10 and they are squeezed on the graph.\n"
   ]
  },
  {
   "cell_type": "markdown",
   "metadata": {
    "slideshow": {
     "slide_type": "slide"
    }
   },
   "source": [
    "If we centered the data and did PCA on it, we get this recipe for PC1:\n",
    "* To make PC1: Mix **0.99** parts math with **0.1** parts reading.\n",
    "* It suggests that Math is 10 times better than Reading for capturing variation. \n",
    "\n",
    "This is only because the math scores are on a scale **10 times larger** than the scale for reading scores.\n",
    "\n",
    "<div>\n",
    "<center>\n",
    "<img src=\"img/Qimage-46.JPG\" width=\"700\"/>\n",
    "</div>"
   ]
  },
  {
   "cell_type": "markdown",
   "metadata": {
    "slideshow": {
     "slide_type": "slide"
    }
   },
   "source": [
    "If we divided the math scoes by 10 and replotted:\n",
    "\n",
    "<div>\n",
    "<center>\n",
    "<img src=\"img/Qimage-47.JPG\" width=\"700\"/>\n",
    "</div>"
   ]
  },
  {
   "cell_type": "markdown",
   "metadata": {
    "slideshow": {
     "slide_type": "slide"
    }
   },
   "source": [
    "And if we centered the data and did PCA on it, we would get this recipe for PC1:\n",
    "* To make PC1: Mix 0.77 parts math with 0.77 parts reading.\n",
    "* This suggest that Reading and Math are equally good at capturing variation. \n",
    "\n",
    "<div>\n",
    "<center>\n",
    "<img src=\"img/Qimage-48.JPG\" width=\"400\"/>\n",
    "</div>"
   ]
  },
  {
   "cell_type": "markdown",
   "metadata": {
    "slideshow": {
     "slide_type": "fragment"
    }
   },
   "source": [
    "**Note**: You need to make sure that the scales for each variable (in this case, math and reading scores) are roughly equivalent, otherwise you will be biased towards one of them."
   ]
  },
  {
   "cell_type": "markdown",
   "metadata": {
    "slideshow": {
     "slide_type": "-"
    }
   },
   "source": [
    "**The standard practice is to divide each variable by its standard deviation.**"
   ]
  },
  {
   "cell_type": "markdown",
   "metadata": {
    "slideshow": {
     "slide_type": "slide"
    }
   },
   "source": [
    "### 2. How many principal components you should expect to get?\n",
    "\n",
    "* In the previous example, we found 2 PCs.\n",
    "* And we did not asked if there were any more PCs.\n",
    "\n",
    "<div>\n",
    "<center>\n",
    "<img src=\"img/Qimage-48.JPG\" width=\"400\"/>\n",
    "</div>\n",
    "    \n",
    "**Is there a 3rd PC? Or can we find a line prependicular to both PC1 and PC2?**"
   ]
  },
  {
   "cell_type": "markdown",
   "metadata": {
    "slideshow": {
     "slide_type": "slide"
    }
   },
   "source": [
    "## What if both math and reading scores are 100% correlated? "
   ]
  },
  {
   "cell_type": "markdown",
   "metadata": {
    "slideshow": {
     "slide_type": "-"
    }
   },
   "source": [
    "<div>\n",
    "<center>\n",
    "<img src=\"img/Qimage-49.JPG\" width=\"500\"/>\n",
    "</div>\n",
    "    "
   ]
  },
  {
   "cell_type": "markdown",
   "metadata": {
    "slideshow": {
     "slide_type": "slide"
    }
   },
   "source": [
    "* We center the data \n",
    "* Then we found the best fitting line (PC1)\n",
    "* Technically speaking, we could find a line prependicular to PC1\n",
    "\n",
    "<div>\n",
    "<center>\n",
    "<img src=\"img/Qimage-50.JPG\" width=\"500\"/>\n",
    "</div>"
   ]
  },
  {
   "cell_type": "markdown",
   "metadata": {
    "slideshow": {
     "slide_type": "slide"
    }
   },
   "source": [
    "## What if we had only two students?\n",
    "\n",
    "<div>\n",
    "<center>\n",
    "<img src=\"img/Qimage-51.JPG\" width=\"500\"/>\n",
    "</div>"
   ]
  },
  {
   "cell_type": "markdown",
   "metadata": {
    "slideshow": {
     "slide_type": "slide"
    }
   },
   "source": [
    "* We center the data \n",
    "* Then we found the best fitting line (PC1)\n",
    "* Technically speaking, we could find a line prependicular to PC1\n",
    "\n",
    "<div>\n",
    "<center>\n",
    "<img src=\"img/Qimage-52.JPG\" width=\"500\"/>\n",
    "</div>"
   ]
  },
  {
   "cell_type": "code",
   "execution_count": 1,
   "metadata": {
    "slideshow": {
     "slide_type": "slide"
    }
   },
   "outputs": [],
   "source": [
    "import numpy as np\n",
    "import matplotlib.pyplot as plt\n",
    "import pandas as pd\n",
    "from sklearn.model_selection import train_test_split, cross_val_score\n",
    "from sklearn.pipeline import make_pipeline\n",
    "from sklearn.preprocessing import StandardScaler\n",
    "from sklearn.datasets import load_breast_cancer\n",
    "from sklearn.decomposition import PCA\n",
    "\n",
    "cancer = load_breast_cancer()\n",
    "# cancer.feature_names"
   ]
  },
  {
   "cell_type": "code",
   "execution_count": 2,
   "metadata": {
    "slideshow": {
     "slide_type": "fragment"
    }
   },
   "outputs": [
    {
     "name": "stdout",
     "output_type": "stream",
     "text": [
      "(569, 30)\n",
      "(569, 2)\n"
     ]
    }
   ],
   "source": [
    "print(cancer.data.shape)\n",
    "pca = PCA(n_components=2)\n",
    "pca_transformed = pca.fit_transform(cancer.data)\n",
    "print(pca_transformed.shape)"
   ]
  },
  {
   "cell_type": "code",
   "execution_count": 3,
   "metadata": {
    "slideshow": {
     "slide_type": "fragment"
    }
   },
   "outputs": [
    {
     "data": {
      "text/plain": [
       "Text(0, 0.5, 'PC2')"
      ]
     },
     "execution_count": 3,
     "metadata": {},
     "output_type": "execute_result"
    },
    {
     "data": {
      "image/png": "[encoded data removed]",
      "text/plain": [
       "<Figure size 432x288 with 1 Axes>"
      ]
     },
     "metadata": {
      "needs_background": "light"
     },
     "output_type": "display_data"
    }
   ],
   "source": [
    "plt.scatter(pca_transformed[:, 0], pca_transformed[:, 1], c=cancer.target)\n",
    "plt.xlabel(\"PC1\", fontsize=16)\n",
    "plt.ylabel(\"PC2\", fontsize=16)"
   ]
  },
  {
   "cell_type": "code",
   "execution_count": 4,
   "metadata": {
    "slideshow": {
     "slide_type": "slide"
    }
   },
   "outputs": [
    {
     "data": {
      "text/plain": [
       "<matplotlib.colorbar.Colorbar at 0x23a41d8ed30>"
      ]
     },
     "execution_count": 4,
     "metadata": {},
     "output_type": "execute_result"
    },
    {
     "data": {
      "image/png": "[encoded data removed]",
      "text/plain": [
       "<Figure size 432x288 with 2 Axes>"
      ]
     },
     "metadata": {
      "needs_background": "light"
     },
     "output_type": "display_data"
    }
   ],
   "source": [
    "components = pca.components_\n",
    "plt.imshow(components.T)\n",
    "plt.yticks(range(len(cancer.feature_names)), cancer.feature_names)\n",
    "plt.colorbar()"
   ]
  },
  {
   "cell_type": "code",
   "execution_count": 5,
   "metadata": {
    "slideshow": {
     "slide_type": "slide"
    }
   },
   "outputs": [
    {
     "data": {
      "text/plain": [
       "Text(0, 0.5, 'PC2')"
      ]
     },
     "execution_count": 5,
     "metadata": {},
     "output_type": "execute_result"
    },
    {
     "data": {
      "image/png": "[encoded data removed]",
      "text/plain": [
       "<Figure size 432x288 with 1 Axes>"
      ]
     },
     "metadata": {
      "needs_background": "light"
     },
     "output_type": "display_data"
    }
   ],
   "source": [
    "pca_scaled = make_pipeline(StandardScaler(), PCA(n_components=2))\n",
    "pca_transformed_scaled = pca_scaled.fit_transform(cancer.data)\n",
    "plt.scatter(pca_transformed_scaled[:, 0], pca_transformed_scaled[:, 1], c=cancer.target)\n",
    "plt.xlabel(\"PC1\", fontsize=16)\n",
    "plt.ylabel(\"PC2\", fontsize=16)"
   ]
  },
  {
   "cell_type": "code",
   "execution_count": 6,
   "metadata": {
    "slideshow": {
     "slide_type": "fragment"
    }
   },
   "outputs": [
    {
     "data": {
      "text/plain": [
       "<matplotlib.colorbar.Colorbar at 0x23a41ec6c70>"
      ]
     },
     "execution_count": 6,
     "metadata": {},
     "output_type": "execute_result"
    },
    {
     "data": {
      "image/png": "[encoded data removed]",
      "text/plain": [
       "<Figure size 432x288 with 2 Axes>"
      ]
     },
     "metadata": {
      "needs_background": "light"
     },
     "output_type": "display_data"
    }
   ],
   "source": [
    "components_scaled = pca_scaled.named_steps['pca'].components_\n",
    "plt.imshow(components_scaled.T)\n",
    "plt.yticks(range(len(cancer.feature_names)), cancer.feature_names)\n",
    "plt.colorbar()"
   ]
  },
  {
   "cell_type": "code",
   "execution_count": 7,
   "metadata": {
    "slideshow": {
     "slide_type": "slide"
    }
   },
   "outputs": [
    {
     "data": {
      "text/plain": [
       "Text(0, 0.5, 'PC2')"
      ]
     },
     "execution_count": 7,
     "metadata": {},
     "output_type": "execute_result"
    },
    {
     "data": {
      "image/png": "[encoded data removed]",
      "text/plain": [
       "<Figure size 576x576 with 1 Axes>"
      ]
     },
     "metadata": {
      "needs_background": "light"
     },
     "output_type": "display_data"
    }
   ],
   "source": [
    "plt.figure(figsize=(8, 8))\n",
    "plt.scatter(components_scaled[0], components_scaled[1])\n",
    "for num, pcas in enumerate(components_scaled.T):\n",
    "    plt.annotate(cancer.feature_names[num], pcas)\n",
    "plt.xlabel(\"PC1\")\n",
    "plt.ylabel(\"PC2\")"
   ]
  },
  {
   "cell_type": "markdown",
   "metadata": {
    "slideshow": {
     "slide_type": "slide"
    }
   },
   "source": [
    "<font size=\"25\"><center>Clustering"
   ]
  },
  {
   "cell_type": "markdown",
   "metadata": {
    "slideshow": {
     "slide_type": "slide"
    }
   },
   "source": [
    "<div>\n",
    "<center>\n",
    "<img src=\"img/Qimage-53.JPG\" width=\"400\"/>\n",
    "</div>"
   ]
  },
  {
   "cell_type": "markdown",
   "metadata": {
    "slideshow": {
     "slide_type": "slide"
    }
   },
   "source": [
    "<div>\n",
    "<center>\n",
    "<table><tr>\n",
    "<td>\n",
    "    \n",
    "<img src=\"img/Qimage-54.JPG\" width=\"500\"/>\n",
    "    \n",
    "</td>\n",
    "<td>\n",
    "    \n",
    "<img src=\"img/Qimage-55.JPG\" width=\"500\"/>\n",
    "    \n",
    "</td>\n",
    "</tr></table>"
   ]
  },
  {
   "cell_type": "markdown",
   "metadata": {
    "slideshow": {
     "slide_type": "fragment"
    }
   },
   "source": [
    "* Partition data into groups (clusters)\n",
    "* Points within a cluster should be “similar”.\n",
    "* Points in different cluster should be “different”."
   ]
  },
  {
   "cell_type": "markdown",
   "metadata": {
    "slideshow": {
     "slide_type": "slide"
    }
   },
   "source": [
    "## Whait if you misspecify the number of groups?"
   ]
  },
  {
   "cell_type": "markdown",
   "metadata": {
    "slideshow": {
     "slide_type": "fragment"
    }
   },
   "source": [
    "<div>\n",
    "<center>\n",
    "<img src=\"img/Qimage-56.JPG\" width=\"400\"/>\n",
    "</div>"
   ]
  },
  {
   "cell_type": "markdown",
   "metadata": {
    "slideshow": {
     "slide_type": "slide"
    }
   },
   "source": [
    "## Goals of Clustering"
   ]
  },
  {
   "cell_type": "markdown",
   "metadata": {
    "slideshow": {
     "slide_type": "-"
    }
   },
   "source": [
    "1. Data Exploration\n",
    "    * Are there coherent groups ?\n",
    "    * How many groups are there ?"
   ]
  },
  {
   "cell_type": "markdown",
   "metadata": {
    "slideshow": {
     "slide_type": "fragment"
    }
   },
   "source": [
    "2. Data Partitioning\n",
    "    * Divide data by group before further processing"
   ]
  },
  {
   "cell_type": "markdown",
   "metadata": {
    "slideshow": {
     "slide_type": "fragment"
    }
   },
   "source": [
    "3. Unsupervised feature extraction\n",
    "    * Derive features from clusters or cluster distances"
   ]
  },
  {
   "cell_type": "markdown",
   "metadata": {
    "slideshow": {
     "slide_type": "fragment"
    }
   },
   "source": [
    "4. Evaluation and parameter tuning\n",
    "    * Quantitative measures of limited use\n",
    "    * Usually qualitative measures used\n",
    "    * Best: downstream tasks\n",
    "    * What is your goal?"
   ]
  },
  {
   "cell_type": "markdown",
   "metadata": {
    "slideshow": {
     "slide_type": "slide"
    }
   },
   "source": [
    "# K-Means Clustering"
   ]
  },
  {
   "cell_type": "markdown",
   "metadata": {
    "slideshow": {
     "slide_type": "-"
    }
   },
   "source": [
    "Imagine you had some data that you could plot on a line, and you knew you needed to put it into 3 clusters."
   ]
  },
  {
   "cell_type": "markdown",
   "metadata": {
    "slideshow": {
     "slide_type": "-"
    }
   },
   "source": [
    "<div>\n",
    "<center>\n",
    "<img src=\"img/Qimage-57.JPG\" width=\"800\"/>\n",
    "</div>"
   ]
  },
  {
   "cell_type": "markdown",
   "metadata": {
    "slideshow": {
     "slide_type": "fragment"
    }
   },
   "source": [
    "* In this case the data make three, relatively obvious, clusters.\n",
    "* But, rather that rely on our eye, let's see if we can get a computer to identify the same 3 clusters.\n",
    "* To do this, we use K-means clustering."
   ]
  },
  {
   "cell_type": "markdown",
   "metadata": {
    "slideshow": {
     "slide_type": "-"
    }
   },
   "source": [
    "<div>\n",
    "<center>\n",
    "<img src=\"img/Qimage-58.JPG\" width=\"800\"/>\n",
    "</div>"
   ]
  },
  {
   "cell_type": "markdown",
   "metadata": {
    "slideshow": {
     "slide_type": "slide"
    }
   },
   "source": [
    "#### Step 1: Select the number of clusters\n",
    "\n",
    "In our case we will select K=3.\n",
    "**Note**: There is a better way to select K and we will talk about it later."
   ]
  },
  {
   "cell_type": "markdown",
   "metadata": {
    "slideshow": {
     "slide_type": "fragment"
    }
   },
   "source": [
    "#### Step 2: Randomly select 3 distict data points.\n",
    "\n",
    "<div>\n",
    "<center>\n",
    "<img src=\"img/Qimage-59.JPG\" width=\"800\"/>\n",
    "</div>"
   ]
  },
  {
   "cell_type": "markdown",
   "metadata": {
    "slideshow": {
     "slide_type": "fragment"
    }
   },
   "source": [
    "#### Step 3: Measure the distance between the 1st point and the three intial clusters \n",
    "\n",
    "<div>\n",
    "<center>\n",
    "<img src=\"img/Qimage-60.JPG\" width=\"800\"/>\n",
    "</div>"
   ]
  },
  {
   "cell_type": "markdown",
   "metadata": {
    "slideshow": {
     "slide_type": "fragment"
    }
   },
   "source": [
    "#### Step 4: Assign the 1st point to the nearest cluster. \n",
    "In this case, the nearest cluster is the <font color='blue'>blue <font color='black'> cluster.\n",
    "<div>\n",
    "<center>\n",
    "<img src=\"img/Qimage-61.JPG\" width=\"800\"/>\n",
    "</div>"
   ]
  },
  {
   "cell_type": "markdown",
   "metadata": {
    "slideshow": {
     "slide_type": "slide"
    }
   },
   "source": [
    "Now, we do the same thing for the next point:\n",
    "1. Measure the distances \n",
    "2. Assign the point to the nearest cluster\n",
    "\n",
    "<div>\n",
    "<center>\n",
    "<img src=\"img/Qimage-62.JPG\" width=\"800\"/>\n",
    "</div>"
   ]
  },
  {
   "cell_type": "markdown",
   "metadata": {
    "slideshow": {
     "slide_type": "fragment"
    }
   },
   "source": [
    "* This process will be repeated for the other points. \n",
    "* The rest of these points are closest to the <font color='orange'>orange <font color='black'> cluster.  \n",
    "    \n",
    "<div>\n",
    "<center>\n",
    "<img src=\"img/Qimage-63.JPG\" width=\"800\"/>\n",
    "</div>"
   ]
  },
  {
   "cell_type": "markdown",
   "metadata": {
    "slideshow": {
     "slide_type": "fragment"
    }
   },
   "source": [
    "#### Step 5: Calculate the mean of each cluster.\n",
    "\n",
    "<div>\n",
    "<center>\n",
    "<img src=\"img/Qimage-64.JPG\" width=\"800\"/>\n",
    "</div>"
   ]
  },
  {
   "cell_type": "markdown",
   "metadata": {
    "slideshow": {
     "slide_type": "slide"
    }
   },
   "source": [
    "Now, we repeat what we just did:\n",
    "* Measure and cluster using the mean values! "
   ]
  },
  {
   "cell_type": "markdown",
   "metadata": {
    "slideshow": {
     "slide_type": "fragment"
    }
   },
   "source": [
    "<div>\n",
    "<center>\n",
    "<img src=\"img/Qimage-65.JPG\" width=\"800\"/>\n",
    "</div>"
   ]
  },
  {
   "cell_type": "markdown",
   "metadata": {
    "slideshow": {
     "slide_type": "fragment"
    }
   },
   "source": [
    "<div>\n",
    "<center>\n",
    "<img src=\"img/Qimage-66.JPG\" width=\"800\"/>\n",
    "</div>"
   ]
  },
  {
   "cell_type": "markdown",
   "metadata": {
    "slideshow": {
     "slide_type": "fragment"
    }
   },
   "source": [
    "<div>\n",
    "<center>\n",
    "<img src=\"img/Qimage-67.JPG\" width=\"800\"/>\n",
    "</div>"
   ]
  },
  {
   "cell_type": "markdown",
   "metadata": {
    "slideshow": {
     "slide_type": "slide"
    }
   },
   "source": [
    "<div>\n",
    "<center>\n",
    "<img src=\"img/Qimage-68.JPG\" width=\"800\"/>\n",
    "</div>"
   ]
  },
  {
   "cell_type": "markdown",
   "metadata": {
    "slideshow": {
     "slide_type": "fragment"
    }
   },
   "source": [
    "<div>\n",
    "<center>\n",
    "<img src=\"img/Qimage-69.JPG\" width=\"800\"/>\n",
    "</div>"
   ]
  },
  {
   "cell_type": "markdown",
   "metadata": {
    "slideshow": {
     "slide_type": "fragment"
    }
   },
   "source": [
    "<div>\n",
    "<center>\n",
    "<img src=\"img/Qimage-70.JPG\" width=\"800\"/>\n",
    "</div>"
   ]
  },
  {
   "cell_type": "markdown",
   "metadata": {
    "slideshow": {
     "slide_type": "fragment"
    }
   },
   "source": [
    "### Is it a good clustering result?"
   ]
  },
  {
   "cell_type": "markdown",
   "metadata": {
    "slideshow": {
     "slide_type": "slide"
    }
   },
   "source": [
    "* We can assess the quality of the clustering by adding up the variation within each cluster.\n",
    "* And looking at the **total variation** within the clusters.\n",
    "\n",
    "<div>\n",
    "<center>\n",
    "<img src=\"img/Qimage-71.JPG\" width=\"800\"/>\n",
    "</div>"
   ]
  },
  {
   "cell_type": "markdown",
   "metadata": {
    "slideshow": {
     "slide_type": "fragment"
    }
   },
   "source": [
    "* This is the only option to keep track of these clusters, and their total variance, and do the whole thing over again with fdifferent starting points"
   ]
  },
  {
   "cell_type": "markdown",
   "metadata": {
    "slideshow": {
     "slide_type": "slide"
    }
   },
   "source": [
    "Let's go back to the beginning:\n",
    "1. Pick 3 initial clusters (points):\n",
    "<div>\n",
    "<center>\n",
    "<img src=\"img/Qimage-72.JPG\" width=\"800\"/>\n",
    "</div>"
   ]
  },
  {
   "cell_type": "markdown",
   "metadata": {
    "slideshow": {
     "slide_type": "fragment"
    }
   },
   "source": [
    "2. Clusters all the remaining points:\n",
    "<div>\n",
    "<center>\n",
    "<img src=\"img/Qimage-73.JPG\" width=\"800\"/>\n",
    "</div>"
   ]
  },
  {
   "cell_type": "markdown",
   "metadata": {
    "slideshow": {
     "slide_type": "fragment"
    }
   },
   "source": [
    "3. Calculate the mean of each cluster: \n",
    "<div>\n",
    "<center>\n",
    "<img src=\"img/Qimage-74.JPG\" width=\"800\"/>\n",
    "</div>"
   ]
  },
  {
   "cell_type": "markdown",
   "metadata": {
    "slideshow": {
     "slide_type": "fragment"
    }
   },
   "source": [
    "4. Recluster based on the new means:\n",
    "<div>\n",
    "<center>\n",
    "<img src=\"img/Qimage-75.JPG\" width=\"800\"/>\n",
    "</div>    "
   ]
  },
  {
   "cell_type": "markdown",
   "metadata": {
    "slideshow": {
     "slide_type": "slide"
    }
   },
   "source": [
    "5. It repeats until the clusters no longer change:\n",
    "\n",
    "<div>\n",
    "<center>\n",
    "<img src=\"img/Qimage-76.JPG\" width=\"780\"/>\n",
    "</div"
   ]
  },
  {
   "cell_type": "markdown",
   "metadata": {
    "slideshow": {
     "slide_type": "slide"
    }
   },
   "source": [
    "6. Calculate the **total variation**:\n",
    "\n",
    "<div>\n",
    "<center>\n",
    "<img src=\"img/Qimage-77.JPG\" width=\"800\"/>\n",
    "</div"
   ]
  },
  {
   "cell_type": "markdown",
   "metadata": {
    "slideshow": {
     "slide_type": "fragment"
    }
   },
   "source": [
    "And then do it all again:\n",
    "\n",
    "<div>\n",
    "<center>\n",
    "<img src=\"img/Qimage-78.JPG\" width=\"800\"/>\n",
    "</div"
   ]
  },
  {
   "cell_type": "markdown",
   "metadata": {
    "slideshow": {
     "slide_type": "-"
    }
   },
   "source": [
    "At this point, K-means clustering knows that the 2nd clustering is the best clustering so far. But, it does not know if it is the best overall, so it will do a few more clusters (as many as you tell it) and then come back and return the best one."
   ]
  },
  {
   "cell_type": "markdown",
   "metadata": {
    "slideshow": {
     "slide_type": "slide"
    }
   },
   "source": [
    "## Question\n",
    "\n",
    "How do you figure out what value to use for *K*?\n"
   ]
  },
  {
   "cell_type": "markdown",
   "metadata": {
    "slideshow": {
     "slide_type": "slide"
    }
   },
   "source": [
    "<div>\n",
    "<center>\n",
    "<table><tr>\n",
    "<td>\n",
    "    \n",
    "<img src=\"img/Qimage-79.JPG\" width=\"800\"/>\n",
    "    \n",
    "</td>\n",
    "<td>\n",
    "    \n",
    "<img src=\"img/Qimage-80.JPG\" width=\"800\"/>\n",
    "    \n",
    "</td>\n",
    "<td>\n",
    "    \n",
    "<img src=\"img/Qimage-81.JPG\" width=\"800\"/>\n",
    "    \n",
    "</td>    \n",
    "</tr></table>"
   ]
  },
  {
   "cell_type": "markdown",
   "metadata": {
    "slideshow": {
     "slide_type": "-"
    }
   },
   "source": [
    "<div>\n",
    "<center>\n",
    "<img src=\"img/Qimage-82.JPG\" width=\"600\"/>\n",
    "</div"
   ]
  },
  {
   "cell_type": "markdown",
   "metadata": {
    "slideshow": {
     "slide_type": "-"
    }
   },
   "source": [
    "* K=1 is the worst case scenario. We can quantify its badness ith the total variation.\n",
    "* K=2 is better, and we can quantify how much better by comparing the total variation within the 2 clusters to K=1.\n",
    "* K=3 is even better!  "
   ]
  },
  {
   "cell_type": "markdown",
   "metadata": {
    "slideshow": {
     "slide_type": "fragment"
    }
   },
   "source": [
    "* But, wait! K=4 is better than K=3 when we look at the total variation!"
   ]
  },
  {
   "cell_type": "markdown",
   "metadata": {},
   "source": [
    "<div>\n",
    "<center>\n",
    "<img src=\"img/Qimage-83.JPG\" width=\"600\"/>\n",
    "</div"
   ]
  },
  {
   "cell_type": "markdown",
   "metadata": {
    "slideshow": {
     "slide_type": "slide"
    }
   },
   "source": [
    "* Each time we add a new cluster, the total variation within each cluster is smaller than before.\n",
    "* And when there is only one point per cluster, the variation=0!"
   ]
  },
  {
   "cell_type": "markdown",
   "metadata": {
    "slideshow": {
     "slide_type": "fragment"
    }
   },
   "source": [
    "If we plot the reduction in variation per value K, there is huge reduction in variation with K=3, but after that, the variation does not go down as quickly.\n",
    "\n",
    "<div>\n",
    "<center>\n",
    "<img src=\"img/Qimage-84.JPG\" width=\"600\"/>\n",
    "</div"
   ]
  },
  {
   "cell_type": "markdown",
   "metadata": {
    "slideshow": {
     "slide_type": "slide"
    }
   },
   "source": [
    "## What if our data is 2-D?\n",
    "\n",
    "<div>\n",
    "<center>\n",
    "<img src=\"img/Qimage-85.JPG\" width=\"600\"/>\n",
    "</div"
   ]
  },
  {
   "cell_type": "code",
   "execution_count": 8,
   "metadata": {
    "slideshow": {
     "slide_type": "slide"
    }
   },
   "outputs": [
    {
     "name": "stdout",
     "output_type": "stream",
     "text": [
      "(4, 2)\n",
      "(100,)\n",
      "(100,)\n"
     ]
    }
   ],
   "source": [
    "from sklearn.datasets import make_blobs\n",
    "from sklearn.cluster import KMeans\n",
    "\n",
    "X, y = make_blobs(centers=3, random_state=1)\n",
    "k_means = KMeans(n_clusters=4, random_state=0)\n",
    "k_means.fit(X)\n",
    "\n",
    "print(k_means.cluster_centers_.shape)\n",
    "print(k_means.labels_.shape)\n",
    "print(k_means.predict(X).shape)"
   ]
  },
  {
   "cell_type": "code",
   "execution_count": 9,
   "metadata": {
    "slideshow": {
     "slide_type": "fragment"
    }
   },
   "outputs": [],
   "source": [
    "def scatter_plt(x, y, c, ax=None, **kwargs):\n",
    "    if ax is None:\n",
    "        ax = plt.gca()\n",
    "    ax.scatter(x, y, c=plt.cm.tab10(c), **kwargs)"
   ]
  },
  {
   "cell_type": "code",
   "execution_count": 10,
   "metadata": {
    "slideshow": {
     "slide_type": "fragment"
    }
   },
   "outputs": [
    {
     "data": {
      "text/plain": [
       "([], <a list of 0 Text major ticklabel objects>)"
      ]
     },
     "execution_count": 10,
     "metadata": {},
     "output_type": "execute_result"
    },
    {
     "data": {
      "image/png": "[encoded data removed]",
      "text/plain": [
       "<Figure size 432x288 with 1 Axes>"
      ]
     },
     "metadata": {},
     "output_type": "display_data"
    }
   ],
   "source": [
    "scatter_plt(X[:, 0], X[:, 1], c=k_means.labels_)\n",
    "plt.gca().set_aspect(\"equal\")\n",
    "plt.xticks(())\n",
    "plt.yticks(())"
   ]
  },
  {
   "cell_type": "markdown",
   "metadata": {
    "slideshow": {
     "slide_type": "slide"
    }
   },
   "source": [
    "# Let's Find The Elbow Point"
   ]
  },
  {
   "cell_type": "code",
   "execution_count": 11,
   "metadata": {
    "slideshow": {
     "slide_type": "-"
    }
   },
   "outputs": [
    {
     "name": "stderr",
     "output_type": "stream",
     "text": [
      "C:\\Users\\abpe\\Anaconda3\\lib\\site-packages\\sklearn\\cluster\\_kmeans.py:881: UserWarning: KMeans is known to have a memory leak on Windows with MKL, when there are less chunks than available threads. You can avoid it by setting the environment variable OMP_NUM_THREADS=1.\n",
      "  warnings.warn(\n"
     ]
    }
   ],
   "source": [
    "K = range(1, 8)\n",
    "inertia = []\n",
    "\n",
    "for k in K:\n",
    "    k_means = KMeans(n_clusters=k)\n",
    "    k_means.fit(X)\n",
    "    inertia.append(k_means.inertia_)"
   ]
  },
  {
   "cell_type": "code",
   "execution_count": 12,
   "metadata": {
    "slideshow": {
     "slide_type": "fragment"
    }
   },
   "outputs": [
    {
     "data": {
      "image/png": "[encoded data removed]",
      "text/plain": [
       "<Figure size 432x288 with 1 Axes>"
      ]
     },
     "metadata": {
      "needs_background": "light"
     },
     "output_type": "display_data"
    }
   ],
   "source": [
    "plt.plot(K, inertia, '-o', color='black')\n",
    "plt.xlabel('# of cluster, k', fontsize=16)\n",
    "plt.ylabel('Inertia (SS distances of samples \\n to their closest cluster center)', fontsize=16)\n",
    "plt.xticks(K)\n",
    "plt.show()"
   ]
  },
  {
   "cell_type": "markdown",
   "metadata": {
    "slideshow": {
     "slide_type": "slide"
    }
   },
   "source": [
    "# Other Clustering Algorithms"
   ]
  },
  {
   "cell_type": "markdown",
   "metadata": {
    "slideshow": {
     "slide_type": "-"
    }
   },
   "source": [
    "If you are interested in learning more about other clustering algorithms, please see link below:\n",
    "\n",
    "* Agglomerative (Hierarchical) Clustering\n",
    "\n",
    "(https://scikit-learn.org/stable/modules/generated/sklearn.cluster.AgglomerativeClustering.html)\n",
    "* DBSCAN - Density-Based Spatial Clustering of Applications with Noise\n",
    "\n",
    "(https://scikit-learn.org/stable/modules/generated/sklearn.cluster.DBSCAN.html)\n"
   ]
  },
  {
   "cell_type": "markdown",
   "metadata": {
    "slideshow": {
     "slide_type": "slide"
    }
   },
   "source": [
    "<font size=\"25\"><center>Outlier/Novelty Detection"
   ]
  },
  {
   "cell_type": "markdown",
   "metadata": {
    "slideshow": {
     "slide_type": "slide"
    }
   },
   "source": [
    "# Motivation"
   ]
  },
  {
   "cell_type": "markdown",
   "metadata": {
    "slideshow": {
     "slide_type": "-"
    }
   },
   "source": [
    "<div>\n",
    "<center>\n",
    "<table><tr>\n",
    "<td>\n",
    "    \n",
    "<img src=\"img/Qimage-86.JPG\" width=\"520\"/>\n",
    "    \n",
    "</td>\n",
    "<td>\n",
    "    \n",
    "<img src=\"img/Qimage-87.JPG\" width=\"500\"/>\n",
    "    \n",
    "</td>\n",
    "</tr></table>"
   ]
  },
  {
   "cell_type": "markdown",
   "metadata": {
    "slideshow": {
     "slide_type": "slide"
    }
   },
   "source": [
    "# Applications"
   ]
  },
  {
   "cell_type": "markdown",
   "metadata": {
    "slideshow": {
     "slide_type": "-"
    }
   },
   "source": [
    "* Fraud detection (credit cards, click fraud, ...)\n",
    "\n",
    "* Network failure detection\n",
    "\n",
    "* Intrusion detection in networks\n",
    "\n",
    "* Defect detection (engineering etc…)\n",
    "\n",
    "* News? Intelligence?"
   ]
  },
  {
   "cell_type": "markdown",
   "metadata": {
    "slideshow": {
     "slide_type": "fragment"
    }
   },
   "source": [
    "# Basic idea"
   ]
  },
  {
   "cell_type": "markdown",
   "metadata": {
    "slideshow": {
     "slide_type": "-"
    }
   },
   "source": [
    "* Model data distribution p(X)\n",
    "* Outlier: p(X)<ε"
   ]
  },
  {
   "cell_type": "markdown",
   "metadata": {
    "slideshow": {
     "slide_type": "slide"
    }
   },
   "source": [
    "# 1. One-Class SVM"
   ]
  },
  {
   "cell_type": "markdown",
   "metadata": {
    "slideshow": {
     "slide_type": "-"
    }
   },
   "source": [
    "* An unsupervised outlier detection.\n",
    "* Only select support vectors (not all points)\n",
    "* Specify outlier ratio (contamination) via nu\n",
    "* Very efficient for high-dimensional data\n",
    "https://scikit-learn.org/stable/modules/generated/sklearn.svm.OneClassSVM.html"
   ]
  },
  {
   "cell_type": "code",
   "execution_count": 13,
   "metadata": {
    "slideshow": {
     "slide_type": "fragment"
    }
   },
   "outputs": [
    {
     "data": {
      "image/png": "[encoded data removed]",
      "text/plain": [
       "<Figure size 432x288 with 1 Axes>"
      ]
     },
     "metadata": {
      "needs_background": "light"
     },
     "output_type": "display_data"
    }
   ],
   "source": [
    "X, _ = make_blobs(n_samples=200, centers=1, cluster_std=.3, center_box=(8, 8), random_state=42)\n",
    "\n",
    "plt.scatter(X[:,0], X[:,1])\n",
    "plt.show()"
   ]
  },
  {
   "cell_type": "code",
   "execution_count": 16,
   "metadata": {
    "slideshow": {
     "slide_type": "slide"
    }
   },
   "outputs": [],
   "source": [
    "from sklearn.svm import OneClassSVM\n",
    "svm = OneClassSVM(kernel='rbf', gamma=0.001, nu=0.03)\n",
    "svm.fit(X)\n",
    "pred = svm.predict(X)\n",
    "\n",
    "from numpy import where\n",
    "anomaly_index = where(pred==-1)\n",
    "anomalies = X[anomaly_index]"
   ]
  },
  {
   "cell_type": "code",
   "execution_count": 18,
   "metadata": {
    "slideshow": {
     "slide_type": "fragment"
    }
   },
   "outputs": [
    {
     "data": {
      "image/png": "[encoded data removed]",
      "text/plain": [
       "<Figure size 432x288 with 1 Axes>"
      ]
     },
     "metadata": {
      "needs_background": "light"
     },
     "output_type": "display_data"
    }
   ],
   "source": [
    "plt.scatter(X[:,0], X[:,1])\n",
    "plt.scatter(anomalies[:,0], anomalies[:,1], color='r')\n",
    "plt.show()"
   ]
  },
  {
   "cell_type": "markdown",
   "metadata": {
    "slideshow": {
     "slide_type": "slide"
    }
   },
   "source": [
    "# 2. Isolation Forests"
   ]
  },
  {
   "cell_type": "markdown",
   "metadata": {
    "slideshow": {
     "slide_type": "-"
    }
   },
   "source": [
    "* It identifies anomalies by isolating outliers in the data.\n",
    "* It detects anomalies faster and also requires less memory compared to other anomaly detection algorithms.\n",
    "* Isolation forest works on the principle of the decision tree algorithm."
   ]
  },
  {
   "cell_type": "markdown",
   "metadata": {},
   "source": [
    "<div>\n",
    "<center>\n",
    "<img src=\"img/Qimage-88.JPG\" width=\"500\"/>\n",
    "</div\n",
    "\n",
    "<div>\n",
    "<center>\n",
    "<img src=\"img/Qimage-89.JPG\" width=\"800\"/>\n",
    "</div"
   ]
  },
  {
   "cell_type": "markdown",
   "metadata": {
    "slideshow": {
     "slide_type": "slide"
    }
   },
   "source": [
    "## Comparison Between Isolation Forests and One-Class SVM"
   ]
  },
  {
   "cell_type": "markdown",
   "metadata": {
    "slideshow": {
     "slide_type": "-"
    }
   },
   "source": [
    "<div>\n",
    "<center>\n",
    "<img src=\"img/Qimage-90.JPG\" width=\"500\"/>\n",
    "</div"
   ]
  },
  {
   "cell_type": "markdown",
   "metadata": {
    "slideshow": {
     "slide_type": "slide"
    }
   },
   "source": [
    "PyOD library:\n",
    "\n",
    "https://pyod.readthedocs.io/en/latest/#"
   ]
  },
  {
   "cell_type": "markdown",
   "metadata": {
    "slideshow": {
     "slide_type": "slide"
    }
   },
   "source": [
    "# It Is Your Turn\n",
    "### Plese implement Isolation Forests similar to One-Class SVM!"
   ]
  },
  {
   "cell_type": "code",
   "execution_count": null,
   "metadata": {
    "slideshow": {
     "slide_type": "-"
    }
   },
   "outputs": [],
   "source": [
    "# YOUR CODE HERE\n"
   ]
  },
  {
   "cell_type": "markdown",
   "metadata": {
    "slideshow": {
     "slide_type": "slide"
    }
   },
   "source": [
    "<font size=\"25\"><center>Thank you!"
   ]
  }
 ],
 "metadata": {
  "celltoolbar": "Slideshow",
  "kernelspec": {
   "display_name": "Python 3",
   "language": "python",
   "name": "python3"
  },
  "language_info": {
   "codemirror_mode": {
    "name": "ipython",
    "version": 3
   },
   "file_extension": ".py",
   "mimetype": "text/x-python",
   "name": "python",
   "nbconvert_exporter": "python",
   "pygments_lexer": "ipython3",
   "version": "3.8.3"
  }
 },
 "nbformat": 4,
 "nbformat_minor": 4
}
