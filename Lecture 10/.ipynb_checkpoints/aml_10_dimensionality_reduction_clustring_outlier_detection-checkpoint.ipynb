{
 "cells": [
  {
   "cell_type": "markdown",
   "metadata": {
    "slideshow": {
     "slide_type": "slide"
    }
   },
   "source": [
    "<center><img src=\"img/aml-logo.png\" width=\"600\"/>\n",
    "\n",
    "***\n",
    "\n",
    "<center>Lecture 10</center>\n",
    "\n",
    "***\n",
    "\n",
    "<center>Dimensionality_Reduction <br> + <br>Clustering<br> + <br>Outlier Detection</center>\n",
    "\n",
    "***\n",
    "\n",
    "<center>15 April 2021<center>\n",
    "<center>Rahman Peimankar<center>"
   ]
  },
  {
   "cell_type": "code",
   "execution_count": null,
   "metadata": {
    "slideshow": {
     "slide_type": "-"
    }
   },
   "outputs": [],
   "source": []
  },
  {
   "cell_type": "markdown",
   "metadata": {
    "slideshow": {
     "slide_type": "slide"
    }
   },
   "source": [
    "# Principal Component Analysis (PCA)"
   ]
  },
  {
   "cell_type": "markdown",
   "metadata": {
    "slideshow": {
     "slide_type": "-"
    }
   },
   "source": [
    "* We are going to go through PCA using Singular Value Decomposition (SVD).\n",
    "* You will learn what PCA does, how it does it, and how to use it to get deeper insidet into your data."
   ]
  },
  {
   "cell_type": "markdown",
   "metadata": {
    "slideshow": {
     "slide_type": "slide"
    }
   },
   "source": [
    "Let's start with a simple data:"
   ]
  },
  {
   "cell_type": "markdown",
   "metadata": {
    "slideshow": {
     "slide_type": "-"
    }
   },
   "source": [
    "<div>\n",
    "<center>\n",
    "<img src=\"img/Qimage-1.JPG\" width=\"550\"/>\n",
    "</div>"
   ]
  },
  {
   "cell_type": "markdown",
   "metadata": {
    "slideshow": {
     "slide_type": "fragment"
    }
   },
   "source": [
    "If we only measure 1 gene, we can plot the data on a number line:"
   ]
  },
  {
   "cell_type": "markdown",
   "metadata": {
    "slideshow": {
     "slide_type": "-"
    }
   },
   "source": [
    "<div>\n",
    "<center>\n",
    "<img src=\"img/Qimage-2.JPG\" width=\"550\"/>\n",
    "</div>"
   ]
  },
  {
   "cell_type": "markdown",
   "metadata": {
    "slideshow": {
     "slide_type": "-"
    }
   },
   "source": [
    "Even though it is a simple graph, it shows us that mice 1, 2 and 3 are more similar to each other than they are to mice 4, 5 and 6. "
   ]
  },
  {
   "cell_type": "markdown",
   "metadata": {
    "slideshow": {
     "slide_type": "slide"
    }
   },
   "source": [
    "If we measure 2 genes, then we can plot the data on a 2-D x-y graph!"
   ]
  },
  {
   "cell_type": "markdown",
   "metadata": {
    "slideshow": {
     "slide_type": "-"
    }
   },
   "source": [
    "<div>\n",
    "<center>\n",
    "<img src=\"img/Qimage-3.JPG\" width=\"350\"/>\n",
    "</div>"
   ]
  },
  {
   "cell_type": "markdown",
   "metadata": {
    "slideshow": {
     "slide_type": "-"
    }
   },
   "source": [
    "* We can see that mice 1, 2 and 3 cluster on the right side.\n",
    "* And mice 4, 5 and 6 cluster on the lower left side."
   ]
  },
  {
   "cell_type": "markdown",
   "metadata": {
    "slideshow": {
     "slide_type": "slide"
    }
   },
   "source": [
    "If we measured 3 genes, we would add another axis to the graph and make it look 3-D."
   ]
  },
  {
   "cell_type": "markdown",
   "metadata": {
    "slideshow": {
     "slide_type": "-"
    }
   },
   "source": [
    "<div>\n",
    "<center>\n",
    "<img src=\"img/Qimage-4.JPG\" width=\"950\"/>\n",
    "</div>"
   ]
  },
  {
   "cell_type": "markdown",
   "metadata": {
    "slideshow": {
     "slide_type": "-"
    }
   },
   "source": [
    "* The smaller dots have larger values for Gene 3 and are \"further away\".\n",
    "* The larger dots have smaller values for Gene 3 and are \"closer\"."
   ]
  },
  {
   "cell_type": "markdown",
   "metadata": {
    "slideshow": {
     "slide_type": "slide"
    }
   },
   "source": [
    "If we measure 4 genes, however, we can no longer plot the data - 4 genes require 4 dimensions."
   ]
  },
  {
   "cell_type": "markdown",
   "metadata": {
    "slideshow": {
     "slide_type": "-"
    }
   },
   "source": [
    "<div>\n",
    "<center>\n",
    "<img src=\"img/Qimage-5.JPG\" width=\"550\"/>\n",
    "</div>"
   ]
  },
  {
   "cell_type": "markdown",
   "metadata": {
    "slideshow": {
     "slide_type": "fragment"
    }
   },
   "source": [
    "1. So, we are going to talk about how PCA can take 4 or more gene measurements (and thus, 4 or more dimensions), and make a 2-D PCA plot.\n",
    "\n",
    "2. We will also talk about how PCA can tell us which gene (or variable) is the most valuable for clustering the data.\n",
    "\n",
    "3. Lastly, we will talk about how PCA can tell us how accurate the 2-D graph is."
   ]
  },
  {
   "cell_type": "markdown",
   "metadata": {
    "slideshow": {
     "slide_type": "slide"
    }
   },
   "source": [
    "Let's go back to the datset that only had 2 genes:\n",
    "\n",
    "<div>\n",
    "<center>\n",
    "<img src=\"img/Qimage-6.JPG\" width=\"850\"/>\n",
    "</div>"
   ]
  },
  {
   "cell_type": "markdown",
   "metadata": {
    "slideshow": {
     "slide_type": "slide"
    }
   },
   "source": [
    "We will calculate the average measurement for Gene 1:\n",
    "\n",
    "<div>\n",
    "<center>\n",
    "<img src=\"img/Qimage-7.JPG\" width=\"850\"/>\n",
    "</div>\n"
   ]
  },
  {
   "cell_type": "markdown",
   "metadata": {
    "slideshow": {
     "slide_type": "fragment"
    }
   },
   "source": [
    "And the average measurement for Gene 2:\n",
    "    \n",
    "<div>\n",
    "<center>\n",
    "<img src=\"img/Qimage-8.JPG\" width=\"850\"/>\n",
    "</div>"
   ]
  },
  {
   "cell_type": "markdown",
   "metadata": {
    "slideshow": {
     "slide_type": "slide"
    }
   },
   "source": [
    "With the average values, we can calculate the center of the data.\n",
    "\n",
    "<div>\n",
    "<center>\n",
    "<img src=\"img/Qimage-9.JPG\" width=\"450\"/>\n",
    "</div>"
   ]
  },
  {
   "cell_type": "markdown",
   "metadata": {
    "slideshow": {
     "slide_type": "fragment"
    }
   },
   "source": [
    "**From this point on, we will focus on what happens in the graph and we no longer need the original data.**\n",
    "\n",
    "<div>\n",
    "<center>\n",
    "<img src=\"img/Qimage-10.JPG\" width=\"450\"/>\n",
    "</div>"
   ]
  },
  {
   "cell_type": "markdown",
   "metadata": {
    "slideshow": {
     "slide_type": "slide"
    }
   },
   "source": [
    "* Now we shift the data that the **center** is on top of the **origin (0,0)** in the graph. \n",
    "\n",
    "<div>\n",
    "<center>\n",
    "<img src=\"img/Qimage-11.JPG\" width=\"450\"/>\n",
    "</div>\n",
    "    \n",
    "**NOTE**: Shifting the data did not change how the data points are positioned **relative to each other**. For example, the highest point is still the highest point in the shifted data!"
   ]
  },
  {
   "cell_type": "markdown",
   "metadata": {
    "slideshow": {
     "slide_type": "slide"
    }
   },
   "source": [
    "Now let's fit a line to the data:\n",
    "* We start by fitting random lines that go through the origin and rotate the lines to find the best fitted line.\n",
    "* The below line fits best.\n",
    "\n",
    "<div>\n",
    "<center>\n",
    "<img src=\"img/Qimage-12.JPG\" width=\"650\"/>\n",
    "</div>"
   ]
  },
  {
   "cell_type": "markdown",
   "metadata": {
    "slideshow": {
     "slide_type": "fragment"
    }
   },
   "source": [
    "**BUT**: First we need to talk about how PCA decides if a fit is good or not?"
   ]
  },
  {
   "cell_type": "markdown",
   "metadata": {
    "slideshow": {
     "slide_type": "slide"
    }
   },
   "source": [
    "Let's go back and fit a **random line that goes through origin**:\n",
    "\n",
    "* To quantify how good this line fits the data, PCA projects the data onto it.\n",
    "\n",
    "<div>\n",
    "<center>\n",
    "<img src=\"img/Qimage-13.JPG\" width=\"550\"/>\n",
    "</div>\n",
    "    "
   ]
  },
  {
   "cell_type": "markdown",
   "metadata": {
    "slideshow": {
     "slide_type": "fragment"
    }
   },
   "source": [
    "1. It can either measure the distances from the data to the line and try to find the line that **minimizes** those distances, or\n",
    "2. it can try to find the line that **maximizes** the distances from the projected points to the origin."
   ]
  },
  {
   "cell_type": "markdown",
   "metadata": {
    "slideshow": {
     "slide_type": "slide"
    }
   },
   "source": [
    "<div>\n",
    "<center>\n",
    "<table><tr>\n",
    "<td>\n",
    "    \n",
    "<img src=\"img/Qimage-14.jpg\" width=\"900\"/>\n",
    "    \n",
    "</td>\n",
    "<td>\n",
    "    \n",
    "<img src=\"img/Qimage-15.jpg\" width=\"900\"/>\n",
    "    \n",
    "</td>\n",
    "<td>\n",
    "    \n",
    "<img src=\"img/Qimage-16.jpg\" width=\"900\"/>\n",
    "    \n",
    "</td>\n",
    "</tr></table>"
   ]
  },
  {
   "cell_type": "markdown",
   "metadata": {
    "slideshow": {
     "slide_type": "fragment"
    }
   },
   "source": [
    "<div>\n",
    "<center>\n",
    "<table><tr>\n",
    "<td>\n",
    "    \n",
    "<img src=\"img/Qimage-17.jpg\" width=\"900\"/>\n",
    "    \n",
    "</td>\n",
    "<td>\n",
    "    \n",
    "<img src=\"img/Qimage-18.jpg\" width=\"900\"/>\n",
    "    \n",
    "</td>\n",
    "<td>\n",
    "    \n",
    "<img src=\"img/Qimage-19.jpg\" width=\"900\"/>\n",
    "    \n",
    "</td>\n",
    "</tr></table>"
   ]
  },
  {
   "cell_type": "markdown",
   "metadata": {
    "slideshow": {
     "slide_type": "slide"
    }
   },
   "source": [
    "We measure the distances from the points to the origin: $d_1, d_2, d_3, d_4, d_5, d_6$ \n",
    "\n",
    "<div>\n",
    "<center>\n",
    "<table><tr>\n",
    "<td>\n",
    "    \n",
    "<img src=\"img/Qimage-20.jpg\" width=\"700\"/>\n",
    "    \n",
    "</td>\n",
    "<td>\n",
    "    \n",
    "<img src=\"img/Qimage-21.jpg\" width=\"700\"/>\n",
    "    \n",
    "</td>\n",
    "<td>\n",
    "    \n",
    "<img src=\"img/Qimage-22.jpg\" width=\"700\"/>\n",
    "    \n",
    "</td>\n",
    "</tr></table>"
   ]
  },
  {
   "cell_type": "markdown",
   "metadata": {
    "slideshow": {
     "slide_type": "-"
    }
   },
   "source": [
    "* We square the distances so that negative values do not cancel out positive values.\n",
    "* Then we sum up all these squared distances.\n",
    "* This is called *sum of squared distances*\n",
    "\n",
    "$d_1^2 + d_2^2 + d_3^2 + d_4^2 + d_5^2 + d_6^2 =$ sum of squared distances = SS(distances)"
   ]
  },
  {
   "cell_type": "markdown",
   "metadata": {
    "slideshow": {
     "slide_type": "fragment"
    }
   },
   "source": [
    "* We repeat this process by rotating the line and calculate the *sum of squared distances* for the new line.\n",
    "* The line that has the largest *sum of squared distances* between the projected points and the origin is the *best* fitted line."
   ]
  },
  {
   "cell_type": "markdown",
   "metadata": {
    "slideshow": {
     "slide_type": "slide"
    }
   },
   "source": [
    "Ultimately, we end up with this line. It has the largest SS(distances).\n",
    "\n",
    "<div>\n",
    "<center>\n",
    "<img src=\"img/Qimage-23.JPG\" width=\"550\"/>\n",
    "</div>"
   ]
  },
  {
   "cell_type": "markdown",
   "metadata": {
    "slideshow": {
     "slide_type": "-"
    }
   },
   "source": [
    "* This line is called **Principal Component 1** (**PC1** for short).\n",
    "* PC1 has a slope of 0.25.\n",
    "* In other words, for every **4** units that we go out along the Gene 1 axis, we go up **1** unit along the Gene 2 axis.\n",
    "* That means that the data are mostly spread out along the Gene 1 axis. And only a little bit spread out along the Gene 2 axis.\n",
    "\n",
    "<div>\n",
    "<center>\n",
    "<img src=\"img/Qimage-24.JPG\" width=\"550\"/>\n",
    "</div>\n",
    "    \n",
    "**NOTE**: To make PC1, we need to mix **4** parts of Gene 1 with **1** parts of Gene 2. This is called *linear combination* of Genes 1 and 2."
   ]
  },
  {
   "cell_type": "markdown",
   "metadata": {
    "slideshow": {
     "slide_type": "slide"
    }
   },
   "source": [
    "<div>\n",
    "<center>\n",
    "<img src=\"img/Qimage-25.JPG\" width=\"550\"/>\n",
    "</div>"
   ]
  },
  {
   "cell_type": "markdown",
   "metadata": {
    "slideshow": {
     "slide_type": "fragment"
    }
   },
   "source": [
    "When you do PCA with SVD, the PC1 is scaled so that the length of the red line is equal to **1**."
   ]
  },
  {
   "cell_type": "markdown",
   "metadata": {
    "slideshow": {
     "slide_type": "slide"
    }
   },
   "source": [
    "So, all we have to do to scale the triangle so that the red line is 1 unit long is to divide each side by **4.12**.\n",
    "\n",
    "<div>\n",
    "<center>\n",
    "<img src=\"img/Qimage-26.JPG\" width=\"550\"/>\n",
    "</div>"
   ]
  },
  {
   "cell_type": "markdown",
   "metadata": {
    "slideshow": {
     "slide_type": "fragment"
    }
   },
   "source": [
    "* The new values change our recipe and to make **PC1** we should mix:\n",
    "    1. **0.97** parts of Gene 1 with\n",
    "    2. **0.242** parts of Gene 2.\n",
    "    \n",
    "**BUT**, the ratio is the same: we will use 4 times as much Gene 1 as Gene 2. "
   ]
  },
  {
   "cell_type": "markdown",
   "metadata": {
    "slideshow": {
     "slide_type": "slide"
    }
   },
   "source": [
    "<div>\n",
    "<center>\n",
    "<table><tr>\n",
    "<td>\n",
    "    \n",
    "<img src=\"img/Qimage-27.jpg\" width=\"500\"/>\n",
    "    \n",
    "</td>\n",
    "<td>\n",
    "    \n",
    "<img src=\"img/Qimage-28.jpg\" width=\"560\"/>\n",
    "    \n",
    "</td>\n",
    "</tr></table>\n",
    "    \n",
    "* This 1 unit long vector, consisiting of **0.97** parts Gene 1 and **0.242** parts Gene 2, is called the **Singular Vector** or the **Eigenvector** for **PC1**.\n",
    "* The proportions of each gene are called **Loading Scores**.\n",
    "* Also, PCA calls the SS(distances) for the best fitted line the **Eigenvalue for PC1**! And the square root of the **Eigenvalue for PC1** is called the **Singular Value for PC1**.\n",
    "    \n",
    "SS(distances for PC1) = Eigenvalue for PC1\n",
    "    \n",
    "$\\sqrt{\\text{Eigenvalue for PC1}}$ = Singular Value for PC1"
   ]
  },
  {
   "cell_type": "markdown",
   "metadata": {
    "slideshow": {
     "slide_type": "slide"
    }
   },
   "source": [
    "Now, let's work on **PC2**!\n",
    "\n",
    "* Because this is only a 2-D graph, **PC2** is simply the line through the origin that is prependicular to **PC1**, without any further optimization that has to be done.\n",
    "* And, this means that the recipe for PC2 is **-1** parts Gene 1 and **4** parts Gene 2. If we scale everything so that get a unit vector, the recipe is **-0.242** parts Gene 1 and **0.97** parts Gene 2.\n",
    "* Lastly, the **Eigenvalue for PC2** is the SS(distances) between the projected points and the origin.\n",
    "\n",
    "<div>\n",
    "<center>\n",
    "<table><tr>\n",
    "<td>\n",
    "    \n",
    "<img src=\"img/Qimage-29.jpg\" width=\"510\"/>\n",
    "    \n",
    "</td>\n",
    "<td>\n",
    "    \n",
    "<img src=\"img/Qimage-30.jpg\" width=\"500\"/>\n",
    "    \n",
    "</td>\n",
    "<td>\n",
    "    \n",
    "<img src=\"img/Qimage-31.jpg\" width=\"530\"/>\n",
    "    \n",
    "</td>\n",
    "</tr></table>"
   ]
  },
  {
   "cell_type": "markdown",
   "metadata": {
    "slideshow": {
     "slide_type": "slide"
    }
   },
   "source": [
    "To draw the final PCA plot, we simply rotate everything so that PC1 is horizontal!\n",
    "\n",
    "<div>\n",
    "<center>\n",
    "<table><tr>\n",
    "<td>\n",
    "    \n",
    "<img src=\"img/Qimage-32.jpg\" width=\"570\"/>\n",
    "    \n",
    "</td>\n",
    "<td>\n",
    "    \n",
    "<img src=\"img/Qimage-33.jpg\" width=\"500\"/>\n",
    "    \n",
    "</td>\n",
    "</tr></table>"
   ]
  },
  {
   "cell_type": "markdown",
   "metadata": {
    "slideshow": {
     "slide_type": "slide"
    }
   },
   "source": [
    "* Then we use the projected points to find where the samples go in the PCA plot.\n",
    "* For example, these projected points correspond the sample 6.\n",
    "\n",
    "<div>\n",
    "<center>\n",
    "<img src=\"img/Qimage-34.JPG\" width=\"400\"/>\n",
    "</div>\n",
    "    \n",
    "And samples 1 and 2 go here and so on.\n",
    "    \n",
    "<div>\n",
    "<center>\n",
    "<table><tr>\n",
    "<td>\n",
    "    \n",
    "<img src=\"img/Qimage-35.jpg\" width=\"320\"/>\n",
    "    \n",
    "</td>\n",
    "<td>\n",
    "    \n",
    "<img src=\"img/Qimage-36.jpg\" width=\"390\"/>\n",
    "    \n",
    "</td>\n",
    "<td>\n",
    "    \n",
    "<img src=\"img/Qimage-37.jpg\" width=\"390\"/>\n",
    "    \n",
    "</td>\n",
    "</tr></table>\n",
    "    \n",
    "**This is how PCA is done using SVD.**"
   ]
  },
  {
   "cell_type": "markdown",
   "metadata": {
    "slideshow": {
     "slide_type": "slide"
    }
   },
   "source": [
    "**One last thing!**\n",
    "\n",
    "Remember the eigenvalues?\n",
    "\n",
    "SS(distances for PC1) = Eigenvalue for PC1\n",
    "\n",
    "SS(distances for PC2) = Eigenvalue for PC2"
   ]
  },
  {
   "cell_type": "markdown",
   "metadata": {
    "slideshow": {
     "slide_type": "skip"
    }
   },
   "source": [
    "We got those by\n",
    "1. pojecting the data onto the principal components,\n",
    "2. measuring the distances to the origin, and \n",
    "3. then squaring and adding them together.\n",
    "\n",
    "<div>\n",
    "<center>\n",
    "<table><tr>\n",
    "<td>\n",
    "    \n",
    "<img src=\"img/Qimage-38.jpg\" width=\"300\"/>\n",
    "    \n",
    "</td>\n",
    "<td>\n",
    "    \n",
    "<img src=\"img/Qimage-39.jpg\" width=\"300\"/>\n",
    "    \n",
    "</td>\n",
    "</tr></table>"
   ]
  },
  {
   "cell_type": "markdown",
   "metadata": {
    "slideshow": {
     "slide_type": "fragment"
    }
   },
   "source": [
    "We can convert them into variation around the origin (0,0) by dividing by the sample size minus 1 (i.e. *n-1*).\n",
    "\n",
    "$\\frac{\\text{Eigenvalue for PC1}}{n-1}$ = Variation for PC1\n",
    "\n",
    "$\\frac{\\text{Eigenvalue for PC2}}{n-1}$ = Variation for PC2"
   ]
  },
  {
   "cell_type": "markdown",
   "metadata": {
    "slideshow": {
     "slide_type": "slide"
    }
   },
   "source": [
    "* For example, imagine that the variation for **PC1 = 15** and for **PC2 = 3**.\n",
    "* That means that the total variation around both PCs is **15 + 3 = 18**.\n",
    "* Consequently, PC1 accounts for **15/18 = 0.83 = 83%** of the total variation and PC2 accounts for **3/18 = 0.17 = 17%** of the total variation.\n",
    "\n",
    "<div>\n",
    "<center>\n",
    "<img src=\"img/Qimage-40.JPG\" width=\"400\"/>\n",
    "</div>"
   ]
  },
  {
   "cell_type": "markdown",
   "metadata": {
    "slideshow": {
     "slide_type": "fragment"
    }
   },
   "source": [
    "**Note**: A **Scree Plot** is a graphical representation of the percentages of variation that each PC accounts for.\n",
    "\n",
    "<div>\n",
    "<center>\n",
    "<img src=\"img/Qimage-41.JPG\" width=\"200\"/>\n",
    "</div>"
   ]
  },
  {
   "cell_type": "markdown",
   "metadata": {
    "slideshow": {
     "slide_type": "slide"
    }
   },
   "source": [
    "## What if we had more than 2 Genes?\n",
    "\n",
    "<div>\n",
    "<center>\n",
    "<img src=\"img/Qimage-42.JPG\" width=\"500\"/>\n",
    "</div>"
   ]
  },
  {
   "cell_type": "markdown",
   "metadata": {
    "slideshow": {
     "slide_type": "slide"
    }
   },
   "source": [
    "## What if we have 4-D data or 4 Genes?\n",
    "\n",
    "<div>\n",
    "<center>\n",
    "<img src=\"img/Qimage-43.JPG\" width=\"400\"/>\n",
    "</div>"
   ]
  },
  {
   "cell_type": "markdown",
   "metadata": {
    "slideshow": {
     "slide_type": "slide"
    }
   },
   "source": [
    "## What if we get a scree plot like below?\n",
    "\n",
    "<div>\n",
    "<center>\n",
    "<img src=\"img/Qimage-44.JPG\" width=\"400\"/>\n",
    "</div>"
   ]
  },
  {
   "cell_type": "markdown",
   "metadata": {
    "slideshow": {
     "slide_type": "slide"
    }
   },
   "source": [
    "## Practical Tips on PCA\n"
   ]
  },
  {
   "cell_type": "markdown",
   "metadata": {
    "slideshow": {
     "slide_type": "-"
    }
   },
   "source": [
    "### 1. Scaling your data\n",
    "\n",
    "<div>\n",
    "<center>\n",
    "<img src=\"img/Qimage-45.JPG\" width=\"700\"/>\n",
    "</div>"
   ]
  },
  {
   "cell_type": "markdown",
   "metadata": {
    "slideshow": {
     "slide_type": "-"
    }
   },
   "source": [
    "* Math scores are between 0 and 100 and they are spread out in the graph.\n",
    "* In contrast, reading scores are only from 0 to 10 and they are squeezed on the graph.\n"
   ]
  },
  {
   "cell_type": "markdown",
   "metadata": {
    "slideshow": {
     "slide_type": "slide"
    }
   },
   "source": [
    "If we centered the data and did PCA on it, we get this recipe for PC1:\n",
    "* To make PC1: Mix **0.99** parts math with **0.1** parts reading.\n",
    "* It suggests that Math is 10 times better than Reading for capturing variation. \n",
    "\n",
    "This is only because the math scores are on a scale **10 times larger** than the scale for reading scores.\n",
    "\n",
    "<div>\n",
    "<center>\n",
    "<img src=\"img/Qimage-46.JPG\" width=\"700\"/>\n",
    "</div>"
   ]
  },
  {
   "cell_type": "markdown",
   "metadata": {
    "slideshow": {
     "slide_type": "slide"
    }
   },
   "source": [
    "If we divided the math scoes by 10 and replotted:\n",
    "\n",
    "<div>\n",
    "<center>\n",
    "<img src=\"img/Qimage-47.JPG\" width=\"700\"/>\n",
    "</div>"
   ]
  },
  {
   "cell_type": "markdown",
   "metadata": {
    "slideshow": {
     "slide_type": "slide"
    }
   },
   "source": [
    "And if we centered the data and did PCA on it, we would get this recipe for PC1:\n",
    "* To make PC1: Mix 0.77 parts math with 0.77 parts reading.\n",
    "* This suggest that Reading and Math are equally good at capturing variation. \n",
    "\n",
    "<div>\n",
    "<center>\n",
    "<img src=\"img/Qimage-48.JPG\" width=\"400\"/>\n",
    "</div>"
   ]
  },
  {
   "cell_type": "markdown",
   "metadata": {
    "slideshow": {
     "slide_type": "fragment"
    }
   },
   "source": [
    "**Note**: You need to make sure that the scales for each variable (in this case, math and reading scores) are roughly equivalent, otherwise you will be biased towards one of them."
   ]
  },
  {
   "cell_type": "markdown",
   "metadata": {
    "slideshow": {
     "slide_type": "-"
    }
   },
   "source": [
    "**The standard practice is to divide each variable by its standard deviation.**"
   ]
  },
  {
   "cell_type": "markdown",
   "metadata": {
    "slideshow": {
     "slide_type": "slide"
    }
   },
   "source": [
    "### 2. How many principal components you should expect to get?\n",
    "\n",
    "* In the previous example, we found 2 PCs.\n",
    "* And we did not asked if there were any more PCs.\n",
    "\n",
    "<div>\n",
    "<center>\n",
    "<img src=\"img/Qimage-48.JPG\" width=\"400\"/>\n",
    "</div>\n",
    "    \n",
    "**Is there a 3rd PC? Or can we find a line prependicular to both PC1 and PC2?**"
   ]
  },
  {
   "cell_type": "markdown",
   "metadata": {
    "slideshow": {
     "slide_type": "slide"
    }
   },
   "source": [
    "## What if both math and reading scores are 100% correlated? "
   ]
  },
  {
   "cell_type": "markdown",
   "metadata": {
    "slideshow": {
     "slide_type": "-"
    }
   },
   "source": [
    "<div>\n",
    "<center>\n",
    "<img src=\"img/Qimage-49.JPG\" width=\"500\"/>\n",
    "</div>\n",
    "    "
   ]
  },
  {
   "cell_type": "markdown",
   "metadata": {
    "slideshow": {
     "slide_type": "slide"
    }
   },
   "source": [
    "* We center the data \n",
    "* Then we found the best fitting line (PC1)\n",
    "* Technically speaking, we could find a line prependicular to PC1\n",
    "\n",
    "<div>\n",
    "<center>\n",
    "<img src=\"img/Qimage-50.JPG\" width=\"500\"/>\n",
    "</div>"
   ]
  },
  {
   "cell_type": "markdown",
   "metadata": {
    "slideshow": {
     "slide_type": "slide"
    }
   },
   "source": [
    "## What if we had only two students?\n",
    "\n",
    "<div>\n",
    "<center>\n",
    "<img src=\"img/Qimage-51.JPG\" width=\"500\"/>\n",
    "</div>"
   ]
  },
  {
   "cell_type": "markdown",
   "metadata": {
    "slideshow": {
     "slide_type": "slide"
    }
   },
   "source": [
    "* We center the data \n",
    "* Then we found the best fitting line (PC1)\n",
    "* Technically speaking, we could find a line prependicular to PC1\n",
    "\n",
    "<div>\n",
    "<center>\n",
    "<img src=\"img/Qimage-52.JPG\" width=\"500\"/>\n",
    "</div>"
   ]
  },
  {
   "cell_type": "code",
   "execution_count": null,
   "metadata": {},
   "outputs": [],
   "source": []
  }
 ],
 "metadata": {
  "celltoolbar": "Slideshow",
  "kernelspec": {
   "display_name": "Python 3",
   "language": "python",
   "name": "python3"
  },
  "language_info": {
   "codemirror_mode": {
    "name": "ipython",
    "version": 3
   },
   "file_extension": ".py",
   "mimetype": "text/x-python",
   "name": "python",
   "nbconvert_exporter": "python",
   "pygments_lexer": "ipython3",
   "version": "3.8.3"
  }
 },
 "nbformat": 4,
 "nbformat_minor": 4
}
