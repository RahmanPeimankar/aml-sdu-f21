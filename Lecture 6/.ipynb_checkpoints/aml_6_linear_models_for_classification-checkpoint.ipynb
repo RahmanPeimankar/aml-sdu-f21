{
 "cells": [
  {
   "cell_type": "markdown",
   "metadata": {
    "slideshow": {
     "slide_type": "slide"
    }
   },
   "source": [
    "<center>Applied Machine Learning</center>\n",
    "\n",
    "***\n",
    "\n",
    "<center>Lecture 6</center>\n",
    "\n",
    "***\n",
    "\n",
    "<center>Linear models for Classification</center>\n",
    "\n",
    "***\n",
    "\n",
    "<center>11 March 2021<center>\n",
    "<center>Rahman Peimankar<center>"
   ]
  },
  {
   "cell_type": "markdown",
   "metadata": {
    "slideshow": {
     "slide_type": "slide"
    }
   },
   "source": [
    "<font size=\"8\"><center> Linear models for **binary** classfication"
   ]
  },
  {
   "cell_type": "markdown",
   "metadata": {
    "slideshow": {
     "slide_type": "slide"
    }
   },
   "source": [
    "<div>\n",
    "<center>\n",
    "<img src=\"img/image-1.jpg\" width=\"800\"/>\n",
    "</div>"
   ]
  },
  {
   "cell_type": "markdown",
   "metadata": {
    "slideshow": {
     "slide_type": "-"
    }
   },
   "source": [
    "<center>$\\hat y = sign(w^T\\mathbf{x} + b) = sign(\\sum_{i=1} w_i x_i + b)$"
   ]
  },
  {
   "cell_type": "markdown",
   "metadata": {
    "slideshow": {
     "slide_type": "slide"
    }
   },
   "source": [
    "# Picking a loss?"
   ]
  },
  {
   "cell_type": "markdown",
   "metadata": {
    "slideshow": {
     "slide_type": "-"
    }
   },
   "source": [
    "<center>$\\hat y = sign(w^T\\mathbf{x} + b)$\n",
    "    \n",
    "***\n",
    "    \n",
    "<center>$\\min_{\\substack{w\\in I\\!R^{p}, b \\in I\\!R}} \\sum_{i}^{n}1_{y_{i}!=sign(w^T\\mathbf{x} + b)}$"
   ]
  },
  {
   "cell_type": "markdown",
   "metadata": {
    "slideshow": {
     "slide_type": "-"
    }
   },
   "source": [
    "<div>\n",
    "<center>\n",
    "<img src=\"img/image-2.jpg\" width=\"700\"/>\n",
    "</div>"
   ]
  },
  {
   "cell_type": "markdown",
   "metadata": {
    "slideshow": {
     "slide_type": "slide"
    }
   },
   "source": [
    "# Logistic Regression"
   ]
  },
  {
   "cell_type": "markdown",
   "metadata": {
    "slideshow": {
     "slide_type": "-"
    }
   },
   "source": [
    "<div>\n",
    "<table><tr>\n",
    "<td><img src=\"img/quest/Qimage-1.jpg\" width=\"300\"/></td>\n",
    "<td>\n",
    "\n",
    "* We have some data. Then we fit a line to it using **Least Square** method.\n",
    "* We can use this line to predict **size** given **weight**.\n",
    "    \n",
    "    \n",
    "</td>\n",
    "</tr></table>"
   ]
  },
  {
   "cell_type": "markdown",
   "metadata": {
    "slideshow": {
     "slide_type": "fragment"
    }
   },
   "source": [
    "<div>\n",
    "<table><tr>\n",
    "<td><img src=\"img/quest/Qimage-3.jpg\" width=\"400\"/></td>\n",
    "<td>\n",
    "\n",
    "* Logistic regression is similar to linear regression, except...\n",
    "* Logistic regression predicts whether something is **True** or **False**, instead of predicting something continuous like **size**.\n",
    "* Also, instead of fitting a line to the data, logistic regression fits an $S$ shaped \"logistic function\".\n",
    "* This curve goes from 0 to 1. This means that the curve tells you the probability as well.\n",
    "    \n",
    "    \n",
    "</td>\n",
    "</tr></table>"
   ]
  },
  {
   "cell_type": "markdown",
   "metadata": {
    "slideshow": {
     "slide_type": "slide"
    }
   },
   "source": [
    "<div>\n",
    "<center>\n",
    "<table><tr>\n",
    "<td><font size='8'><img src=\"img/quest/Qimage-4.jpg\" width=\"1100\"/></td>\n",
    "<td><font size='8'><img src=\"img/quest/Qimage-5.jpg\" width=\"900\"/></td>\n",
    "<td><font size='8'><img src=\"img/quest/Qimage-6.jpg\" width=\"900\"/></td>\n",
    "</tr></table>"
   ]
  },
  {
   "cell_type": "markdown",
   "metadata": {
    "slideshow": {
     "slide_type": "-"
    }
   },
   "source": [
    "If the probability an animal is obese is >50%, then we will classify it as obese, otherwise we will classify it as \"not obese\"."
   ]
  },
  {
   "cell_type": "markdown",
   "metadata": {
    "slideshow": {
     "slide_type": "slide"
    }
   },
   "source": [
    "* logstic regression does not have the same concept of a \"residual\", so it can't use least squares as in linear regression.\n",
    "* Instead it uses something called \"**maximum likelihood**\"."
   ]
  },
  {
   "cell_type": "markdown",
   "metadata": {
    "slideshow": {
     "slide_type": "fragment"
    }
   },
   "source": [
    "<div>\n",
    "\n",
    "<table><tr>\n",
    "<td><img src=\"img/quest/Qimage-7.jpg\" width=\"300\"/></td>\n",
    "<td>   \n",
    "\n",
    "**In a nutshell:**\n",
    "* You pick a scaled probability, as shown by the curves in figures below.\n",
    "* Then you calculate the likelihood for all samples.\n",
    "* Lastly, you multiply all of these likelihoods together. That is the likelihood of the data given this line.\n",
    "    \n",
    "</td>\n",
    "</tr></table>"
   ]
  },
  {
   "cell_type": "markdown",
   "metadata": {
    "slideshow": {
     "slide_type": "fragment"
    }
   },
   "source": [
    "Then you shift the line and calculate a new likelihood of the data.\n",
    "\n",
    "<div>\n",
    "<center>\n",
    "<table><tr>\n",
    "<td><font size='8'><img src=\"img/quest/Qimage-8.jpg\" width=\"500\"/></td>\n",
    "<td><font size='8'><img src=\"img/quest/Qimage-9.jpg\" width=\"500\"/></td>\n",
    "<td><font size='8'><img src=\"img/quest/Qimage-10.jpg\" width=\"500\"/></td>\n",
    "</tr></table>\n",
    "    \n",
    "Finally, the curve with the maximum likelihood is selected "
   ]
  },
  {
   "cell_type": "markdown",
   "metadata": {
    "slideshow": {
     "slide_type": "slide"
    }
   },
   "source": [
    "# Closed Formula for Logistic Regression"
   ]
  },
  {
   "cell_type": "markdown",
   "metadata": {
    "slideshow": {
     "slide_type": "-"
    }
   },
   "source": [
    "<div>\n",
    "<table><tr>\n",
    "<td><center>$\\log (\\frac{p(y = 1|x)}{p(y = 0|x)}) = w^T \\mathbf{x} + b$\n",
    "    <center>$p(y = 1|x) = \\frac{1}{1 + e^{-w^T\\mathbf{x} - b}}$\n",
    "    <center>$\\min_{\\substack{w\\in I\\!R^{p}, b \\in I\\!R}} -\\sum_{i}^{n}\\log(exp(-y_i(w^T\\mathbf{x} + b)) + 1)$\n",
    "    <center>$\\hat y = sign(w^T\\mathbf{x} + b)$   </td>\n",
    "<td><font size='8'><img src=\"img/image-3.jpg\" width=\"600\"/></td>\n",
    "</tr></table>\n"
   ]
  },
  {
   "cell_type": "markdown",
   "metadata": {
    "slideshow": {
     "slide_type": "slide"
    }
   },
   "source": [
    "# Penalized Logistic Regression"
   ]
  },
  {
   "cell_type": "markdown",
   "metadata": {
    "slideshow": {
     "slide_type": "-"
    }
   },
   "source": [
    "$\\min_{\\substack{w\\in I\\!R^{p}, b \\in I\\!R}} -C\\sum_{i}^{n}\\log(exp(-y_i(w^T\\mathbf{x} + b)) + 1) + ||w||^2_2$\n",
    "\n",
    "***\n",
    "\n",
    "$\\min_{\\substack{w\\in I\\!R^{p}, b \\in I\\!R}} -C\\sum_{i}^{n}\\log(exp(-y_i(w^T\\mathbf{x} + b)) + 1) + ||w||_1$"
   ]
  },
  {
   "cell_type": "markdown",
   "metadata": {
    "slideshow": {
     "slide_type": "-"
    }
   },
   "source": [
    "* C is inverse to alpha (or alpha / n_samples)"
   ]
  },
  {
   "cell_type": "markdown",
   "metadata": {
    "slideshow": {
     "slide_type": "slide"
    }
   },
   "source": [
    "# Effect of regularization"
   ]
  },
  {
   "cell_type": "markdown",
   "metadata": {
    "slideshow": {
     "slide_type": "-"
    }
   },
   "source": [
    "<div>\n",
    "<img src=\"img/image-4.jpg\" width=\"900\"/>\n",
    "</div>"
   ]
  },
  {
   "cell_type": "markdown",
   "metadata": {
    "slideshow": {
     "slide_type": "-"
    }
   },
   "source": [
    "* Small C (a lot of regularization) limits the in|uence of individual points!"
   ]
  },
  {
   "cell_type": "markdown",
   "metadata": {
    "slideshow": {
     "slide_type": "slide"
    }
   },
   "source": [
    "# Support Vector Machines - Mathless :-) "
   ]
  },
  {
   "cell_type": "markdown",
   "metadata": {
    "slideshow": {
     "slide_type": "-"
    }
   },
   "source": [
    "<div>\n",
    "<center>\n",
    "<table><tr>\n",
    "<td><img src=\"img/quest/Qimage-11.jpg\" width=\"900\"/></td>\n",
    "<td>   \n",
    "\n",
    "* The <font color='red'> red dots<font color='black'> represents <font color='red'>not obese <font color='black'>class.\n",
    "* The <font color='green'> green dots<font color='black'> represents <font color='green'> obese <font color='black'>class.\n",
    "    \n",
    "</td>\n",
    "</tr></table>\n"
   ]
  },
  {
   "cell_type": "markdown",
   "metadata": {
    "slideshow": {
     "slide_type": "fragment"
    }
   },
   "source": [
    "<div>\n",
    "<center>\n",
    "<table><tr>\n",
    "<td><img src=\"img/quest/Qimage-12.jpg\" width=\"900\"/></td>\n",
    "<td>   \n",
    "\n",
    "* Based on these observations, we can pick a threshold!\n",
    "* When we get a new observations, we can classify them based on their position to the threshold.\n",
    "    \n",
    "</td>\n",
    "</tr></table>"
   ]
  },
  {
   "cell_type": "markdown",
   "metadata": {
    "slideshow": {
     "slide_type": "fragment"
    }
   },
   "source": [
    "<div>\n",
    "<center>\n",
    "<table><tr>\n",
    "<td><img src=\"img/quest/Qimage-13.jpg\" width=\"900\"/></td>\n",
    "<td>   \n",
    "\n",
    "* However, what if get a new observation (black one)?\n",
    "* Because this observation has more mass than the threshold, we classify it as <font color='green'> obese.\n",
    "    \n",
    "</td>\n",
    "</tr></table>"
   ]
  },
  {
   "cell_type": "markdown",
   "metadata": {
    "slideshow": {
     "slide_type": "fragment"
    }
   },
   "source": [
    "But that does not make sense, because it is much closer to the observations that are not <font color='red'>not obese.\n",
    "<div>\n",
    "<center>\n",
    "<img src=\"img/quest/Qimage-14.jpg\" width=\"700\"/>\n",
    "</div> "
   ]
  },
  {
   "cell_type": "markdown",
   "metadata": {
    "slideshow": {
     "slide_type": "slide"
    }
   },
   "source": [
    "<div>\n",
    "<center>\n",
    "<table><tr>\n",
    "<td><img src=\"img/quest/Qimage-15.jpg\" width=\"800\"/></td>\n",
    "<td>   \n",
    "\n",
    "* We can focus on the observations on the edges of each cluster.\n",
    "* And use the midpoint between them as the threshold.\n",
    "    \n",
    "</td>\n",
    "</tr></table>"
   ]
  },
  {
   "cell_type": "markdown",
   "metadata": {
    "slideshow": {
     "slide_type": "fragment"
    }
   },
   "source": [
    "<div>\n",
    "<center>\n",
    "<table><tr>\n",
    "<td><img src=\"img/quest/Qimage-16.jpg\" width=\"800\"/></td>\n",
    "<td>   \n",
    "\n",
    "* Now, when a new observation falls on the left side of the threshold (black one) ...\n",
    "* It will be closer to the <font color='red'>not obese<font color='black'> observations than the <font color='green'> obese <font color='black'> observations.\n",
    "* So it make sense to classify this new observation as <font color='red'>not obese.\n",
    "    \n",
    "</td>\n",
    "</tr></table>"
   ]
  },
  {
   "cell_type": "markdown",
   "metadata": {
    "slideshow": {
     "slide_type": "fragment"
    }
   },
   "source": [
    "<div>\n",
    "<center>\n",
    "<table><tr>\n",
    "<td><img src=\"img/quest/Qimage-17.jpg\" width=\"800\"/></td>\n",
    "<td>   \n",
    "\n",
    "* The shortest distance between the observations and the threshold is called the **margin**.\n",
    "* When the threshold is halfway between the two observations, the **margin** is as large as it can be.\n",
    "* This is alled **Maximum Margin Classifier** \n",
    "    \n",
    "    \n",
    "</td>\n",
    "</tr></table>"
   ]
  },
  {
   "cell_type": "markdown",
   "metadata": {
    "slideshow": {
     "slide_type": "slide"
    }
   },
   "source": [
    "What if we had an outlier observation that was classified as <font color='red'>not obese<font color='black'>, but was much closer to the <font color='green'>obese <font color='black'>observaions."
   ]
  },
  {
   "cell_type": "markdown",
   "metadata": {
    "slideshow": {
     "slide_type": "-"
    }
   },
   "source": [
    "<div>\n",
    "<center>\n",
    "<img src=\"img/quest/Qimage-18.jpg\" width=\"900\"/>\n",
    "</div>"
   ]
  },
  {
   "cell_type": "markdown",
   "metadata": {
    "slideshow": {
     "slide_type": "fragment"
    }
   },
   "source": [
    "<div>\n",
    "<center>\n",
    "<table><tr>\n",
    "<td><img src=\"img/quest/Qimage-19.jpg\" width=\"800\"/></td>\n",
    "<td>   \n",
    "\n",
    "* In this case, the **Maxuímum Margin Classifier** would be super close to the <font color='green'>obese <font color='black'>observaions.    \n",
    "</td>\n",
    "</tr></table>"
   ]
  },
  {
   "cell_type": "markdown",
   "metadata": {
    "slideshow": {
     "slide_type": "fragment"
    }
   },
   "source": [
    "<div>\n",
    "\n",
    "<table><tr>\n",
    "<td><img src=\"img/quest/Qimage-20.jpg\" width=\"800\"/></td>\n",
    "<td>   \n",
    "\n",
    "* Now, if we got this new black observation,\n",
    "* we would classify it as <font color='red'>not obese<font color='black'>, even though most of the <font color='red'>not obese<font color='black'>observations are much further away than the <font color='green'>obese <font color='black'>observaions.\n",
    "</td>\n",
    "</tr></table>\n",
    "\n",
    " \n",
    "* So **Maximum Margin Classifiers** are _super sensitive to outliers_ in the training data.\n",
    "* To make a threshold that is not so sensitive to outliers we must **allow misclassification**."
   ]
  },
  {
   "cell_type": "markdown",
   "metadata": {
    "slideshow": {
     "slide_type": "slide"
    }
   },
   "source": [
    "<div>\n",
    "<center>\n",
    "<table><tr>\n",
    "<td><img src=\"img/quest/Qimage-21.jpg\" width=\"800\"/></td>\n",
    "<td>   \n",
    "\n",
    "* If we put thethreshold halfway between these two observations,\n",
    "* Then we will misclassify the <font color='red'>not obese<font color='black'>observation close to the <font color='green'>obese <font color='black'>observaions.\n",
    "</td>\n",
    "</tr></table>"
   ]
  },
  {
   "cell_type": "markdown",
   "metadata": {
    "slideshow": {
     "slide_type": "fragment"
    }
   },
   "source": [
    "<div>\n",
    "<center>\n",
    "<table><tr>\n",
    "<td><img src=\"img/quest/Qimage-22.jpg\" width=\"800\"/></td>\n",
    "<td>   \n",
    "\n",
    "* If we get a new observation, it will be classified as <font color='green'>obese<font color='black'>.\n",
    "</td>\n",
    "</tr></table>"
   ]
  },
  {
   "cell_type": "markdown",
   "metadata": {
    "slideshow": {
     "slide_type": "fragment"
    }
   },
   "source": [
    "* Choosing a threshold that allows misclassifications is an example of the **Bias/Variance Tradeoff**!\n",
    "* When we allow misclassifications, the distance between the observations and the threshold is called a **Soft Margin**\n",
    "* Our task is to find the **optimum soft margin**. "
   ]
  },
  {
   "cell_type": "markdown",
   "metadata": {
    "slideshow": {
     "slide_type": "slide"
    }
   },
   "source": [
    "When we use a **Soft Margin** to determine the location of a threshold, then we are using a **Soft Margin Classifier** aka a **Support Vector Classifier** to classify observations."
   ]
  },
  {
   "cell_type": "markdown",
   "metadata": {
    "slideshow": {
     "slide_type": "fragment"
    }
   },
   "source": [
    "<div>\n",
    "<center>\n",
    "<img src=\"img/quest/Qimage-23.jpg\" width=\"900\"/>\n",
    "</div>"
   ]
  },
  {
   "cell_type": "markdown",
   "metadata": {
    "slideshow": {
     "slide_type": "slide"
    }
   },
   "source": [
    "<div>\n",
    "\n",
    "<table><tr>\n",
    "<td><img src=\"img/quest/Qimage-24.jpg\" width=\"800\"/></td>\n",
    "<td><img src=\"img/quest/Qimage-25.jpg\" width=\"800\"/></td>\n",
    "</tr></table>\n",
    "    \n",
    "* What if the data is **2-Dimensional**?\n",
    "* Then a **Support Vector Classifier** is a line."
   ]
  },
  {
   "cell_type": "markdown",
   "metadata": {
    "slideshow": {
     "slide_type": "slide"
    }
   },
   "source": [
    "<div>\n",
    "<table><tr>\n",
    "<td><img src=\"img/quest/Qimage-26.jpg\" width=\"800\"/></td>\n",
    "<td>   \n",
    "\n",
    "* When the data are **3-Dimensional**, the **Support Vector Classifier** forms a plane, instead of a line.\n",
    "</td>\n",
    "</tr></table>"
   ]
  },
  {
   "cell_type": "markdown",
   "metadata": {
    "slideshow": {
     "slide_type": "slide"
    }
   },
   "source": [
    "# Downside of the Support Vector Classifiers"
   ]
  },
  {
   "cell_type": "markdown",
   "metadata": {
    "slideshow": {
     "slide_type": "-"
    }
   },
   "source": [
    "<div>\n",
    "<center>\n",
    "<table><tr>\n",
    "<td><img src=\"img/quest/Qimage-27.jpg\" width=\"800\"/></td>\n",
    "<td>   \n",
    "\n",
    "* What if this was our training data?\n",
    "* The<font color='red'> red dots<font color='black'> represent if the patients are not cured, and \n",
    "* The <font color='green'> green dots<font color='black'> represent if the patients are cured  \n",
    "</td>\n",
    "</tr></table>"
   ]
  },
  {
   "cell_type": "markdown",
   "metadata": {
    "slideshow": {
     "slide_type": "fragment"
    }
   },
   "source": [
    "No matter where we put the classifier, we will make a lot of misclassifications."
   ]
  },
  {
   "cell_type": "markdown",
   "metadata": {
    "slideshow": {
     "slide_type": "-"
    }
   },
   "source": [
    "<div>\n",
    "<center>\n",
    "<table><tr>\n",
    "<td><font size='8'><img src=\"img/quest/Qimage-28.jpg\" width=\"900\"/></td>\n",
    "<td><font size='8'><img src=\"img/quest/Qimage-29.jpg\" width=\"900\"/></td>\n",
    "<td><font size='8'><img src=\"img/quest/Qimage-30.jpg\" width=\"900\"/></td>\n",
    "</tr></table>"
   ]
  },
  {
   "cell_type": "markdown",
   "metadata": {
    "slideshow": {
     "slide_type": "fragment"
    }
   },
   "source": [
    "So we need something more than just **Maximal Margin Classifier** and **Support Vector Classifiers**."
   ]
  },
  {
   "cell_type": "markdown",
   "metadata": {
    "slideshow": {
     "slide_type": "slide"
    }
   },
   "source": [
    "# Support Vector Machines"
   ]
  },
  {
   "cell_type": "markdown",
   "metadata": {
    "slideshow": {
     "slide_type": "-"
    }
   },
   "source": [
    "<div>\n",
    "<center>\n",
    "<table><tr>\n",
    "<td><img src=\"img/quest/Qimage-31.jpg\" width=\"500\"/></td>\n",
    "<td><img src=\"img/quest/Qimage-32.jpg\" width=\"500\"/></td>\n",
    "<td>   \n",
    "\n",
    "* We start by adding a **y-axis** so we can draw a grapgh\n",
    "* The **y-axis** will be the square of the dosages (**$Dosages^2$**)\n",
    "* The data are now **2-Dimensional**.\n",
    "</td>\n",
    "</tr></table>"
   ]
  },
  {
   "cell_type": "markdown",
   "metadata": {
    "slideshow": {
     "slide_type": "fragment"
    }
   },
   "source": [
    "<div>\n",
    "<center>\n",
    "<table><tr>\n",
    "<td><img src=\"img/quest/Qimage-33.jpg\" width=\"400\"/></td>\n",
    "<td>   \n",
    "\n",
    "* Now the **Support Vector Classifier** can be used to classify new observations.\n",
    "</td>\n",
    "</tr></table>"
   ]
  },
  {
   "cell_type": "markdown",
   "metadata": {
    "slideshow": {
     "slide_type": "slide"
    }
   },
   "source": [
    "# Main Ideas Behind Support Vector Machines (SVMs) "
   ]
  },
  {
   "cell_type": "markdown",
   "metadata": {
    "slideshow": {
     "slide_type": "-"
    }
   },
   "source": [
    "1. Start with data in a relatively low dimension\n",
    "2. Move the data into a higher dimension\n",
    "3. Find a **Support Vector Classifier** that separates the higher dimensional data into two groups."
   ]
  },
  {
   "cell_type": "markdown",
   "metadata": {
    "slideshow": {
     "slide_type": "fragment"
    }
   },
   "source": [
    "<font color= 'red'> But wait!\n",
    "<font color= 'black'>\n",
    "\n",
    "* How do we decide how to transform the data? \n",
    "* In the previous example, why not using $Dosage^3$ or $\\sqrt {Dosage}$"
   ]
  },
  {
   "cell_type": "markdown",
   "metadata": {
    "slideshow": {
     "slide_type": "slide"
    }
   },
   "source": [
    "# Kernel Function - Kernel Trick"
   ]
  },
  {
   "cell_type": "markdown",
   "metadata": {
    "slideshow": {
     "slide_type": "-"
    }
   },
   "source": [
    "In order to make the mathematics possible, **Support Vector Machines** use something called **Kernel Functions** to _systematically_ find **Support Vector Classifiers** in higher dimensions.\n",
    "    "
   ]
  },
  {
   "cell_type": "markdown",
   "metadata": {
    "slideshow": {
     "slide_type": "fragment"
    }
   },
   "source": [
    "<div>\n",
    "<center>\n",
    "<table><tr>\n",
    "<td><img src=\"img/quest/Qimage-34.jpg\" width=\"400\"/></td>\n",
    "<td>   \n",
    "\n",
    "* In this example, the **Polynomial Kernel** was been used, which has a parameter, **d**, which stands for the **degree** of the polynomial.\n",
    "</td>\n",
    "</tr></table>"
   ]
  },
  {
   "cell_type": "markdown",
   "metadata": {
    "slideshow": {
     "slide_type": "fragment"
    }
   },
   "source": [
    "<div>\n",
    "<center>\n",
    "<table><tr>\n",
    "<td><img src=\"img/quest/Qimage-35.jpg\" width=\"400\"/></td>\n",
    "<td>   \n",
    "\n",
    "* When $\\mathbf{d = 2}$, we get a **2nd dimension** based on $\\mathbf{Dosage^2}$. \n",
    "* The **Polynomial Kernel** computes the **2-Dimensional** relationships between each pair of observations.\n",
    "* These relationships are used to find a **Support Vector Classifier**\n",
    "</td>\n",
    "</tr></table>"
   ]
  },
  {
   "cell_type": "markdown",
   "metadata": {
    "slideshow": {
     "slide_type": "slide"
    }
   },
   "source": [
    "# Radial Basis Function (RBF) Kernel"
   ]
  },
  {
   "cell_type": "markdown",
   "metadata": {
    "slideshow": {
     "slide_type": "-"
    }
   },
   "source": [
    "**RBF kernel** finds **Support Vector Classifiers** in infinite dimensions."
   ]
  },
  {
   "cell_type": "markdown",
   "metadata": {
    "slideshow": {
     "slide_type": "fragment"
    }
   },
   "source": [
    "<div>\n",
    "<center>\n",
    "<table><tr>\n",
    "<td><img src=\"img/quest/Qimage-36.jpg\" width=\"800\"/></td>\n",
    "<td>   \n",
    "\n",
    "* When we have a new observation (in black) ...\n",
    "* The **RBF Kernel** behaves like a **Weighted Nearest Neighbor** model.\n",
    "* Therefore, the closest observations (the nearest neighbors) have a lot of influence on how we classify the new observation (sample)\n",
    "* And observations (samples) that are further away have relatively little influence on the classification.\n",
    "</td>\n",
    "</tr></table>"
   ]
  },
  {
   "cell_type": "markdown",
   "metadata": {
    "slideshow": {
     "slide_type": "fragment"
    }
   },
   "source": [
    "<div>\n",
    "<center>\n",
    "<img src=\"img/quest/Qimage-37.jpg\" width=\"700\"/>\n",
    "</div>"
   ]
  },
  {
   "cell_type": "markdown",
   "metadata": {
    "slideshow": {
     "slide_type": "slide"
    }
   },
   "source": [
    "# Multiclass Classification"
   ]
  },
  {
   "cell_type": "markdown",
   "metadata": {
    "slideshow": {
     "slide_type": "-"
    }
   },
   "source": [
    "Reduction to Binary Classification"
   ]
  },
  {
   "cell_type": "markdown",
   "metadata": {
    "slideshow": {
     "slide_type": "-"
    }
   },
   "source": [
    "* One vs Rest\n",
    "* One vs One"
   ]
  },
  {
   "cell_type": "markdown",
   "metadata": {
    "slideshow": {
     "slide_type": "slide"
    }
   },
   "source": [
    "# One Vs Rest"
   ]
  },
  {
   "cell_type": "markdown",
   "metadata": {
    "slideshow": {
     "slide_type": "-"
    }
   },
   "source": [
    "\n",
    "**For 4 classes:**<br>\n",
    "* 1v{2,3,4}, 2v{1,3,4}, 3v{1,2,4}, 4v{1,2,3}<br>\n",
    "    \n",
    "**In general:** <br>\n",
    "* n binary classifiers - each on all data <br>"
   ]
  },
  {
   "cell_type": "markdown",
   "metadata": {
    "slideshow": {
     "slide_type": "slide"
    }
   },
   "source": [
    "# One vs Rest Prediction"
   ]
  },
  {
   "cell_type": "markdown",
   "metadata": {
    "slideshow": {
     "slide_type": "-"
    }
   },
   "source": [
    "Class with highest score"
   ]
  },
  {
   "cell_type": "markdown",
   "metadata": {
    "slideshow": {
     "slide_type": "-"
    }
   },
   "source": [
    "<div>\n",
    "<center>\n",
    "<table><tr>\n",
    "<td><font size='8'><img src=\"img/image-8.jpg\" width=\"900\"/></td>\n",
    "<td><font size='8'><img src=\"img/image-9.jpg\" width=\"900\"/></td>\n",
    "</tr></table>"
   ]
  },
  {
   "cell_type": "markdown",
   "metadata": {
    "slideshow": {
     "slide_type": "slide"
    }
   },
   "source": [
    "# One vs One"
   ]
  },
  {
   "cell_type": "markdown",
   "metadata": {
    "slideshow": {
     "slide_type": "-"
    }
   },
   "source": [
    "**For 4 classes:**<br>\n",
    "* 1v2, 1v3, 1v4, 2v3, 2v4, 3v4<br>\n",
    "    \n",
    "**In general:** <br>\n",
    "* n * (n-1) / 2 binary classifiers - each on a fraction of the data <br>\n",
    "* \"Vote for highest positives\"<br>\n",
    "* Classify by all classi{ers.<br>\n",
    "* Count how often each class was predicted.<br>\n",
    "* Return most commonly predicted class.<br>"
   ]
  },
  {
   "cell_type": "markdown",
   "metadata": {
    "slideshow": {
     "slide_type": "slide"
    }
   },
   "source": [
    "# One vs One Predicion"
   ]
  },
  {
   "cell_type": "markdown",
   "metadata": {
    "slideshow": {
     "slide_type": "-"
    }
   },
   "source": [
    "<div>\n",
    "<center>\n",
    "<table><tr>\n",
    "<td><font size='8'><img src=\"img/image-10.jpg\" width=\"900\"/></td>\n",
    "<td><font size='8'><img src=\"img/image-11.jpg\" width=\"900\"/></td>\n",
    "</tr></table>"
   ]
  },
  {
   "cell_type": "markdown",
   "metadata": {
    "slideshow": {
     "slide_type": "slide"
    }
   },
   "source": [
    "# Summary"
   ]
  },
  {
   "cell_type": "markdown",
   "metadata": {
    "slideshow": {
     "slide_type": "-"
    }
   },
   "source": [
    "<div>\n",
    "<center>\n",
    "<table><tr>\n",
    "<td>\n",
    "    \n",
    "**One vs Rest**\n",
    "* n_classes classifier\n",
    "* trained on imbalanced datasets of original size\n",
    "* Retains some uncertainty?\n",
    "    \n",
    "<img src=\"img/image-9.jpg\" width=\"700\"/>\n",
    "    \n",
    "</td>\n",
    "<td>\n",
    "    \n",
    "**One vs One**\n",
    "* n_classes * (n_classes-1)/2 classifiers\n",
    "* trained on balanced subsets\n",
    "* No uncertainty propagated\n",
    "    \n",
    "<img src=\"img/image-11.jpg\" width=\"700\"/>\n",
    "    \n",
    "</td>\n",
    "</tr></table>"
   ]
  },
  {
   "cell_type": "markdown",
   "metadata": {
    "slideshow": {
     "slide_type": "slide"
    }
   },
   "source": [
    "# In sckit-learn"
   ]
  },
  {
   "cell_type": "markdown",
   "metadata": {
    "slideshow": {
     "slide_type": "-"
    }
   },
   "source": [
    "* OvO: only SVC\n",
    "* OvR: default for all linear models\n",
    "* LogisticRegression(multinomial=True)\n",
    "* clf.decision_function = $w^T + b$\n",
    "* logreg.predict_proba\n",
    "* SVC(probability=True) not great"
   ]
  },
  {
   "cell_type": "markdown",
   "metadata": {
    "slideshow": {
     "slide_type": "slide"
    }
   },
   "source": [
    "# Multi-Class in Practice"
   ]
  },
  {
   "cell_type": "code",
   "execution_count": 52,
   "metadata": {
    "slideshow": {
     "slide_type": "-"
    }
   },
   "outputs": [
    {
     "name": "stdout",
     "output_type": "stream",
     "text": [
      "(150, 4)\n",
      "[50 50 50]\n"
     ]
    }
   ],
   "source": [
    "import numpy as np\n",
    "from sklearn.datasets import load_iris\n",
    "\n",
    "iris = load_iris()\n",
    "X, y = iris.data, iris.target\n",
    "print(X.shape)\n",
    "print(np.bincount(y))"
   ]
  },
  {
   "cell_type": "code",
   "execution_count": 53,
   "metadata": {
    "slideshow": {
     "slide_type": "-"
    }
   },
   "outputs": [
    {
     "name": "stdout",
     "output_type": "stream",
     "text": [
      "(3, 4)\n",
      "(3, 4)\n"
     ]
    },
    {
     "name": "stderr",
     "output_type": "stream",
     "text": [
      "C:\\Users\\abpe\\Anaconda3\\lib\\site-packages\\sklearn\\linear_model\\_logistic.py:762: ConvergenceWarning: lbfgs failed to converge (status=1):\n",
      "STOP: TOTAL NO. of ITERATIONS REACHED LIMIT.\n",
      "\n",
      "Increase the number of iterations (max_iter) or scale the data as shown in:\n",
      "    https://scikit-learn.org/stable/modules/preprocessing.html\n",
      "Please also refer to the documentation for alternative solver options:\n",
      "    https://scikit-learn.org/stable/modules/linear_model.html#logistic-regression\n",
      "  n_iter_i = _check_optimize_result(\n",
      "C:\\Users\\abpe\\Anaconda3\\lib\\site-packages\\sklearn\\svm\\_base.py:976: ConvergenceWarning: Liblinear failed to converge, increase the number of iterations.\n",
      "  warnings.warn(\"Liblinear failed to converge, increase \"\n"
     ]
    }
   ],
   "source": [
    "from sklearn.linear_model import LogisticRegression\n",
    "from sklearn.svm import LinearSVC\n",
    "\n",
    "logreg = LogisticRegression(multi_class='multinomial', solver='lbfgs').fit(X, y)\n",
    "linearsvm = LinearSVC().fit(X, y)\n",
    "print(logreg.coef_.shape)\n",
    "print(linearsvm.coef_.shape)"
   ]
  },
  {
   "cell_type": "code",
   "execution_count": 54,
   "metadata": {
    "slideshow": {
     "slide_type": "slide"
    }
   },
   "outputs": [
    {
     "data": {
      "text/plain": [
       "array([[-0.418,  0.966, -2.521, -1.084],\n",
       "       [ 0.53 , -0.314, -0.199, -0.948],\n",
       "       [-0.112, -0.652,  2.721,  2.032]])"
      ]
     },
     "execution_count": 54,
     "metadata": {},
     "output_type": "execute_result"
    }
   ],
   "source": [
    "logreg.coef_"
   ]
  },
  {
   "cell_type": "markdown",
   "metadata": {
    "slideshow": {
     "slide_type": "-"
    }
   },
   "source": [
    "<div>\n",
    "<center>\n",
    "<img src=\"img/image-12.jpg\" width=\"700\"/>\n",
    "</div>"
   ]
  },
  {
   "cell_type": "markdown",
   "metadata": {
    "slideshow": {
     "slide_type": "slide"
    }
   },
   "source": [
    "# Computational Considerations (for all linear models)"
   ]
  },
  {
   "cell_type": "markdown",
   "metadata": {
    "slideshow": {
     "slide_type": "-"
    }
   },
   "source": [
    "**Solver choices:**\n",
    "    \n",
    "* Don’t use SVC(kernel='linear'), use LinearSVC\n",
    "* For small n_samples ($<10.000?$), don’t worry.\n",
    "* LinearSVC, LogisticRegression: dual=False if n_samples >> n_features\n",
    "* LogisticRegression(solver=\"sag\") for n_samples large.\n",
    "* Stochastic Gradient Descent for n_samples really large"
   ]
  },
  {
   "cell_type": "markdown",
   "metadata": {
    "slideshow": {
     "slide_type": "slide"
    }
   },
   "source": [
    "# Kernel SVMs"
   ]
  },
  {
   "cell_type": "markdown",
   "metadata": {
    "slideshow": {
     "slide_type": "-"
    }
   },
   "source": [
    "**Motivation:**\n",
    "    \n",
    "* Go from linear models to more powerful nonlinear ones.\n",
    "* Keep convexity (ease of optimization).\n",
    "* Generalize the concept of feature engineering."
   ]
  },
  {
   "cell_type": "markdown",
   "metadata": {
    "slideshow": {
     "slide_type": "slide"
    }
   },
   "source": [
    "# Reminder on Linear SVM"
   ]
  },
  {
   "cell_type": "markdown",
   "metadata": {
    "slideshow": {
     "slide_type": "-"
    }
   },
   "source": [
    "<center>$\\min_{\\substack{w\\in I\\!R^{p}, b \\in I\\!R}} C\\sum_{i=1}^{n}max(0, 1 - y_i(w^T\\mathbf{x} + b)) + ||w||^2_2$ <br>\n",
    "    \n",
    "***\n",
    "    \n",
    "<center>$\\hat y = sign(w^T\\mathbf{x} + b)$ "
   ]
  },
  {
   "cell_type": "markdown",
   "metadata": {
    "slideshow": {
     "slide_type": "slide"
    }
   },
   "source": [
    "# Reformulate Linear Models"
   ]
  },
  {
   "cell_type": "markdown",
   "metadata": {
    "slideshow": {
     "slide_type": "-"
    }
   },
   "source": [
    "Optimization Theory"
   ]
  },
  {
   "cell_type": "markdown",
   "metadata": {
    "slideshow": {
     "slide_type": "-"
    }
   },
   "source": [
    "<center>$w = \\sum_{i=1}^{n}\\alpha_i\\mathbf{x}_i$<br>\n",
    "\n",
    "***    \n",
    "    \n",
    "(alpha are dual coef{cients. Non-zero for support vectors only)\n",
    "    \n",
    "***\n",
    "    \n",
    "<center>$\\hat y = sign(w^T\\mathbf{x}) \\Longrightarrow \\hat y = sign(\\sum_{i}^{n}\\alpha_i(\\mathbf{x}_i^T\\mathbf{x}))$<br>\n",
    "    \n",
    "***\n",
    "\n",
    "<center>$\\alpha_i <= C$"
   ]
  },
  {
   "cell_type": "markdown",
   "metadata": {
    "slideshow": {
     "slide_type": "slide"
    }
   },
   "source": [
    "# Introducing Kernels"
   ]
  },
  {
   "cell_type": "markdown",
   "metadata": {
    "slideshow": {
     "slide_type": "-"
    }
   },
   "source": [
    "<center>$\\hat y = sign(\\sum_{i}^{n}\\alpha_i(\\mathbf{x}_i^T\\mathbf{x})) \\longrightarrow \\hat y = sign(\\sum_{i}^{n}\\alpha_i(\\phi(\\mathbf{x}_i)^T\\phi(\\mathbf{x})))$<br>\n",
    "    \n",
    "***\n",
    "    \n",
    "<center>$\\phi(\\mathbf{x}_i)^T\\phi(\\mathbf{x})) \\longrightarrow k(\\mathbf{x}_i,\\mathbf{x}_j)$"
   ]
  },
  {
   "cell_type": "markdown",
   "metadata": {
    "slideshow": {
     "slide_type": "-"
    }
   },
   "source": [
    "k positive definite, symmetric $\\Longrightarrow$ there exists a $\\phi$! (possilby $\\infty$-dim)"
   ]
  },
  {
   "cell_type": "markdown",
   "metadata": {
    "slideshow": {
     "slide_type": "slide"
    }
   },
   "source": [
    "# Examples of Kernels"
   ]
  },
  {
   "cell_type": "markdown",
   "metadata": {
    "slideshow": {
     "slide_type": "-"
    }
   },
   "source": [
    "<center>$k_{linear}(\\mathbf{x},\\mathbf{x'}) = \\mathbf{x}^T\\mathbf{x'}$<br>\n",
    "    \n",
    "***\n",
    "    \n",
    "<center>$k_{poly}(\\mathbf{x},\\mathbf{x'}) = (\\mathbf{x}^T\\mathbf{x'} + c)^d$<br>\n",
    "    \n",
    "***\n",
    "    \n",
    "<center>$k_{rbf}(\\mathbf{x},\\mathbf{x'}) = exp(\\gamma||\\mathbf{x}^T - \\mathbf{x'}||^2)$<br>\n",
    "    \n",
    "***\n",
    "    \n",
    "<center>$k_{sigmoid}(\\mathbf{x},\\mathbf{x'}) = tanh(\\gamma\\mathbf{x}^T\\mathbf{x'} + r)$<br>\n",
    "\n",
    "    \n",
    "If $k$ and $k'$ are kernels, so are $k + k', kk', ck'$"
   ]
  },
  {
   "cell_type": "markdown",
   "metadata": {
    "slideshow": {
     "slide_type": "slide"
    }
   },
   "source": [
    "# Polynomial Kernel vs Features"
   ]
  },
  {
   "cell_type": "markdown",
   "metadata": {
    "slideshow": {
     "slide_type": "-"
    }
   },
   "source": [
    "<center>$k_{poly}(\\mathbf{x},\\mathbf{x'}) = (\\mathbf{x}^T\\mathbf{x'} + c)^d$<\\center><br>\n",
    "    \n",
    "Primal vs Dual Optimization\n",
    "    \n",
    "* Explicit polynomials $\\longrightarrow$ compute on n_samples * n_features ** d <br>\n",
    "* Kernel trick $\\longrightarrow$ compute on kernel matrix of shape n_samples * n_samples\n",
    "    \n",
    "For a single feature:\n",
    "    \n",
    "$(x^2,\\sqrt2x,1)^T(x'^2,\\sqrt2x',1) = x^2x'^2 + 2xx' + 1 = (xx' + 1)^2$"
   ]
  },
  {
   "cell_type": "markdown",
   "metadata": {
    "slideshow": {
     "slide_type": "slide"
    }
   },
   "source": [
    "# Poly kernels vs explicit features"
   ]
  },
  {
   "cell_type": "code",
   "execution_count": 40,
   "metadata": {
    "slideshow": {
     "slide_type": "-"
    }
   },
   "outputs": [
    {
     "data": {
      "text/plain": [
       "<matplotlib.collections.PathCollection at 0x2039011b700>"
      ]
     },
     "execution_count": 40,
     "metadata": {},
     "output_type": "execute_result"
    },
    {
     "data": {
      "image/png": "[encoded data removed]",
      "text/plain": [
       "<Figure size 432x288 with 1 Axes>"
      ]
     },
     "metadata": {
      "needs_background": "light"
     },
     "output_type": "display_data"
    }
   ],
   "source": [
    "from sklearn.preprocessing import PolynomialFeatures\n",
    "from sklearn.datasets import make_blobs\n",
    "import matplotlib.pyplot as plt\n",
    "\n",
    "X, y = make_blobs(random_state=3)\n",
    "y = (y == 0).astype(np.int)\n",
    "plt.scatter(X[:, 0], X[:, 1], c=plt.cm.tab10(y))"
   ]
  },
  {
   "cell_type": "code",
   "execution_count": 41,
   "metadata": {
    "slideshow": {
     "slide_type": "fragment"
    }
   },
   "outputs": [
    {
     "name": "stdout",
     "output_type": "stream",
     "text": [
      "(100, 2) (100, 5)\n",
      "['x0', 'x1', 'x0^2', 'x0 x1', 'x1^2']\n"
     ]
    }
   ],
   "source": [
    "poly = PolynomialFeatures(include_bias=False)\n",
    "X_poly = poly.fit_transform(X)\n",
    "print(X.shape, X_poly.shape)\n",
    "print(poly.get_feature_names())"
   ]
  },
  {
   "cell_type": "code",
   "execution_count": 43,
   "metadata": {
    "slideshow": {
     "slide_type": "slide"
    }
   },
   "outputs": [],
   "source": [
    "from sklearn.svm import SVC\n",
    "linear_svm = SVC(kernel=\"linear\").fit(X_poly, y)\n",
    "poly_svm = SVC(kernel=\"poly\", degree=2, coef0=1).fit(X, y)"
   ]
  },
  {
   "cell_type": "code",
   "execution_count": 44,
   "metadata": {
    "slideshow": {
     "slide_type": "fragment"
    }
   },
   "outputs": [],
   "source": [
    "# create a grid for plotting decision functions...\n",
    "x_lin = np.linspace(X[:, 0].min() - .5, X[:, 0].max() + .5, 1000)\n",
    "y_lin = np.linspace(X[:, 1].min() - .5, X[:, 1].max() + .5, 1000)\n",
    "x_grid, y_grid = np.meshgrid(x_lin, y_lin)\n",
    "X_grid = np.c_[x_grid.ravel(), y_grid.ravel()]"
   ]
  },
  {
   "cell_type": "code",
   "execution_count": 46,
   "metadata": {
    "slideshow": {
     "slide_type": "fragment"
    }
   },
   "outputs": [
    {
     "data": {
      "image/png": "[encoded data removed]",
      "text/plain": [
       "<Figure size 576x216 with 2 Axes>"
      ]
     },
     "metadata": {
      "needs_background": "light"
     },
     "output_type": "display_data"
    }
   ],
   "source": [
    "from sklearn.pipeline import make_pipeline\n",
    "colors = [plt.cm.tab10(0), plt.cm.tab10(0), plt.cm.tab10(1), plt.cm.tab10(1)]\n",
    "fig, axes = plt.subplots(1, 2, figsize=(8, 3))\n",
    "for ax, model, name in zip(axes, [poly_svm, make_pipeline(poly, linear_svm)], [\"kernel\", \"features\"]):\n",
    "    ax.set_title(name)\n",
    "    support_vectors = getattr(model, \"support_\", None)\n",
    "    if support_vectors is None:\n",
    "        support_vectors = model.steps[1][1].support_\n",
    "    predictions = model.predict(X_grid)\n",
    "    ax.contourf(x_grid, y_grid, predictions.reshape(x_grid.shape), alpha=.1, colors=colors)\n",
    "    ax.scatter(X[:, 0], X[:, 1], c=plt.cm.tab10(y))\n",
    "    ax.scatter(X[support_vectors, 0], X[support_vectors, 1], facecolor='none', edgecolor='k', linewidths=1)\n",
    "    ax.set_xlim(x_lin[0], x_lin[-1])\n",
    "    ax.set_ylim(y_lin[0], y_lin[-1])"
   ]
  },
  {
   "cell_type": "markdown",
   "metadata": {
    "slideshow": {
     "slide_type": "slide"
    }
   },
   "source": [
    "# Understanding Dual Coefficients"
   ]
  },
  {
   "cell_type": "code",
   "execution_count": 55,
   "metadata": {
    "slideshow": {
     "slide_type": "-"
    }
   },
   "outputs": [
    {
     "data": {
      "text/plain": [
       "array([[ 0.139,  0.06 , -0.201,  0.048,  0.019]])"
      ]
     },
     "execution_count": 55,
     "metadata": {},
     "output_type": "execute_result"
    }
   ],
   "source": [
    "linear_svm.coef_"
   ]
  },
  {
   "cell_type": "markdown",
   "metadata": {
    "slideshow": {
     "slide_type": "-"
    }
   },
   "source": [
    "<center>$y = sign\\Big(0.139x_0 + 0.06x_1 - 0.201x_0^2 + 0.048x_0x_1 + 0.019x_1^2\\Big)$"
   ]
  },
  {
   "cell_type": "code",
   "execution_count": 58,
   "metadata": {
    "slideshow": {
     "slide_type": "fragment"
    }
   },
   "outputs": [
    {
     "name": "stdout",
     "output_type": "stream",
     "text": [
      "[[-0.03  -0.003  0.003  0.03 ]]\n",
      "[ 1 26 42 62]\n"
     ]
    }
   ],
   "source": [
    "print(linear_svm.dual_coef_)\n",
    "print(linear_svm.support_)"
   ]
  },
  {
   "cell_type": "markdown",
   "metadata": {
    "slideshow": {
     "slide_type": "-"
    }
   },
   "source": [
    "<center>$y = sign\\Big(-0.03\\phi(\\mathbf{x}_1)^T\\phi(x) - 0.003\\phi(\\mathbf{x}_26)^T\\phi(x) + 0.003\\phi(\\mathbf{x}_42)^T\\phi(x) + 0.03\\phi(\\mathbf{x}_62)^T\\phi(x)\\Big)$"
   ]
  },
  {
   "cell_type": "markdown",
   "metadata": {
    "slideshow": {
     "slide_type": "slide"
    }
   },
   "source": [
    "# With Kernel"
   ]
  },
  {
   "cell_type": "markdown",
   "metadata": {
    "slideshow": {
     "slide_type": "-"
    }
   },
   "source": [
    "<center>$\\hat y = sign(\\sum_{i}^{n}\\alpha_i(\\mathbf{x}_i^T\\mathbf{x}))$"
   ]
  },
  {
   "cell_type": "code",
   "execution_count": 60,
   "metadata": {
    "slideshow": {
     "slide_type": "-"
    }
   },
   "outputs": [
    {
     "name": "stdout",
     "output_type": "stream",
     "text": [
      "[[-1.    -0.304 -1.    -0.307 -1.    -1.     0.612  1.     1.     1.\n",
      "   1.   ]]\n"
     ]
    }
   ],
   "source": [
    "print(poly_svm.dual_coef_)"
   ]
  },
  {
   "cell_type": "code",
   "execution_count": 61,
   "metadata": {
    "slideshow": {
     "slide_type": "-"
    }
   },
   "outputs": [
    {
     "name": "stdout",
     "output_type": "stream",
     "text": [
      "[ 1 22 41 45 61 79  9 21 23 38 42]\n"
     ]
    }
   ],
   "source": [
    "print(poly_svm.support_)"
   ]
  },
  {
   "cell_type": "markdown",
   "metadata": {
    "slideshow": {
     "slide_type": "fragment"
    }
   },
   "source": [
    "<center>$y = sign\\Big(-0.057(\\mathbf{x}_1^T\\mathbf{x}+1)^2 - 0.012(\\mathbf{x}_{41}^T\\mathbf{x}+1)^2 + 0.008(\\mathbf{x}_{42}^T\\mathbf{x}+1)^2 + 0.062(\\mathbf{x}_{62}^T\\mathbf{x}+1)^2\\Big)$"
   ]
  },
  {
   "cell_type": "markdown",
   "metadata": {
    "slideshow": {
     "slide_type": "slide"
    }
   },
   "source": [
    "# Runtime Considerations"
   ]
  },
  {
   "cell_type": "markdown",
   "metadata": {
    "slideshow": {
     "slide_type": "-"
    }
   },
   "source": [
    "<div>\n",
    "<center>\n",
    "<img src=\"img/image-14.jpg\" width=\"900\"/>\n",
    "</div>"
   ]
  },
  {
   "cell_type": "markdown",
   "metadata": {
    "slideshow": {
     "slide_type": "slide"
    }
   },
   "source": [
    "# Kernels in Practice"
   ]
  },
  {
   "cell_type": "markdown",
   "metadata": {
    "slideshow": {
     "slide_type": "-"
    }
   },
   "source": [
    "* Dual coefficients less interpretable\n",
    "* Long runtime for “large” datasets (100k samples)\n",
    "* Real power in infinite-dimensional spaces: rbf!\n",
    "* Rbf is “universal kernel” - can learn (aka overft) anything."
   ]
  },
  {
   "cell_type": "markdown",
   "metadata": {
    "slideshow": {
     "slide_type": "slide"
    }
   },
   "source": [
    "# Parameters for RBF Kernels"
   ]
  },
  {
   "cell_type": "markdown",
   "metadata": {
    "slideshow": {
     "slide_type": "-"
    }
   },
   "source": [
    "* Regularization parameter C is limit on alphas (for any kernel)\n",
    "* Gamma is bandwidth: $k_{rbf}(\\mathbf{x},\\mathbf{x'}) = exp(\\gamma||\\mathbf{x}^T - \\mathbf{x'}||^2)$"
   ]
  },
  {
   "cell_type": "code",
   "execution_count": 63,
   "metadata": {},
   "outputs": [
    {
     "data": {
      "text/plain": [
       "<matplotlib.legend.Legend at 0x203918f5d00>"
      ]
     },
     "execution_count": 63,
     "metadata": {},
     "output_type": "execute_result"
    },
    {
     "data": {
      "image/png": "[encoded data removed]",
      "text/plain": [
       "<Figure size 432x288 with 1 Axes>"
      ]
     },
     "metadata": {
      "needs_background": "light"
     },
     "output_type": "display_data"
    }
   ],
   "source": [
    "line = np.linspace(-50, 50, 1000)\n",
    "def rbf(gamma):\n",
    "    return np.exp(-gamma * line**2)\n",
    "\n",
    "for gamma in [1e-4, 1e-3, 1e-2, 1e-1, 1, 10]:\n",
    "    plt.plot(line, rbf(gamma), label=\"gamma={}\".format(gamma))\n",
    "plt.legend(loc=(1, 0))"
   ]
  },
  {
   "cell_type": "markdown",
   "metadata": {
    "slideshow": {
     "slide_type": "slide"
    }
   },
   "source": [
    "<div>\n",
    "<center>\n",
    "<img src=\"img/image-16.jpg\" width=\"900\"/>\n",
    "</div>"
   ]
  },
  {
   "cell_type": "markdown",
   "metadata": {
    "slideshow": {
     "slide_type": "slide"
    }
   },
   "source": [
    "# Scaling and Default Params"
   ]
  },
  {
   "cell_type": "code",
   "execution_count": 66,
   "metadata": {
    "slideshow": {
     "slide_type": "-"
    }
   },
   "outputs": [
    {
     "data": {
      "image/png": "[encoded data removed]",
      "text/plain": [
       "<Figure size 432x288 with 16 Axes>"
      ]
     },
     "metadata": {},
     "output_type": "display_data"
    }
   ],
   "source": [
    "from sklearn.model_selection import GridSearchCV, cross_val_score, train_test_split\n",
    "from sklearn.preprocessing import StandardScaler\n",
    "from sklearn.datasets import load_digits\n",
    "\n",
    "digits = load_digits()\n",
    "X_train, X_test, y_train, y_test = train_test_split(\n",
    "    digits.data, digits.target, stratify=digits.target, random_state=0)\n",
    "\n",
    "fig, axes = plt.subplots(4, 4)\n",
    "for x, y, ax in zip(X_train, y_train, axes.ravel()):\n",
    "    ax.set_title(y)\n",
    "    ax.imshow(x.reshape(8, 8), cmap=\"gray_r\")\n",
    "    ax.set_xticks(())\n",
    "    ax.set_yticks(())\n",
    "plt.tight_layout()"
   ]
  },
  {
   "cell_type": "code",
   "execution_count": 67,
   "metadata": {
    "slideshow": {
     "slide_type": "slide"
    }
   },
   "outputs": [
    {
     "name": "stdout",
     "output_type": "stream",
     "text": [
      "0.9873742399115534\n",
      "0.9769872857932558\n"
     ]
    }
   ],
   "source": [
    "scaled_svc = make_pipeline(StandardScaler(), SVC())\n",
    "print(np.mean(cross_val_score(SVC(), X_train, y_train, cv=10)))\n",
    "print(np.mean(cross_val_score(scaled_svc, X_train, y_train, cv=10)))"
   ]
  },
  {
   "cell_type": "code",
   "execution_count": 68,
   "metadata": {
    "slideshow": {
     "slide_type": "fragment"
    }
   },
   "outputs": [
    {
     "name": "stdout",
     "output_type": "stream",
     "text": [
      "0.9873742399115534\n"
     ]
    }
   ],
   "source": [
    "gamma = (1. / (X_train.shape[1] * X_train.var()))\n",
    "print(np.mean(cross_val_score(SVC(gamma=gamma), X_train, y_train, cv=10)))"
   ]
  },
  {
   "cell_type": "markdown",
   "metadata": {
    "slideshow": {
     "slide_type": "slide"
    }
   },
   "source": [
    "# Grid-Searching Parameters"
   ]
  },
  {
   "cell_type": "code",
   "execution_count": 72,
   "metadata": {
    "slideshow": {
     "slide_type": "-"
    }
   },
   "outputs": [
    {
     "data": {
      "text/plain": [
       "{'svc__C': array([  0.001,   0.01 ,   0.1  ,   1.   ,  10.   , 100.   ]),\n",
       " 'svc__gamma': array([0.   , 0.   , 0.   , 0.001, 0.007, 0.074])}"
      ]
     },
     "execution_count": 72,
     "metadata": {},
     "output_type": "execute_result"
    }
   ],
   "source": [
    "param_grid = {'svc__C': np.logspace(-3, 2, 6),\n",
    "              'svc__gamma': np.logspace(-3, 2, 6) / X_train.shape[0]}\n",
    "param_grid"
   ]
  },
  {
   "cell_type": "code",
   "execution_count": 73,
   "metadata": {},
   "outputs": [
    {
     "data": {
      "text/plain": [
       "GridSearchCV(cv=10,\n",
       "             estimator=Pipeline(steps=[('standardscaler', StandardScaler()),\n",
       "                                       ('svc', SVC())]),\n",
       "             param_grid={'svc__C': array([  0.001,   0.01 ,   0.1  ,   1.   ,  10.   , 100.   ]),\n",
       "                         'svc__gamma': array([0.   , 0.   , 0.   , 0.001, 0.007, 0.074])})"
      ]
     },
     "execution_count": 73,
     "metadata": {},
     "output_type": "execute_result"
    }
   ],
   "source": [
    "grid = GridSearchCV(scaled_svc, param_grid=param_grid, cv=10)\n",
    "grid.fit(X_train, y_train)"
   ]
  },
  {
   "cell_type": "markdown",
   "metadata": {
    "slideshow": {
     "slide_type": "fragment"
    }
   },
   "source": [
    "<div>\n",
    "<table><tr>\n",
    "    \n",
    "<td>   \n",
    "\n",
    "    \n",
    "2. **One Vs Rest** <br>\n",
    "**For 4 classes:**<br>\n",
    "1v{2,3,4}, 2v{1,3,4}, 3v{1,2,4}, 4v{1,2,3}<br>\n",
    "**In general:** <br>\n",
    "n binary classifiers - each on all data <br>\n",
    "</td>\n",
    "    \n",
    "<td>\n",
    "\n",
    "    \n",
    "1. **One Vs One** <br>\n",
    "**For 4 classes:**<br>\n",
    "1v2, 1v3, 1v4, 2v3, 2v4, 3v4<br>\n",
    "**In general:** <br>\n",
    "n * (n-1) / 2 binary classi{ers - each on a fraction of the data <br>\n",
    "Vote for highest positives\"<br>\n",
    "Classify by all classifiers.<br>\n",
    "Count how often each class was predicted.<br>\n",
    "Return most commonly predicted class.\n",
    "\n",
    "</td>\n",
    "\n",
    "</tr></table>"
   ]
  },
  {
   "cell_type": "code",
   "execution_count": null,
   "metadata": {},
   "outputs": [],
   "source": []
  },
  {
   "cell_type": "markdown",
   "metadata": {
    "slideshow": {
     "slide_type": "slide"
    }
   },
   "source": [
    "# Max-Margin and Support Vectors"
   ]
  },
  {
   "cell_type": "markdown",
   "metadata": {
    "slideshow": {
     "slide_type": "-"
    }
   },
   "source": [
    "<div>\n",
    "<center>\n",
    "<img src=\"img/image-5.jpg\" width=\"900\"/>\n",
    "</div>"
   ]
  },
  {
   "cell_type": "markdown",
   "metadata": {
    "slideshow": {
     "slide_type": "slide"
    }
   },
   "source": [
    "# Max-Margin and Support Vectors"
   ]
  },
  {
   "cell_type": "markdown",
   "metadata": {
    "slideshow": {
     "slide_type": "-"
    }
   },
   "source": [
    "<center>$\\min_{\\substack{w\\in I\\!R^{p}, b \\in I\\!R}} C\\sum_{i}^{n}max(0, 1 - y_i(w^T\\mathbf{x} + b)) + ||w||^2_2$\n",
    "    \n",
    "***\n",
    "    \n",
    "<center>Within margin $\\Longleftrightarrow y_i(w^T\\mathbf{x} + b) < 1 $\n",
    "    \n",
    "***\n",
    "    \n",
    "<center>Smaller $\\Longrightarrow$larger margin"
   ]
  },
  {
   "cell_type": "markdown",
   "metadata": {
    "slideshow": {
     "slide_type": "slide"
    }
   },
   "source": [
    "# Max-Margin and Support Vectors"
   ]
  },
  {
   "cell_type": "markdown",
   "metadata": {
    "slideshow": {
     "slide_type": "-"
    }
   },
   "source": [
    "<div>\n",
    "<center>\n",
    "<table><tr>\n",
    "<td><font size='8'><img src=\"img/image-6.jpg\" width=\"900\"/></td>\n",
    "<td><font size='8'><img src=\"img/image-7.jpg\" width=\"900\"/></td>\n",
    "</tr></table>"
   ]
  },
  {
   "cell_type": "markdown",
   "metadata": {},
   "source": [
    "<font size=\"25\"><center>Thank you!"
   ]
  }
 ],
 "metadata": {
  "celltoolbar": "Slideshow",
  "kernelspec": {
   "display_name": "Python 3",
   "language": "python",
   "name": "python3"
  },
  "language_info": {
   "codemirror_mode": {
    "name": "ipython",
    "version": 3
   },
   "file_extension": ".py",
   "mimetype": "text/x-python",
   "name": "python",
   "nbconvert_exporter": "python",
   "pygments_lexer": "ipython3",
   "version": "3.8.3"
  }
 },
 "nbformat": 4,
 "nbformat_minor": 4
}
